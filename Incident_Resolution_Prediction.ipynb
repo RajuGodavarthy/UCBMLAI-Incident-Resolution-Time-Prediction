{
  "nbformat": 4,
  "nbformat_minor": 0,
  "metadata": {
    "colab": {
      "provenance": [],
      "collapsed_sections": [
        "gOeamhnEjWCm"
      ],
      "authorship_tag": "ABX9TyOXLnPgNIFWDslF4AgYiJlc",
      "include_colab_link": true
    },
    "kernelspec": {
      "name": "python3",
      "display_name": "Python 3"
    },
    "language_info": {
      "name": "python"
    }
  },
  "cells": [
    {
      "cell_type": "markdown",
      "metadata": {
        "id": "view-in-github",
        "colab_type": "text"
      },
      "source": [
        "<a href=\"https://colab.research.google.com/github/RajuGodavarthy/UCBMLAI-Incident-Resolution-Time-Prediction/blob/main/Incident_Resolution_Prediction.ipynb\" target=\"_parent\"><img src=\"https://colab.research.google.com/assets/colab-badge.svg\" alt=\"Open In Colab\"/></a>"
      ]
    },
    {
      "cell_type": "markdown",
      "source": [
        "**Predict Incident Closure Time Using Machine Learning**\n",
        "\n",
        "**Objective:**\n",
        "\n",
        "The primary objective is to predict the estimated closure time of an incident (in hours or days) from its creation, based on the attributes collected from multiple incident stages."
      ],
      "metadata": {
        "id": "7JjeKWlyFDfq"
      }
    },
    {
      "cell_type": "markdown",
      "source": [
        "**Import Libraries**"
      ],
      "metadata": {
        "id": "Zlf10zfBqxNb"
      }
    },
    {
      "cell_type": "code",
      "execution_count": null,
      "metadata": {
        "id": "Wfd8EgFDp_9e"
      },
      "outputs": [],
      "source": [
        "import pandas as pd\n",
        "import numpy as np\n",
        "import seaborn as sns\n",
        "import matplotlib.pyplot as plt\n",
        "import warnings\n",
        "warnings.filterwarnings('ignore')\n",
        "from sklearn.model_selection import train_test_split\n",
        "from sklearn.linear_model import LinearRegression\n",
        "from sklearn.ensemble import RandomForestRegressor, GradientBoostingRegressor\n",
        "from sklearn.svm import SVR\n",
        "from xgboost import XGBRegressor\n",
        "from sklearn.metrics import mean_absolute_error, mean_squared_error\n",
        "import matplotlib.pyplot as plt\n"
      ]
    },
    {
      "cell_type": "markdown",
      "source": [
        "**Load Data**\n",
        "\n",
        "**Source:** UCI Machine Learning Repository\n",
        "\n",
        "This is an event log of an incident management process extracted from data gathered from the audit system of an instance of the ServiceNowTM platform used by an IT company. The event log is enriched with data loaded from a relational database underlying a corresponding process-aware information system\n"
      ],
      "metadata": {
        "id": "5cWvPWoprObD"
      }
    },
    {
      "cell_type": "code",
      "source": [
        "# Mounting Google drive to upload the data file\n",
        "\n",
        "from google.colab import drive\n",
        "drive.mount('/content/drive')"
      ],
      "metadata": {
        "colab": {
          "base_uri": "https://localhost:8080/"
        },
        "id": "9a-MRs3nuC0C",
        "outputId": "c005655f-c607-4b7c-b38d-b3b8f3a4911a"
      },
      "execution_count": null,
      "outputs": [
        {
          "output_type": "stream",
          "name": "stdout",
          "text": [
            "Drive already mounted at /content/drive; to attempt to forcibly remount, call drive.mount(\"/content/drive\", force_remount=True).\n"
          ]
        }
      ]
    },
    {
      "cell_type": "code",
      "source": [
        "# Load data from google drive\n",
        "data = pd.read_csv('/content/drive/MyDrive/UCB-PCMLAI/data/incident_event_log.csv')\n",
        "\n",
        "data.info()"
      ],
      "metadata": {
        "colab": {
          "base_uri": "https://localhost:8080/"
        },
        "id": "QVubzFX_wSG8",
        "outputId": "03cc2cfb-a393-4d01-df1e-3f15449bdb8f"
      },
      "execution_count": null,
      "outputs": [
        {
          "output_type": "stream",
          "name": "stdout",
          "text": [
            "<class 'pandas.core.frame.DataFrame'>\n",
            "RangeIndex: 141712 entries, 0 to 141711\n",
            "Data columns (total 36 columns):\n",
            " #   Column                   Non-Null Count   Dtype \n",
            "---  ------                   --------------   ----- \n",
            " 0   number                   141712 non-null  object\n",
            " 1   incident_state           141712 non-null  object\n",
            " 2   active                   141712 non-null  bool  \n",
            " 3   reassignment_count       141712 non-null  int64 \n",
            " 4   reopen_count             141712 non-null  int64 \n",
            " 5   sys_mod_count            141712 non-null  int64 \n",
            " 6   made_sla                 141712 non-null  bool  \n",
            " 7   caller_id                141712 non-null  object\n",
            " 8   opened_by                141712 non-null  object\n",
            " 9   opened_at                141712 non-null  object\n",
            " 10  sys_created_by           141712 non-null  object\n",
            " 11  sys_created_at           141712 non-null  object\n",
            " 12  sys_updated_by           141712 non-null  object\n",
            " 13  sys_updated_at           141712 non-null  object\n",
            " 14  contact_type             141712 non-null  object\n",
            " 15  location                 141712 non-null  object\n",
            " 16  category                 141712 non-null  object\n",
            " 17  subcategory              141712 non-null  object\n",
            " 18  u_symptom                141712 non-null  object\n",
            " 19  cmdb_ci                  141712 non-null  object\n",
            " 20  impact                   141712 non-null  object\n",
            " 21  urgency                  141712 non-null  object\n",
            " 22  priority                 141712 non-null  object\n",
            " 23  assignment_group         141712 non-null  object\n",
            " 24  assigned_to              141712 non-null  object\n",
            " 25  knowledge                141712 non-null  bool  \n",
            " 26  u_priority_confirmation  141712 non-null  bool  \n",
            " 27  notify                   141712 non-null  object\n",
            " 28  problem_id               141712 non-null  object\n",
            " 29  rfc                      141712 non-null  object\n",
            " 30  vendor                   141712 non-null  object\n",
            " 31  caused_by                141712 non-null  object\n",
            " 32  closed_code              141712 non-null  object\n",
            " 33  resolved_by              141712 non-null  object\n",
            " 34  resolved_at              141712 non-null  object\n",
            " 35  closed_at                141712 non-null  object\n",
            "dtypes: bool(4), int64(3), object(29)\n",
            "memory usage: 35.1+ MB\n"
          ]
        }
      ]
    },
    {
      "cell_type": "markdown",
      "source": [
        "**Data Analysis - Understaning the data and performing data clean up**"
      ],
      "metadata": {
        "id": "qL5V4DKTxzhe"
      }
    },
    {
      "cell_type": "code",
      "source": [
        "data"
      ],
      "metadata": {
        "colab": {
          "base_uri": "https://localhost:8080/",
          "height": 617
        },
        "id": "LrjLLIfaxYA9",
        "outputId": "66e5a1bf-1821-4df3-ca79-8a933ddc734b"
      },
      "execution_count": null,
      "outputs": [
        {
          "output_type": "execute_result",
          "data": {
            "text/plain": [
              "            number incident_state  active  reassignment_count  reopen_count  \\\n",
              "0       INC0000045            New    True                   0             0   \n",
              "1       INC0000045       Resolved    True                   0             0   \n",
              "2       INC0000045       Resolved    True                   0             0   \n",
              "3       INC0000045         Closed   False                   0             0   \n",
              "4       INC0000047            New    True                   0             0   \n",
              "...            ...            ...     ...                 ...           ...   \n",
              "141707  INC0120835         Closed   False                   1             0   \n",
              "141708  INC0121064         Active    True                   0             0   \n",
              "141709  INC0121064         Active    True                   1             0   \n",
              "141710  INC0121064       Resolved    True                   1             0   \n",
              "141711  INC0121064         Closed   False                   1             0   \n",
              "\n",
              "        sys_mod_count  made_sla    caller_id       opened_by        opened_at  \\\n",
              "0                   0      True  Caller 2403    Opened by  8  29/2/2016 01:16   \n",
              "1                   2      True  Caller 2403    Opened by  8  29/2/2016 01:16   \n",
              "2                   3      True  Caller 2403    Opened by  8  29/2/2016 01:16   \n",
              "3                   4      True  Caller 2403    Opened by  8  29/2/2016 01:16   \n",
              "4                   0      True  Caller 2403  Opened by  397  29/2/2016 04:40   \n",
              "...               ...       ...          ...             ...              ...   \n",
              "141707              4      True   Caller 116   Opened by  12  16/2/2017 09:09   \n",
              "141708              0      True   Caller 116   Opened by  12  16/2/2017 14:17   \n",
              "141709              1      True   Caller 116   Opened by  12  16/2/2017 14:17   \n",
              "141710              2      True   Caller 116   Opened by  12  16/2/2017 14:17   \n",
              "141711              3      True   Caller 116   Opened by  12  16/2/2017 14:17   \n",
              "\n",
              "        ... u_priority_confirmation         notify problem_id rfc vendor  \\\n",
              "0       ...                   False  Do Not Notify          ?   ?      ?   \n",
              "1       ...                   False  Do Not Notify          ?   ?      ?   \n",
              "2       ...                   False  Do Not Notify          ?   ?      ?   \n",
              "3       ...                   False  Do Not Notify          ?   ?      ?   \n",
              "4       ...                   False  Do Not Notify          ?   ?      ?   \n",
              "...     ...                     ...            ...        ...  ..    ...   \n",
              "141707  ...                    True  Do Not Notify          ?   ?      ?   \n",
              "141708  ...                   False  Do Not Notify          ?   ?      ?   \n",
              "141709  ...                   False  Do Not Notify          ?   ?      ?   \n",
              "141710  ...                    True  Do Not Notify          ?   ?      ?   \n",
              "141711  ...                    True  Do Not Notify          ?   ?      ?   \n",
              "\n",
              "       caused_by closed_code      resolved_by      resolved_at  \\\n",
              "0              ?      code 5  Resolved by 149  29/2/2016 11:29   \n",
              "1              ?      code 5  Resolved by 149  29/2/2016 11:29   \n",
              "2              ?      code 5  Resolved by 149  29/2/2016 11:29   \n",
              "3              ?      code 5  Resolved by 149  29/2/2016 11:29   \n",
              "4              ?      code 5   Resolved by 81   1/3/2016 09:52   \n",
              "...          ...         ...              ...              ...   \n",
              "141707         ?      code 9    Resolved by 9  16/2/2017 09:53   \n",
              "141708         ?      code 6    Resolved by 9  16/2/2017 16:38   \n",
              "141709         ?      code 6    Resolved by 9  16/2/2017 16:38   \n",
              "141710         ?      code 6    Resolved by 9  16/2/2017 16:38   \n",
              "141711         ?      code 6    Resolved by 9  16/2/2017 16:38   \n",
              "\n",
              "              closed_at  \n",
              "0        5/3/2016 12:00  \n",
              "1        5/3/2016 12:00  \n",
              "2        5/3/2016 12:00  \n",
              "3        5/3/2016 12:00  \n",
              "4        6/3/2016 10:00  \n",
              "...                 ...  \n",
              "141707  16/2/2017 09:53  \n",
              "141708  16/2/2017 16:38  \n",
              "141709  16/2/2017 16:38  \n",
              "141710  16/2/2017 16:38  \n",
              "141711  16/2/2017 16:38  \n",
              "\n",
              "[141712 rows x 36 columns]"
            ],
            "text/html": [
              "\n",
              "  <div id=\"df-ac69c54b-b329-4629-85bf-ef3186b051eb\" class=\"colab-df-container\">\n",
              "    <div>\n",
              "<style scoped>\n",
              "    .dataframe tbody tr th:only-of-type {\n",
              "        vertical-align: middle;\n",
              "    }\n",
              "\n",
              "    .dataframe tbody tr th {\n",
              "        vertical-align: top;\n",
              "    }\n",
              "\n",
              "    .dataframe thead th {\n",
              "        text-align: right;\n",
              "    }\n",
              "</style>\n",
              "<table border=\"1\" class=\"dataframe\">\n",
              "  <thead>\n",
              "    <tr style=\"text-align: right;\">\n",
              "      <th></th>\n",
              "      <th>number</th>\n",
              "      <th>incident_state</th>\n",
              "      <th>active</th>\n",
              "      <th>reassignment_count</th>\n",
              "      <th>reopen_count</th>\n",
              "      <th>sys_mod_count</th>\n",
              "      <th>made_sla</th>\n",
              "      <th>caller_id</th>\n",
              "      <th>opened_by</th>\n",
              "      <th>opened_at</th>\n",
              "      <th>...</th>\n",
              "      <th>u_priority_confirmation</th>\n",
              "      <th>notify</th>\n",
              "      <th>problem_id</th>\n",
              "      <th>rfc</th>\n",
              "      <th>vendor</th>\n",
              "      <th>caused_by</th>\n",
              "      <th>closed_code</th>\n",
              "      <th>resolved_by</th>\n",
              "      <th>resolved_at</th>\n",
              "      <th>closed_at</th>\n",
              "    </tr>\n",
              "  </thead>\n",
              "  <tbody>\n",
              "    <tr>\n",
              "      <th>0</th>\n",
              "      <td>INC0000045</td>\n",
              "      <td>New</td>\n",
              "      <td>True</td>\n",
              "      <td>0</td>\n",
              "      <td>0</td>\n",
              "      <td>0</td>\n",
              "      <td>True</td>\n",
              "      <td>Caller 2403</td>\n",
              "      <td>Opened by  8</td>\n",
              "      <td>29/2/2016 01:16</td>\n",
              "      <td>...</td>\n",
              "      <td>False</td>\n",
              "      <td>Do Not Notify</td>\n",
              "      <td>?</td>\n",
              "      <td>?</td>\n",
              "      <td>?</td>\n",
              "      <td>?</td>\n",
              "      <td>code 5</td>\n",
              "      <td>Resolved by 149</td>\n",
              "      <td>29/2/2016 11:29</td>\n",
              "      <td>5/3/2016 12:00</td>\n",
              "    </tr>\n",
              "    <tr>\n",
              "      <th>1</th>\n",
              "      <td>INC0000045</td>\n",
              "      <td>Resolved</td>\n",
              "      <td>True</td>\n",
              "      <td>0</td>\n",
              "      <td>0</td>\n",
              "      <td>2</td>\n",
              "      <td>True</td>\n",
              "      <td>Caller 2403</td>\n",
              "      <td>Opened by  8</td>\n",
              "      <td>29/2/2016 01:16</td>\n",
              "      <td>...</td>\n",
              "      <td>False</td>\n",
              "      <td>Do Not Notify</td>\n",
              "      <td>?</td>\n",
              "      <td>?</td>\n",
              "      <td>?</td>\n",
              "      <td>?</td>\n",
              "      <td>code 5</td>\n",
              "      <td>Resolved by 149</td>\n",
              "      <td>29/2/2016 11:29</td>\n",
              "      <td>5/3/2016 12:00</td>\n",
              "    </tr>\n",
              "    <tr>\n",
              "      <th>2</th>\n",
              "      <td>INC0000045</td>\n",
              "      <td>Resolved</td>\n",
              "      <td>True</td>\n",
              "      <td>0</td>\n",
              "      <td>0</td>\n",
              "      <td>3</td>\n",
              "      <td>True</td>\n",
              "      <td>Caller 2403</td>\n",
              "      <td>Opened by  8</td>\n",
              "      <td>29/2/2016 01:16</td>\n",
              "      <td>...</td>\n",
              "      <td>False</td>\n",
              "      <td>Do Not Notify</td>\n",
              "      <td>?</td>\n",
              "      <td>?</td>\n",
              "      <td>?</td>\n",
              "      <td>?</td>\n",
              "      <td>code 5</td>\n",
              "      <td>Resolved by 149</td>\n",
              "      <td>29/2/2016 11:29</td>\n",
              "      <td>5/3/2016 12:00</td>\n",
              "    </tr>\n",
              "    <tr>\n",
              "      <th>3</th>\n",
              "      <td>INC0000045</td>\n",
              "      <td>Closed</td>\n",
              "      <td>False</td>\n",
              "      <td>0</td>\n",
              "      <td>0</td>\n",
              "      <td>4</td>\n",
              "      <td>True</td>\n",
              "      <td>Caller 2403</td>\n",
              "      <td>Opened by  8</td>\n",
              "      <td>29/2/2016 01:16</td>\n",
              "      <td>...</td>\n",
              "      <td>False</td>\n",
              "      <td>Do Not Notify</td>\n",
              "      <td>?</td>\n",
              "      <td>?</td>\n",
              "      <td>?</td>\n",
              "      <td>?</td>\n",
              "      <td>code 5</td>\n",
              "      <td>Resolved by 149</td>\n",
              "      <td>29/2/2016 11:29</td>\n",
              "      <td>5/3/2016 12:00</td>\n",
              "    </tr>\n",
              "    <tr>\n",
              "      <th>4</th>\n",
              "      <td>INC0000047</td>\n",
              "      <td>New</td>\n",
              "      <td>True</td>\n",
              "      <td>0</td>\n",
              "      <td>0</td>\n",
              "      <td>0</td>\n",
              "      <td>True</td>\n",
              "      <td>Caller 2403</td>\n",
              "      <td>Opened by  397</td>\n",
              "      <td>29/2/2016 04:40</td>\n",
              "      <td>...</td>\n",
              "      <td>False</td>\n",
              "      <td>Do Not Notify</td>\n",
              "      <td>?</td>\n",
              "      <td>?</td>\n",
              "      <td>?</td>\n",
              "      <td>?</td>\n",
              "      <td>code 5</td>\n",
              "      <td>Resolved by 81</td>\n",
              "      <td>1/3/2016 09:52</td>\n",
              "      <td>6/3/2016 10:00</td>\n",
              "    </tr>\n",
              "    <tr>\n",
              "      <th>...</th>\n",
              "      <td>...</td>\n",
              "      <td>...</td>\n",
              "      <td>...</td>\n",
              "      <td>...</td>\n",
              "      <td>...</td>\n",
              "      <td>...</td>\n",
              "      <td>...</td>\n",
              "      <td>...</td>\n",
              "      <td>...</td>\n",
              "      <td>...</td>\n",
              "      <td>...</td>\n",
              "      <td>...</td>\n",
              "      <td>...</td>\n",
              "      <td>...</td>\n",
              "      <td>...</td>\n",
              "      <td>...</td>\n",
              "      <td>...</td>\n",
              "      <td>...</td>\n",
              "      <td>...</td>\n",
              "      <td>...</td>\n",
              "      <td>...</td>\n",
              "    </tr>\n",
              "    <tr>\n",
              "      <th>141707</th>\n",
              "      <td>INC0120835</td>\n",
              "      <td>Closed</td>\n",
              "      <td>False</td>\n",
              "      <td>1</td>\n",
              "      <td>0</td>\n",
              "      <td>4</td>\n",
              "      <td>True</td>\n",
              "      <td>Caller 116</td>\n",
              "      <td>Opened by  12</td>\n",
              "      <td>16/2/2017 09:09</td>\n",
              "      <td>...</td>\n",
              "      <td>True</td>\n",
              "      <td>Do Not Notify</td>\n",
              "      <td>?</td>\n",
              "      <td>?</td>\n",
              "      <td>?</td>\n",
              "      <td>?</td>\n",
              "      <td>code 9</td>\n",
              "      <td>Resolved by 9</td>\n",
              "      <td>16/2/2017 09:53</td>\n",
              "      <td>16/2/2017 09:53</td>\n",
              "    </tr>\n",
              "    <tr>\n",
              "      <th>141708</th>\n",
              "      <td>INC0121064</td>\n",
              "      <td>Active</td>\n",
              "      <td>True</td>\n",
              "      <td>0</td>\n",
              "      <td>0</td>\n",
              "      <td>0</td>\n",
              "      <td>True</td>\n",
              "      <td>Caller 116</td>\n",
              "      <td>Opened by  12</td>\n",
              "      <td>16/2/2017 14:17</td>\n",
              "      <td>...</td>\n",
              "      <td>False</td>\n",
              "      <td>Do Not Notify</td>\n",
              "      <td>?</td>\n",
              "      <td>?</td>\n",
              "      <td>?</td>\n",
              "      <td>?</td>\n",
              "      <td>code 6</td>\n",
              "      <td>Resolved by 9</td>\n",
              "      <td>16/2/2017 16:38</td>\n",
              "      <td>16/2/2017 16:38</td>\n",
              "    </tr>\n",
              "    <tr>\n",
              "      <th>141709</th>\n",
              "      <td>INC0121064</td>\n",
              "      <td>Active</td>\n",
              "      <td>True</td>\n",
              "      <td>1</td>\n",
              "      <td>0</td>\n",
              "      <td>1</td>\n",
              "      <td>True</td>\n",
              "      <td>Caller 116</td>\n",
              "      <td>Opened by  12</td>\n",
              "      <td>16/2/2017 14:17</td>\n",
              "      <td>...</td>\n",
              "      <td>False</td>\n",
              "      <td>Do Not Notify</td>\n",
              "      <td>?</td>\n",
              "      <td>?</td>\n",
              "      <td>?</td>\n",
              "      <td>?</td>\n",
              "      <td>code 6</td>\n",
              "      <td>Resolved by 9</td>\n",
              "      <td>16/2/2017 16:38</td>\n",
              "      <td>16/2/2017 16:38</td>\n",
              "    </tr>\n",
              "    <tr>\n",
              "      <th>141710</th>\n",
              "      <td>INC0121064</td>\n",
              "      <td>Resolved</td>\n",
              "      <td>True</td>\n",
              "      <td>1</td>\n",
              "      <td>0</td>\n",
              "      <td>2</td>\n",
              "      <td>True</td>\n",
              "      <td>Caller 116</td>\n",
              "      <td>Opened by  12</td>\n",
              "      <td>16/2/2017 14:17</td>\n",
              "      <td>...</td>\n",
              "      <td>True</td>\n",
              "      <td>Do Not Notify</td>\n",
              "      <td>?</td>\n",
              "      <td>?</td>\n",
              "      <td>?</td>\n",
              "      <td>?</td>\n",
              "      <td>code 6</td>\n",
              "      <td>Resolved by 9</td>\n",
              "      <td>16/2/2017 16:38</td>\n",
              "      <td>16/2/2017 16:38</td>\n",
              "    </tr>\n",
              "    <tr>\n",
              "      <th>141711</th>\n",
              "      <td>INC0121064</td>\n",
              "      <td>Closed</td>\n",
              "      <td>False</td>\n",
              "      <td>1</td>\n",
              "      <td>0</td>\n",
              "      <td>3</td>\n",
              "      <td>True</td>\n",
              "      <td>Caller 116</td>\n",
              "      <td>Opened by  12</td>\n",
              "      <td>16/2/2017 14:17</td>\n",
              "      <td>...</td>\n",
              "      <td>True</td>\n",
              "      <td>Do Not Notify</td>\n",
              "      <td>?</td>\n",
              "      <td>?</td>\n",
              "      <td>?</td>\n",
              "      <td>?</td>\n",
              "      <td>code 6</td>\n",
              "      <td>Resolved by 9</td>\n",
              "      <td>16/2/2017 16:38</td>\n",
              "      <td>16/2/2017 16:38</td>\n",
              "    </tr>\n",
              "  </tbody>\n",
              "</table>\n",
              "<p>141712 rows × 36 columns</p>\n",
              "</div>\n",
              "    <div class=\"colab-df-buttons\">\n",
              "\n",
              "  <div class=\"colab-df-container\">\n",
              "    <button class=\"colab-df-convert\" onclick=\"convertToInteractive('df-ac69c54b-b329-4629-85bf-ef3186b051eb')\"\n",
              "            title=\"Convert this dataframe to an interactive table.\"\n",
              "            style=\"display:none;\">\n",
              "\n",
              "  <svg xmlns=\"http://www.w3.org/2000/svg\" height=\"24px\" viewBox=\"0 -960 960 960\">\n",
              "    <path d=\"M120-120v-720h720v720H120Zm60-500h600v-160H180v160Zm220 220h160v-160H400v160Zm0 220h160v-160H400v160ZM180-400h160v-160H180v160Zm440 0h160v-160H620v160ZM180-180h160v-160H180v160Zm440 0h160v-160H620v160Z\"/>\n",
              "  </svg>\n",
              "    </button>\n",
              "\n",
              "  <style>\n",
              "    .colab-df-container {\n",
              "      display:flex;\n",
              "      gap: 12px;\n",
              "    }\n",
              "\n",
              "    .colab-df-convert {\n",
              "      background-color: #E8F0FE;\n",
              "      border: none;\n",
              "      border-radius: 50%;\n",
              "      cursor: pointer;\n",
              "      display: none;\n",
              "      fill: #1967D2;\n",
              "      height: 32px;\n",
              "      padding: 0 0 0 0;\n",
              "      width: 32px;\n",
              "    }\n",
              "\n",
              "    .colab-df-convert:hover {\n",
              "      background-color: #E2EBFA;\n",
              "      box-shadow: 0px 1px 2px rgba(60, 64, 67, 0.3), 0px 1px 3px 1px rgba(60, 64, 67, 0.15);\n",
              "      fill: #174EA6;\n",
              "    }\n",
              "\n",
              "    .colab-df-buttons div {\n",
              "      margin-bottom: 4px;\n",
              "    }\n",
              "\n",
              "    [theme=dark] .colab-df-convert {\n",
              "      background-color: #3B4455;\n",
              "      fill: #D2E3FC;\n",
              "    }\n",
              "\n",
              "    [theme=dark] .colab-df-convert:hover {\n",
              "      background-color: #434B5C;\n",
              "      box-shadow: 0px 1px 3px 1px rgba(0, 0, 0, 0.15);\n",
              "      filter: drop-shadow(0px 1px 2px rgba(0, 0, 0, 0.3));\n",
              "      fill: #FFFFFF;\n",
              "    }\n",
              "  </style>\n",
              "\n",
              "    <script>\n",
              "      const buttonEl =\n",
              "        document.querySelector('#df-ac69c54b-b329-4629-85bf-ef3186b051eb button.colab-df-convert');\n",
              "      buttonEl.style.display =\n",
              "        google.colab.kernel.accessAllowed ? 'block' : 'none';\n",
              "\n",
              "      async function convertToInteractive(key) {\n",
              "        const element = document.querySelector('#df-ac69c54b-b329-4629-85bf-ef3186b051eb');\n",
              "        const dataTable =\n",
              "          await google.colab.kernel.invokeFunction('convertToInteractive',\n",
              "                                                    [key], {});\n",
              "        if (!dataTable) return;\n",
              "\n",
              "        const docLinkHtml = 'Like what you see? Visit the ' +\n",
              "          '<a target=\"_blank\" href=https://colab.research.google.com/notebooks/data_table.ipynb>data table notebook</a>'\n",
              "          + ' to learn more about interactive tables.';\n",
              "        element.innerHTML = '';\n",
              "        dataTable['output_type'] = 'display_data';\n",
              "        await google.colab.output.renderOutput(dataTable, element);\n",
              "        const docLink = document.createElement('div');\n",
              "        docLink.innerHTML = docLinkHtml;\n",
              "        element.appendChild(docLink);\n",
              "      }\n",
              "    </script>\n",
              "  </div>\n",
              "\n",
              "\n",
              "<div id=\"df-ca691944-b1e5-431f-83a3-d6aad7ababea\">\n",
              "  <button class=\"colab-df-quickchart\" onclick=\"quickchart('df-ca691944-b1e5-431f-83a3-d6aad7ababea')\"\n",
              "            title=\"Suggest charts\"\n",
              "            style=\"display:none;\">\n",
              "\n",
              "<svg xmlns=\"http://www.w3.org/2000/svg\" height=\"24px\"viewBox=\"0 0 24 24\"\n",
              "     width=\"24px\">\n",
              "    <g>\n",
              "        <path d=\"M19 3H5c-1.1 0-2 .9-2 2v14c0 1.1.9 2 2 2h14c1.1 0 2-.9 2-2V5c0-1.1-.9-2-2-2zM9 17H7v-7h2v7zm4 0h-2V7h2v10zm4 0h-2v-4h2v4z\"/>\n",
              "    </g>\n",
              "</svg>\n",
              "  </button>\n",
              "\n",
              "<style>\n",
              "  .colab-df-quickchart {\n",
              "      --bg-color: #E8F0FE;\n",
              "      --fill-color: #1967D2;\n",
              "      --hover-bg-color: #E2EBFA;\n",
              "      --hover-fill-color: #174EA6;\n",
              "      --disabled-fill-color: #AAA;\n",
              "      --disabled-bg-color: #DDD;\n",
              "  }\n",
              "\n",
              "  [theme=dark] .colab-df-quickchart {\n",
              "      --bg-color: #3B4455;\n",
              "      --fill-color: #D2E3FC;\n",
              "      --hover-bg-color: #434B5C;\n",
              "      --hover-fill-color: #FFFFFF;\n",
              "      --disabled-bg-color: #3B4455;\n",
              "      --disabled-fill-color: #666;\n",
              "  }\n",
              "\n",
              "  .colab-df-quickchart {\n",
              "    background-color: var(--bg-color);\n",
              "    border: none;\n",
              "    border-radius: 50%;\n",
              "    cursor: pointer;\n",
              "    display: none;\n",
              "    fill: var(--fill-color);\n",
              "    height: 32px;\n",
              "    padding: 0;\n",
              "    width: 32px;\n",
              "  }\n",
              "\n",
              "  .colab-df-quickchart:hover {\n",
              "    background-color: var(--hover-bg-color);\n",
              "    box-shadow: 0 1px 2px rgba(60, 64, 67, 0.3), 0 1px 3px 1px rgba(60, 64, 67, 0.15);\n",
              "    fill: var(--button-hover-fill-color);\n",
              "  }\n",
              "\n",
              "  .colab-df-quickchart-complete:disabled,\n",
              "  .colab-df-quickchart-complete:disabled:hover {\n",
              "    background-color: var(--disabled-bg-color);\n",
              "    fill: var(--disabled-fill-color);\n",
              "    box-shadow: none;\n",
              "  }\n",
              "\n",
              "  .colab-df-spinner {\n",
              "    border: 2px solid var(--fill-color);\n",
              "    border-color: transparent;\n",
              "    border-bottom-color: var(--fill-color);\n",
              "    animation:\n",
              "      spin 1s steps(1) infinite;\n",
              "  }\n",
              "\n",
              "  @keyframes spin {\n",
              "    0% {\n",
              "      border-color: transparent;\n",
              "      border-bottom-color: var(--fill-color);\n",
              "      border-left-color: var(--fill-color);\n",
              "    }\n",
              "    20% {\n",
              "      border-color: transparent;\n",
              "      border-left-color: var(--fill-color);\n",
              "      border-top-color: var(--fill-color);\n",
              "    }\n",
              "    30% {\n",
              "      border-color: transparent;\n",
              "      border-left-color: var(--fill-color);\n",
              "      border-top-color: var(--fill-color);\n",
              "      border-right-color: var(--fill-color);\n",
              "    }\n",
              "    40% {\n",
              "      border-color: transparent;\n",
              "      border-right-color: var(--fill-color);\n",
              "      border-top-color: var(--fill-color);\n",
              "    }\n",
              "    60% {\n",
              "      border-color: transparent;\n",
              "      border-right-color: var(--fill-color);\n",
              "    }\n",
              "    80% {\n",
              "      border-color: transparent;\n",
              "      border-right-color: var(--fill-color);\n",
              "      border-bottom-color: var(--fill-color);\n",
              "    }\n",
              "    90% {\n",
              "      border-color: transparent;\n",
              "      border-bottom-color: var(--fill-color);\n",
              "    }\n",
              "  }\n",
              "</style>\n",
              "\n",
              "  <script>\n",
              "    async function quickchart(key) {\n",
              "      const quickchartButtonEl =\n",
              "        document.querySelector('#' + key + ' button');\n",
              "      quickchartButtonEl.disabled = true;  // To prevent multiple clicks.\n",
              "      quickchartButtonEl.classList.add('colab-df-spinner');\n",
              "      try {\n",
              "        const charts = await google.colab.kernel.invokeFunction(\n",
              "            'suggestCharts', [key], {});\n",
              "      } catch (error) {\n",
              "        console.error('Error during call to suggestCharts:', error);\n",
              "      }\n",
              "      quickchartButtonEl.classList.remove('colab-df-spinner');\n",
              "      quickchartButtonEl.classList.add('colab-df-quickchart-complete');\n",
              "    }\n",
              "    (() => {\n",
              "      let quickchartButtonEl =\n",
              "        document.querySelector('#df-ca691944-b1e5-431f-83a3-d6aad7ababea button');\n",
              "      quickchartButtonEl.style.display =\n",
              "        google.colab.kernel.accessAllowed ? 'block' : 'none';\n",
              "    })();\n",
              "  </script>\n",
              "</div>\n",
              "\n",
              "  <div id=\"id_e4cb851d-86bb-4058-979c-ff90bf1e43b4\">\n",
              "    <style>\n",
              "      .colab-df-generate {\n",
              "        background-color: #E8F0FE;\n",
              "        border: none;\n",
              "        border-radius: 50%;\n",
              "        cursor: pointer;\n",
              "        display: none;\n",
              "        fill: #1967D2;\n",
              "        height: 32px;\n",
              "        padding: 0 0 0 0;\n",
              "        width: 32px;\n",
              "      }\n",
              "\n",
              "      .colab-df-generate:hover {\n",
              "        background-color: #E2EBFA;\n",
              "        box-shadow: 0px 1px 2px rgba(60, 64, 67, 0.3), 0px 1px 3px 1px rgba(60, 64, 67, 0.15);\n",
              "        fill: #174EA6;\n",
              "      }\n",
              "\n",
              "      [theme=dark] .colab-df-generate {\n",
              "        background-color: #3B4455;\n",
              "        fill: #D2E3FC;\n",
              "      }\n",
              "\n",
              "      [theme=dark] .colab-df-generate:hover {\n",
              "        background-color: #434B5C;\n",
              "        box-shadow: 0px 1px 3px 1px rgba(0, 0, 0, 0.15);\n",
              "        filter: drop-shadow(0px 1px 2px rgba(0, 0, 0, 0.3));\n",
              "        fill: #FFFFFF;\n",
              "      }\n",
              "    </style>\n",
              "    <button class=\"colab-df-generate\" onclick=\"generateWithVariable('data')\"\n",
              "            title=\"Generate code using this dataframe.\"\n",
              "            style=\"display:none;\">\n",
              "\n",
              "  <svg xmlns=\"http://www.w3.org/2000/svg\" height=\"24px\"viewBox=\"0 0 24 24\"\n",
              "       width=\"24px\">\n",
              "    <path d=\"M7,19H8.4L18.45,9,17,7.55,7,17.6ZM5,21V16.75L18.45,3.32a2,2,0,0,1,2.83,0l1.4,1.43a1.91,1.91,0,0,1,.58,1.4,1.91,1.91,0,0,1-.58,1.4L9.25,21ZM18.45,9,17,7.55Zm-12,3A5.31,5.31,0,0,0,4.9,8.1,5.31,5.31,0,0,0,1,6.5,5.31,5.31,0,0,0,4.9,4.9,5.31,5.31,0,0,0,6.5,1,5.31,5.31,0,0,0,8.1,4.9,5.31,5.31,0,0,0,12,6.5,5.46,5.46,0,0,0,6.5,12Z\"/>\n",
              "  </svg>\n",
              "    </button>\n",
              "    <script>\n",
              "      (() => {\n",
              "      const buttonEl =\n",
              "        document.querySelector('#id_e4cb851d-86bb-4058-979c-ff90bf1e43b4 button.colab-df-generate');\n",
              "      buttonEl.style.display =\n",
              "        google.colab.kernel.accessAllowed ? 'block' : 'none';\n",
              "\n",
              "      buttonEl.onclick = () => {\n",
              "        google.colab.notebook.generateWithVariable('data');\n",
              "      }\n",
              "      })();\n",
              "    </script>\n",
              "  </div>\n",
              "\n",
              "    </div>\n",
              "  </div>\n"
            ],
            "application/vnd.google.colaboratory.intrinsic+json": {
              "type": "dataframe",
              "variable_name": "data"
            }
          },
          "metadata": {},
          "execution_count": 123
        }
      ]
    },
    {
      "cell_type": "code",
      "source": [
        "data.shape"
      ],
      "metadata": {
        "colab": {
          "base_uri": "https://localhost:8080/"
        },
        "id": "usgeaBWRxoxs",
        "outputId": "d74cdd21-d9ad-4f39-8092-df1c3e983908"
      },
      "execution_count": null,
      "outputs": [
        {
          "output_type": "execute_result",
          "data": {
            "text/plain": [
              "(141712, 36)"
            ]
          },
          "metadata": {},
          "execution_count": 124
        }
      ]
    },
    {
      "cell_type": "code",
      "source": [
        "data.columns"
      ],
      "metadata": {
        "colab": {
          "base_uri": "https://localhost:8080/"
        },
        "id": "GxW45hG0xsCe",
        "outputId": "b9683bee-11ba-443a-91d1-7bf3edaeeec9"
      },
      "execution_count": null,
      "outputs": [
        {
          "output_type": "execute_result",
          "data": {
            "text/plain": [
              "Index(['number', 'incident_state', 'active', 'reassignment_count',\n",
              "       'reopen_count', 'sys_mod_count', 'made_sla', 'caller_id', 'opened_by',\n",
              "       'opened_at', 'sys_created_by', 'sys_created_at', 'sys_updated_by',\n",
              "       'sys_updated_at', 'contact_type', 'location', 'category', 'subcategory',\n",
              "       'u_symptom', 'cmdb_ci', 'impact', 'urgency', 'priority',\n",
              "       'assignment_group', 'assigned_to', 'knowledge',\n",
              "       'u_priority_confirmation', 'notify', 'problem_id', 'rfc', 'vendor',\n",
              "       'caused_by', 'closed_code', 'resolved_by', 'resolved_at', 'closed_at'],\n",
              "      dtype='object')"
            ]
          },
          "metadata": {},
          "execution_count": 125
        }
      ]
    },
    {
      "cell_type": "code",
      "source": [
        "data.describe()"
      ],
      "metadata": {
        "colab": {
          "base_uri": "https://localhost:8080/",
          "height": 300
        },
        "id": "PHboDKs300-p",
        "outputId": "4bc1aecf-3dee-423e-9979-682d330908c0"
      },
      "execution_count": null,
      "outputs": [
        {
          "output_type": "execute_result",
          "data": {
            "text/plain": [
              "       reassignment_count   reopen_count  sys_mod_count\n",
              "count       141712.000000  141712.000000  141712.000000\n",
              "mean             1.104197       0.021918       5.080946\n",
              "std              1.734673       0.207302       7.680652\n",
              "min              0.000000       0.000000       0.000000\n",
              "25%              0.000000       0.000000       1.000000\n",
              "50%              1.000000       0.000000       3.000000\n",
              "75%              1.000000       0.000000       6.000000\n",
              "max             27.000000       8.000000     129.000000"
            ],
            "text/html": [
              "\n",
              "  <div id=\"df-96cd13d6-a9c0-4734-b9c9-8ca5cb33b139\" class=\"colab-df-container\">\n",
              "    <div>\n",
              "<style scoped>\n",
              "    .dataframe tbody tr th:only-of-type {\n",
              "        vertical-align: middle;\n",
              "    }\n",
              "\n",
              "    .dataframe tbody tr th {\n",
              "        vertical-align: top;\n",
              "    }\n",
              "\n",
              "    .dataframe thead th {\n",
              "        text-align: right;\n",
              "    }\n",
              "</style>\n",
              "<table border=\"1\" class=\"dataframe\">\n",
              "  <thead>\n",
              "    <tr style=\"text-align: right;\">\n",
              "      <th></th>\n",
              "      <th>reassignment_count</th>\n",
              "      <th>reopen_count</th>\n",
              "      <th>sys_mod_count</th>\n",
              "    </tr>\n",
              "  </thead>\n",
              "  <tbody>\n",
              "    <tr>\n",
              "      <th>count</th>\n",
              "      <td>141712.000000</td>\n",
              "      <td>141712.000000</td>\n",
              "      <td>141712.000000</td>\n",
              "    </tr>\n",
              "    <tr>\n",
              "      <th>mean</th>\n",
              "      <td>1.104197</td>\n",
              "      <td>0.021918</td>\n",
              "      <td>5.080946</td>\n",
              "    </tr>\n",
              "    <tr>\n",
              "      <th>std</th>\n",
              "      <td>1.734673</td>\n",
              "      <td>0.207302</td>\n",
              "      <td>7.680652</td>\n",
              "    </tr>\n",
              "    <tr>\n",
              "      <th>min</th>\n",
              "      <td>0.000000</td>\n",
              "      <td>0.000000</td>\n",
              "      <td>0.000000</td>\n",
              "    </tr>\n",
              "    <tr>\n",
              "      <th>25%</th>\n",
              "      <td>0.000000</td>\n",
              "      <td>0.000000</td>\n",
              "      <td>1.000000</td>\n",
              "    </tr>\n",
              "    <tr>\n",
              "      <th>50%</th>\n",
              "      <td>1.000000</td>\n",
              "      <td>0.000000</td>\n",
              "      <td>3.000000</td>\n",
              "    </tr>\n",
              "    <tr>\n",
              "      <th>75%</th>\n",
              "      <td>1.000000</td>\n",
              "      <td>0.000000</td>\n",
              "      <td>6.000000</td>\n",
              "    </tr>\n",
              "    <tr>\n",
              "      <th>max</th>\n",
              "      <td>27.000000</td>\n",
              "      <td>8.000000</td>\n",
              "      <td>129.000000</td>\n",
              "    </tr>\n",
              "  </tbody>\n",
              "</table>\n",
              "</div>\n",
              "    <div class=\"colab-df-buttons\">\n",
              "\n",
              "  <div class=\"colab-df-container\">\n",
              "    <button class=\"colab-df-convert\" onclick=\"convertToInteractive('df-96cd13d6-a9c0-4734-b9c9-8ca5cb33b139')\"\n",
              "            title=\"Convert this dataframe to an interactive table.\"\n",
              "            style=\"display:none;\">\n",
              "\n",
              "  <svg xmlns=\"http://www.w3.org/2000/svg\" height=\"24px\" viewBox=\"0 -960 960 960\">\n",
              "    <path d=\"M120-120v-720h720v720H120Zm60-500h600v-160H180v160Zm220 220h160v-160H400v160Zm0 220h160v-160H400v160ZM180-400h160v-160H180v160Zm440 0h160v-160H620v160ZM180-180h160v-160H180v160Zm440 0h160v-160H620v160Z\"/>\n",
              "  </svg>\n",
              "    </button>\n",
              "\n",
              "  <style>\n",
              "    .colab-df-container {\n",
              "      display:flex;\n",
              "      gap: 12px;\n",
              "    }\n",
              "\n",
              "    .colab-df-convert {\n",
              "      background-color: #E8F0FE;\n",
              "      border: none;\n",
              "      border-radius: 50%;\n",
              "      cursor: pointer;\n",
              "      display: none;\n",
              "      fill: #1967D2;\n",
              "      height: 32px;\n",
              "      padding: 0 0 0 0;\n",
              "      width: 32px;\n",
              "    }\n",
              "\n",
              "    .colab-df-convert:hover {\n",
              "      background-color: #E2EBFA;\n",
              "      box-shadow: 0px 1px 2px rgba(60, 64, 67, 0.3), 0px 1px 3px 1px rgba(60, 64, 67, 0.15);\n",
              "      fill: #174EA6;\n",
              "    }\n",
              "\n",
              "    .colab-df-buttons div {\n",
              "      margin-bottom: 4px;\n",
              "    }\n",
              "\n",
              "    [theme=dark] .colab-df-convert {\n",
              "      background-color: #3B4455;\n",
              "      fill: #D2E3FC;\n",
              "    }\n",
              "\n",
              "    [theme=dark] .colab-df-convert:hover {\n",
              "      background-color: #434B5C;\n",
              "      box-shadow: 0px 1px 3px 1px rgba(0, 0, 0, 0.15);\n",
              "      filter: drop-shadow(0px 1px 2px rgba(0, 0, 0, 0.3));\n",
              "      fill: #FFFFFF;\n",
              "    }\n",
              "  </style>\n",
              "\n",
              "    <script>\n",
              "      const buttonEl =\n",
              "        document.querySelector('#df-96cd13d6-a9c0-4734-b9c9-8ca5cb33b139 button.colab-df-convert');\n",
              "      buttonEl.style.display =\n",
              "        google.colab.kernel.accessAllowed ? 'block' : 'none';\n",
              "\n",
              "      async function convertToInteractive(key) {\n",
              "        const element = document.querySelector('#df-96cd13d6-a9c0-4734-b9c9-8ca5cb33b139');\n",
              "        const dataTable =\n",
              "          await google.colab.kernel.invokeFunction('convertToInteractive',\n",
              "                                                    [key], {});\n",
              "        if (!dataTable) return;\n",
              "\n",
              "        const docLinkHtml = 'Like what you see? Visit the ' +\n",
              "          '<a target=\"_blank\" href=https://colab.research.google.com/notebooks/data_table.ipynb>data table notebook</a>'\n",
              "          + ' to learn more about interactive tables.';\n",
              "        element.innerHTML = '';\n",
              "        dataTable['output_type'] = 'display_data';\n",
              "        await google.colab.output.renderOutput(dataTable, element);\n",
              "        const docLink = document.createElement('div');\n",
              "        docLink.innerHTML = docLinkHtml;\n",
              "        element.appendChild(docLink);\n",
              "      }\n",
              "    </script>\n",
              "  </div>\n",
              "\n",
              "\n",
              "<div id=\"df-ea647230-e339-4d3b-b600-a5b6dff6ad08\">\n",
              "  <button class=\"colab-df-quickchart\" onclick=\"quickchart('df-ea647230-e339-4d3b-b600-a5b6dff6ad08')\"\n",
              "            title=\"Suggest charts\"\n",
              "            style=\"display:none;\">\n",
              "\n",
              "<svg xmlns=\"http://www.w3.org/2000/svg\" height=\"24px\"viewBox=\"0 0 24 24\"\n",
              "     width=\"24px\">\n",
              "    <g>\n",
              "        <path d=\"M19 3H5c-1.1 0-2 .9-2 2v14c0 1.1.9 2 2 2h14c1.1 0 2-.9 2-2V5c0-1.1-.9-2-2-2zM9 17H7v-7h2v7zm4 0h-2V7h2v10zm4 0h-2v-4h2v4z\"/>\n",
              "    </g>\n",
              "</svg>\n",
              "  </button>\n",
              "\n",
              "<style>\n",
              "  .colab-df-quickchart {\n",
              "      --bg-color: #E8F0FE;\n",
              "      --fill-color: #1967D2;\n",
              "      --hover-bg-color: #E2EBFA;\n",
              "      --hover-fill-color: #174EA6;\n",
              "      --disabled-fill-color: #AAA;\n",
              "      --disabled-bg-color: #DDD;\n",
              "  }\n",
              "\n",
              "  [theme=dark] .colab-df-quickchart {\n",
              "      --bg-color: #3B4455;\n",
              "      --fill-color: #D2E3FC;\n",
              "      --hover-bg-color: #434B5C;\n",
              "      --hover-fill-color: #FFFFFF;\n",
              "      --disabled-bg-color: #3B4455;\n",
              "      --disabled-fill-color: #666;\n",
              "  }\n",
              "\n",
              "  .colab-df-quickchart {\n",
              "    background-color: var(--bg-color);\n",
              "    border: none;\n",
              "    border-radius: 50%;\n",
              "    cursor: pointer;\n",
              "    display: none;\n",
              "    fill: var(--fill-color);\n",
              "    height: 32px;\n",
              "    padding: 0;\n",
              "    width: 32px;\n",
              "  }\n",
              "\n",
              "  .colab-df-quickchart:hover {\n",
              "    background-color: var(--hover-bg-color);\n",
              "    box-shadow: 0 1px 2px rgba(60, 64, 67, 0.3), 0 1px 3px 1px rgba(60, 64, 67, 0.15);\n",
              "    fill: var(--button-hover-fill-color);\n",
              "  }\n",
              "\n",
              "  .colab-df-quickchart-complete:disabled,\n",
              "  .colab-df-quickchart-complete:disabled:hover {\n",
              "    background-color: var(--disabled-bg-color);\n",
              "    fill: var(--disabled-fill-color);\n",
              "    box-shadow: none;\n",
              "  }\n",
              "\n",
              "  .colab-df-spinner {\n",
              "    border: 2px solid var(--fill-color);\n",
              "    border-color: transparent;\n",
              "    border-bottom-color: var(--fill-color);\n",
              "    animation:\n",
              "      spin 1s steps(1) infinite;\n",
              "  }\n",
              "\n",
              "  @keyframes spin {\n",
              "    0% {\n",
              "      border-color: transparent;\n",
              "      border-bottom-color: var(--fill-color);\n",
              "      border-left-color: var(--fill-color);\n",
              "    }\n",
              "    20% {\n",
              "      border-color: transparent;\n",
              "      border-left-color: var(--fill-color);\n",
              "      border-top-color: var(--fill-color);\n",
              "    }\n",
              "    30% {\n",
              "      border-color: transparent;\n",
              "      border-left-color: var(--fill-color);\n",
              "      border-top-color: var(--fill-color);\n",
              "      border-right-color: var(--fill-color);\n",
              "    }\n",
              "    40% {\n",
              "      border-color: transparent;\n",
              "      border-right-color: var(--fill-color);\n",
              "      border-top-color: var(--fill-color);\n",
              "    }\n",
              "    60% {\n",
              "      border-color: transparent;\n",
              "      border-right-color: var(--fill-color);\n",
              "    }\n",
              "    80% {\n",
              "      border-color: transparent;\n",
              "      border-right-color: var(--fill-color);\n",
              "      border-bottom-color: var(--fill-color);\n",
              "    }\n",
              "    90% {\n",
              "      border-color: transparent;\n",
              "      border-bottom-color: var(--fill-color);\n",
              "    }\n",
              "  }\n",
              "</style>\n",
              "\n",
              "  <script>\n",
              "    async function quickchart(key) {\n",
              "      const quickchartButtonEl =\n",
              "        document.querySelector('#' + key + ' button');\n",
              "      quickchartButtonEl.disabled = true;  // To prevent multiple clicks.\n",
              "      quickchartButtonEl.classList.add('colab-df-spinner');\n",
              "      try {\n",
              "        const charts = await google.colab.kernel.invokeFunction(\n",
              "            'suggestCharts', [key], {});\n",
              "      } catch (error) {\n",
              "        console.error('Error during call to suggestCharts:', error);\n",
              "      }\n",
              "      quickchartButtonEl.classList.remove('colab-df-spinner');\n",
              "      quickchartButtonEl.classList.add('colab-df-quickchart-complete');\n",
              "    }\n",
              "    (() => {\n",
              "      let quickchartButtonEl =\n",
              "        document.querySelector('#df-ea647230-e339-4d3b-b600-a5b6dff6ad08 button');\n",
              "      quickchartButtonEl.style.display =\n",
              "        google.colab.kernel.accessAllowed ? 'block' : 'none';\n",
              "    })();\n",
              "  </script>\n",
              "</div>\n",
              "\n",
              "    </div>\n",
              "  </div>\n"
            ],
            "application/vnd.google.colaboratory.intrinsic+json": {
              "type": "dataframe",
              "summary": "{\n  \"name\": \"data\",\n  \"rows\": 8,\n  \"fields\": [\n    {\n      \"column\": \"reassignment_count\",\n      \"properties\": {\n        \"dtype\": \"number\",\n        \"std\": 50101.15082368562,\n        \"min\": 0.0,\n        \"max\": 141712.0,\n        \"num_unique_values\": 6,\n        \"samples\": [\n          141712.0,\n          1.1041972451168567,\n          27.0\n        ],\n        \"semantic_type\": \"\",\n        \"description\": \"\"\n      }\n    },\n    {\n      \"column\": \"reopen_count\",\n      \"properties\": {\n        \"dtype\": \"number\",\n        \"std\": 50102.34252688931,\n        \"min\": 0.0,\n        \"max\": 141712.0,\n        \"num_unique_values\": 5,\n        \"samples\": [\n          0.02191769222084227,\n          8.0,\n          0.2073023104715709\n        ],\n        \"semantic_type\": \"\",\n        \"description\": \"\"\n      }\n    },\n    {\n      \"column\": \"sys_mod_count\",\n      \"properties\": {\n        \"dtype\": \"number\",\n        \"std\": 50095.11219237464,\n        \"min\": 0.0,\n        \"max\": 141712.0,\n        \"num_unique_values\": 8,\n        \"samples\": [\n          5.080945862030033,\n          3.0,\n          141712.0\n        ],\n        \"semantic_type\": \"\",\n        \"description\": \"\"\n      }\n    }\n  ]\n}"
            }
          },
          "metadata": {},
          "execution_count": 126
        }
      ]
    },
    {
      "cell_type": "code",
      "source": [
        "# verify missing values\n",
        "data.isnull().sum()"
      ],
      "metadata": {
        "colab": {
          "base_uri": "https://localhost:8080/",
          "height": 1000
        },
        "id": "bPNwiJ3H1FKW",
        "outputId": "c6260bef-b113-4538-8c38-ad21bdd8259f"
      },
      "execution_count": null,
      "outputs": [
        {
          "output_type": "execute_result",
          "data": {
            "text/plain": [
              "number                     0\n",
              "incident_state             0\n",
              "active                     0\n",
              "reassignment_count         0\n",
              "reopen_count               0\n",
              "sys_mod_count              0\n",
              "made_sla                   0\n",
              "caller_id                  0\n",
              "opened_by                  0\n",
              "opened_at                  0\n",
              "sys_created_by             0\n",
              "sys_created_at             0\n",
              "sys_updated_by             0\n",
              "sys_updated_at             0\n",
              "contact_type               0\n",
              "location                   0\n",
              "category                   0\n",
              "subcategory                0\n",
              "u_symptom                  0\n",
              "cmdb_ci                    0\n",
              "impact                     0\n",
              "urgency                    0\n",
              "priority                   0\n",
              "assignment_group           0\n",
              "assigned_to                0\n",
              "knowledge                  0\n",
              "u_priority_confirmation    0\n",
              "notify                     0\n",
              "problem_id                 0\n",
              "rfc                        0\n",
              "vendor                     0\n",
              "caused_by                  0\n",
              "closed_code                0\n",
              "resolved_by                0\n",
              "resolved_at                0\n",
              "closed_at                  0\n",
              "dtype: int64"
            ],
            "text/html": [
              "<div>\n",
              "<style scoped>\n",
              "    .dataframe tbody tr th:only-of-type {\n",
              "        vertical-align: middle;\n",
              "    }\n",
              "\n",
              "    .dataframe tbody tr th {\n",
              "        vertical-align: top;\n",
              "    }\n",
              "\n",
              "    .dataframe thead th {\n",
              "        text-align: right;\n",
              "    }\n",
              "</style>\n",
              "<table border=\"1\" class=\"dataframe\">\n",
              "  <thead>\n",
              "    <tr style=\"text-align: right;\">\n",
              "      <th></th>\n",
              "      <th>0</th>\n",
              "    </tr>\n",
              "  </thead>\n",
              "  <tbody>\n",
              "    <tr>\n",
              "      <th>number</th>\n",
              "      <td>0</td>\n",
              "    </tr>\n",
              "    <tr>\n",
              "      <th>incident_state</th>\n",
              "      <td>0</td>\n",
              "    </tr>\n",
              "    <tr>\n",
              "      <th>active</th>\n",
              "      <td>0</td>\n",
              "    </tr>\n",
              "    <tr>\n",
              "      <th>reassignment_count</th>\n",
              "      <td>0</td>\n",
              "    </tr>\n",
              "    <tr>\n",
              "      <th>reopen_count</th>\n",
              "      <td>0</td>\n",
              "    </tr>\n",
              "    <tr>\n",
              "      <th>sys_mod_count</th>\n",
              "      <td>0</td>\n",
              "    </tr>\n",
              "    <tr>\n",
              "      <th>made_sla</th>\n",
              "      <td>0</td>\n",
              "    </tr>\n",
              "    <tr>\n",
              "      <th>caller_id</th>\n",
              "      <td>0</td>\n",
              "    </tr>\n",
              "    <tr>\n",
              "      <th>opened_by</th>\n",
              "      <td>0</td>\n",
              "    </tr>\n",
              "    <tr>\n",
              "      <th>opened_at</th>\n",
              "      <td>0</td>\n",
              "    </tr>\n",
              "    <tr>\n",
              "      <th>sys_created_by</th>\n",
              "      <td>0</td>\n",
              "    </tr>\n",
              "    <tr>\n",
              "      <th>sys_created_at</th>\n",
              "      <td>0</td>\n",
              "    </tr>\n",
              "    <tr>\n",
              "      <th>sys_updated_by</th>\n",
              "      <td>0</td>\n",
              "    </tr>\n",
              "    <tr>\n",
              "      <th>sys_updated_at</th>\n",
              "      <td>0</td>\n",
              "    </tr>\n",
              "    <tr>\n",
              "      <th>contact_type</th>\n",
              "      <td>0</td>\n",
              "    </tr>\n",
              "    <tr>\n",
              "      <th>location</th>\n",
              "      <td>0</td>\n",
              "    </tr>\n",
              "    <tr>\n",
              "      <th>category</th>\n",
              "      <td>0</td>\n",
              "    </tr>\n",
              "    <tr>\n",
              "      <th>subcategory</th>\n",
              "      <td>0</td>\n",
              "    </tr>\n",
              "    <tr>\n",
              "      <th>u_symptom</th>\n",
              "      <td>0</td>\n",
              "    </tr>\n",
              "    <tr>\n",
              "      <th>cmdb_ci</th>\n",
              "      <td>0</td>\n",
              "    </tr>\n",
              "    <tr>\n",
              "      <th>impact</th>\n",
              "      <td>0</td>\n",
              "    </tr>\n",
              "    <tr>\n",
              "      <th>urgency</th>\n",
              "      <td>0</td>\n",
              "    </tr>\n",
              "    <tr>\n",
              "      <th>priority</th>\n",
              "      <td>0</td>\n",
              "    </tr>\n",
              "    <tr>\n",
              "      <th>assignment_group</th>\n",
              "      <td>0</td>\n",
              "    </tr>\n",
              "    <tr>\n",
              "      <th>assigned_to</th>\n",
              "      <td>0</td>\n",
              "    </tr>\n",
              "    <tr>\n",
              "      <th>knowledge</th>\n",
              "      <td>0</td>\n",
              "    </tr>\n",
              "    <tr>\n",
              "      <th>u_priority_confirmation</th>\n",
              "      <td>0</td>\n",
              "    </tr>\n",
              "    <tr>\n",
              "      <th>notify</th>\n",
              "      <td>0</td>\n",
              "    </tr>\n",
              "    <tr>\n",
              "      <th>problem_id</th>\n",
              "      <td>0</td>\n",
              "    </tr>\n",
              "    <tr>\n",
              "      <th>rfc</th>\n",
              "      <td>0</td>\n",
              "    </tr>\n",
              "    <tr>\n",
              "      <th>vendor</th>\n",
              "      <td>0</td>\n",
              "    </tr>\n",
              "    <tr>\n",
              "      <th>caused_by</th>\n",
              "      <td>0</td>\n",
              "    </tr>\n",
              "    <tr>\n",
              "      <th>closed_code</th>\n",
              "      <td>0</td>\n",
              "    </tr>\n",
              "    <tr>\n",
              "      <th>resolved_by</th>\n",
              "      <td>0</td>\n",
              "    </tr>\n",
              "    <tr>\n",
              "      <th>resolved_at</th>\n",
              "      <td>0</td>\n",
              "    </tr>\n",
              "    <tr>\n",
              "      <th>closed_at</th>\n",
              "      <td>0</td>\n",
              "    </tr>\n",
              "  </tbody>\n",
              "</table>\n",
              "</div><br><label><b>dtype:</b> int64</label>"
            ]
          },
          "metadata": {},
          "execution_count": 127
        }
      ]
    },
    {
      "cell_type": "markdown",
      "source": [
        "**Identify values with '?'**"
      ],
      "metadata": {
        "id": "IbIY_FEs88_R"
      }
    },
    {
      "cell_type": "markdown",
      "source": [
        "**Verify any Duplicate data in the dataset**"
      ],
      "metadata": {
        "id": "O5lDj2GpJP7Z"
      }
    },
    {
      "cell_type": "code",
      "source": [
        "data[data.duplicated()]\n",
        "# No duplicate values"
      ],
      "metadata": {
        "colab": {
          "base_uri": "https://localhost:8080/",
          "height": 99
        },
        "id": "2sTTd_D6JPGY",
        "outputId": "6850939b-dee5-4950-fbdf-988f73b4ab50"
      },
      "execution_count": null,
      "outputs": [
        {
          "output_type": "execute_result",
          "data": {
            "text/plain": [
              "Empty DataFrame\n",
              "Columns: [number, incident_state, active, reassignment_count, reopen_count, sys_mod_count, made_sla, caller_id, opened_by, opened_at, sys_created_by, sys_created_at, sys_updated_by, sys_updated_at, contact_type, location, category, subcategory, u_symptom, cmdb_ci, impact, urgency, priority, assignment_group, assigned_to, knowledge, u_priority_confirmation, notify, problem_id, rfc, vendor, caused_by, closed_code, resolved_by, resolved_at, closed_at]\n",
              "Index: []\n",
              "\n",
              "[0 rows x 36 columns]"
            ],
            "text/html": [
              "\n",
              "  <div id=\"df-8d8de8c4-bcd4-4d5e-a6fb-98900683df63\" class=\"colab-df-container\">\n",
              "    <div>\n",
              "<style scoped>\n",
              "    .dataframe tbody tr th:only-of-type {\n",
              "        vertical-align: middle;\n",
              "    }\n",
              "\n",
              "    .dataframe tbody tr th {\n",
              "        vertical-align: top;\n",
              "    }\n",
              "\n",
              "    .dataframe thead th {\n",
              "        text-align: right;\n",
              "    }\n",
              "</style>\n",
              "<table border=\"1\" class=\"dataframe\">\n",
              "  <thead>\n",
              "    <tr style=\"text-align: right;\">\n",
              "      <th></th>\n",
              "      <th>number</th>\n",
              "      <th>incident_state</th>\n",
              "      <th>active</th>\n",
              "      <th>reassignment_count</th>\n",
              "      <th>reopen_count</th>\n",
              "      <th>sys_mod_count</th>\n",
              "      <th>made_sla</th>\n",
              "      <th>caller_id</th>\n",
              "      <th>opened_by</th>\n",
              "      <th>opened_at</th>\n",
              "      <th>...</th>\n",
              "      <th>u_priority_confirmation</th>\n",
              "      <th>notify</th>\n",
              "      <th>problem_id</th>\n",
              "      <th>rfc</th>\n",
              "      <th>vendor</th>\n",
              "      <th>caused_by</th>\n",
              "      <th>closed_code</th>\n",
              "      <th>resolved_by</th>\n",
              "      <th>resolved_at</th>\n",
              "      <th>closed_at</th>\n",
              "    </tr>\n",
              "  </thead>\n",
              "  <tbody>\n",
              "  </tbody>\n",
              "</table>\n",
              "<p>0 rows × 36 columns</p>\n",
              "</div>\n",
              "    <div class=\"colab-df-buttons\">\n",
              "\n",
              "  <div class=\"colab-df-container\">\n",
              "    <button class=\"colab-df-convert\" onclick=\"convertToInteractive('df-8d8de8c4-bcd4-4d5e-a6fb-98900683df63')\"\n",
              "            title=\"Convert this dataframe to an interactive table.\"\n",
              "            style=\"display:none;\">\n",
              "\n",
              "  <svg xmlns=\"http://www.w3.org/2000/svg\" height=\"24px\" viewBox=\"0 -960 960 960\">\n",
              "    <path d=\"M120-120v-720h720v720H120Zm60-500h600v-160H180v160Zm220 220h160v-160H400v160Zm0 220h160v-160H400v160ZM180-400h160v-160H180v160Zm440 0h160v-160H620v160ZM180-180h160v-160H180v160Zm440 0h160v-160H620v160Z\"/>\n",
              "  </svg>\n",
              "    </button>\n",
              "\n",
              "  <style>\n",
              "    .colab-df-container {\n",
              "      display:flex;\n",
              "      gap: 12px;\n",
              "    }\n",
              "\n",
              "    .colab-df-convert {\n",
              "      background-color: #E8F0FE;\n",
              "      border: none;\n",
              "      border-radius: 50%;\n",
              "      cursor: pointer;\n",
              "      display: none;\n",
              "      fill: #1967D2;\n",
              "      height: 32px;\n",
              "      padding: 0 0 0 0;\n",
              "      width: 32px;\n",
              "    }\n",
              "\n",
              "    .colab-df-convert:hover {\n",
              "      background-color: #E2EBFA;\n",
              "      box-shadow: 0px 1px 2px rgba(60, 64, 67, 0.3), 0px 1px 3px 1px rgba(60, 64, 67, 0.15);\n",
              "      fill: #174EA6;\n",
              "    }\n",
              "\n",
              "    .colab-df-buttons div {\n",
              "      margin-bottom: 4px;\n",
              "    }\n",
              "\n",
              "    [theme=dark] .colab-df-convert {\n",
              "      background-color: #3B4455;\n",
              "      fill: #D2E3FC;\n",
              "    }\n",
              "\n",
              "    [theme=dark] .colab-df-convert:hover {\n",
              "      background-color: #434B5C;\n",
              "      box-shadow: 0px 1px 3px 1px rgba(0, 0, 0, 0.15);\n",
              "      filter: drop-shadow(0px 1px 2px rgba(0, 0, 0, 0.3));\n",
              "      fill: #FFFFFF;\n",
              "    }\n",
              "  </style>\n",
              "\n",
              "    <script>\n",
              "      const buttonEl =\n",
              "        document.querySelector('#df-8d8de8c4-bcd4-4d5e-a6fb-98900683df63 button.colab-df-convert');\n",
              "      buttonEl.style.display =\n",
              "        google.colab.kernel.accessAllowed ? 'block' : 'none';\n",
              "\n",
              "      async function convertToInteractive(key) {\n",
              "        const element = document.querySelector('#df-8d8de8c4-bcd4-4d5e-a6fb-98900683df63');\n",
              "        const dataTable =\n",
              "          await google.colab.kernel.invokeFunction('convertToInteractive',\n",
              "                                                    [key], {});\n",
              "        if (!dataTable) return;\n",
              "\n",
              "        const docLinkHtml = 'Like what you see? Visit the ' +\n",
              "          '<a target=\"_blank\" href=https://colab.research.google.com/notebooks/data_table.ipynb>data table notebook</a>'\n",
              "          + ' to learn more about interactive tables.';\n",
              "        element.innerHTML = '';\n",
              "        dataTable['output_type'] = 'display_data';\n",
              "        await google.colab.output.renderOutput(dataTable, element);\n",
              "        const docLink = document.createElement('div');\n",
              "        docLink.innerHTML = docLinkHtml;\n",
              "        element.appendChild(docLink);\n",
              "      }\n",
              "    </script>\n",
              "  </div>\n",
              "\n",
              "\n",
              "    </div>\n",
              "  </div>\n"
            ],
            "application/vnd.google.colaboratory.intrinsic+json": {
              "type": "dataframe"
            }
          },
          "metadata": {},
          "execution_count": 128
        }
      ]
    },
    {
      "cell_type": "code",
      "source": [
        "# validate the data values with '?'\n",
        "# Initialize an empty dictionary to store counts of rows with '?' for each column\n",
        "question_mark_counts = {}\n",
        "\n",
        "# Loop through each column in the DataFrame\n",
        "for col in data.columns:\n",
        "    # Count rows where the column contains '?'\n",
        "    count = (data[col] == '?').sum()\n",
        "    # Store the count in the dictionary with the column name as the key\n",
        "    question_mark_counts[col] = count\n",
        "\n",
        "# Display the counts of rows with '?' for each column\n",
        "print(\"Count of rows where each column contains '?':\")\n",
        "for col, count in question_mark_counts.items():\n",
        "    print(f\"Column '{col}': {count} rows contain '?'\")"
      ],
      "metadata": {
        "colab": {
          "base_uri": "https://localhost:8080/"
        },
        "id": "iNM_kZGb_RiR",
        "outputId": "5a509c54-6ad3-48c2-9ce4-85734c679d82"
      },
      "execution_count": null,
      "outputs": [
        {
          "output_type": "stream",
          "name": "stdout",
          "text": [
            "Count of rows where each column contains '?':\n",
            "Column 'number': 0 rows contain '?'\n",
            "Column 'incident_state': 0 rows contain '?'\n",
            "Column 'active': 0 rows contain '?'\n",
            "Column 'reassignment_count': 0 rows contain '?'\n",
            "Column 'reopen_count': 0 rows contain '?'\n",
            "Column 'sys_mod_count': 0 rows contain '?'\n",
            "Column 'made_sla': 0 rows contain '?'\n",
            "Column 'caller_id': 29 rows contain '?'\n",
            "Column 'opened_by': 4835 rows contain '?'\n",
            "Column 'opened_at': 0 rows contain '?'\n",
            "Column 'sys_created_by': 53076 rows contain '?'\n",
            "Column 'sys_created_at': 53076 rows contain '?'\n",
            "Column 'sys_updated_by': 0 rows contain '?'\n",
            "Column 'sys_updated_at': 0 rows contain '?'\n",
            "Column 'contact_type': 0 rows contain '?'\n",
            "Column 'location': 76 rows contain '?'\n",
            "Column 'category': 78 rows contain '?'\n",
            "Column 'subcategory': 111 rows contain '?'\n",
            "Column 'u_symptom': 32964 rows contain '?'\n",
            "Column 'cmdb_ci': 141267 rows contain '?'\n",
            "Column 'impact': 0 rows contain '?'\n",
            "Column 'urgency': 0 rows contain '?'\n",
            "Column 'priority': 0 rows contain '?'\n",
            "Column 'assignment_group': 14213 rows contain '?'\n",
            "Column 'assigned_to': 27496 rows contain '?'\n",
            "Column 'knowledge': 0 rows contain '?'\n",
            "Column 'u_priority_confirmation': 0 rows contain '?'\n",
            "Column 'notify': 0 rows contain '?'\n",
            "Column 'problem_id': 139417 rows contain '?'\n",
            "Column 'rfc': 140721 rows contain '?'\n",
            "Column 'vendor': 141468 rows contain '?'\n",
            "Column 'caused_by': 141689 rows contain '?'\n",
            "Column 'closed_code': 714 rows contain '?'\n",
            "Column 'resolved_by': 226 rows contain '?'\n",
            "Column 'resolved_at': 3141 rows contain '?'\n",
            "Column 'closed_at': 0 rows contain '?'\n"
          ]
        }
      ]
    },
    {
      "cell_type": "code",
      "source": [
        "# calculate % of the missing data values with '?' and calculate %\n",
        "\n",
        "# Initialize an empty dictionary to store counts of rows with '?' for each column\n",
        "question_mark_pct = {}\n",
        "\n",
        "# Loop through each column in the DataFrame\n",
        "for col in data.columns:\n",
        "    # Count rows where the column contains '?'\n",
        "    count_pct = (data[col] == '?').sum()/data.shape[0]*100\n",
        "    # Store the count in the dictionary with the column name as the key\n",
        "    question_mark_pct[col] = count_pct\n",
        "\n",
        "# Convert the dictionary to a DataFrame\n",
        "question_mark_df = pd.DataFrame(list(question_mark_pct.items()), columns=['Column', 'Percentage'])\n",
        "\n",
        "# Sort the DataFrame by the 'Percentage' column in descending order\n",
        "sorted_question_mark_df = question_mark_df.sort_values(by='Percentage', ascending=False)\n",
        "\n",
        "# Display the sorted DataFrame\n",
        "print(\"Percentage of rows where each column contains '?' (sorted by descending order):\")\n",
        "print(sorted_question_mark_df)\n",
        "\n"
      ],
      "metadata": {
        "colab": {
          "base_uri": "https://localhost:8080/"
        },
        "id": "GSE96YFukfzR",
        "outputId": "ad75a003-890b-48e3-d284-e57c60046719"
      },
      "execution_count": null,
      "outputs": [
        {
          "output_type": "stream",
          "name": "stdout",
          "text": [
            "Percentage of rows where each column contains '?' (sorted by descending order):\n",
            "                     Column  Percentage\n",
            "31                caused_by   99.983770\n",
            "30                   vendor   99.827820\n",
            "19                  cmdb_ci   99.685983\n",
            "29                      rfc   99.300694\n",
            "28               problem_id   98.380518\n",
            "11           sys_created_at   37.453427\n",
            "10           sys_created_by   37.453427\n",
            "18                u_symptom   23.261262\n",
            "24              assigned_to   19.402732\n",
            "23         assignment_group   10.029496\n",
            "8                 opened_by    3.411849\n",
            "34              resolved_at    2.216467\n",
            "32              closed_code    0.503839\n",
            "33              resolved_by    0.159478\n",
            "17              subcategory    0.078328\n",
            "16                 category    0.055041\n",
            "15                 location    0.053630\n",
            "7                 caller_id    0.020464\n",
            "22                 priority    0.000000\n",
            "27                   notify    0.000000\n",
            "26  u_priority_confirmation    0.000000\n",
            "25                knowledge    0.000000\n",
            "0                    number    0.000000\n",
            "21                  urgency    0.000000\n",
            "20                   impact    0.000000\n",
            "1            incident_state    0.000000\n",
            "14             contact_type    0.000000\n",
            "13           sys_updated_at    0.000000\n",
            "12           sys_updated_by    0.000000\n",
            "9                 opened_at    0.000000\n",
            "6                  made_sla    0.000000\n",
            "5             sys_mod_count    0.000000\n",
            "4              reopen_count    0.000000\n",
            "3        reassignment_count    0.000000\n",
            "2                    active    0.000000\n",
            "35                closed_at    0.000000\n"
          ]
        }
      ]
    },
    {
      "cell_type": "code",
      "source": [
        "# Drop the below attributes, as majority of the values are missing in those attributes\n",
        "# caused_by, vendor, cmdb_ci, rfc,  problem_id\n",
        "\n",
        "data.drop(['caused_by', 'vendor', 'cmdb_ci', 'rfc', 'problem_id'],axis=1,inplace=True)\n",
        "data.info()"
      ],
      "metadata": {
        "colab": {
          "base_uri": "https://localhost:8080/"
        },
        "id": "VNoXolRNpZ1N",
        "outputId": "bc40af08-3d89-4979-9bbb-95fda9346769"
      },
      "execution_count": null,
      "outputs": [
        {
          "output_type": "stream",
          "name": "stdout",
          "text": [
            "<class 'pandas.core.frame.DataFrame'>\n",
            "RangeIndex: 141712 entries, 0 to 141711\n",
            "Data columns (total 31 columns):\n",
            " #   Column                   Non-Null Count   Dtype \n",
            "---  ------                   --------------   ----- \n",
            " 0   number                   141712 non-null  object\n",
            " 1   incident_state           141712 non-null  object\n",
            " 2   active                   141712 non-null  bool  \n",
            " 3   reassignment_count       141712 non-null  int64 \n",
            " 4   reopen_count             141712 non-null  int64 \n",
            " 5   sys_mod_count            141712 non-null  int64 \n",
            " 6   made_sla                 141712 non-null  bool  \n",
            " 7   caller_id                141712 non-null  object\n",
            " 8   opened_by                141712 non-null  object\n",
            " 9   opened_at                141712 non-null  object\n",
            " 10  sys_created_by           141712 non-null  object\n",
            " 11  sys_created_at           141712 non-null  object\n",
            " 12  sys_updated_by           141712 non-null  object\n",
            " 13  sys_updated_at           141712 non-null  object\n",
            " 14  contact_type             141712 non-null  object\n",
            " 15  location                 141712 non-null  object\n",
            " 16  category                 141712 non-null  object\n",
            " 17  subcategory              141712 non-null  object\n",
            " 18  u_symptom                141712 non-null  object\n",
            " 19  impact                   141712 non-null  object\n",
            " 20  urgency                  141712 non-null  object\n",
            " 21  priority                 141712 non-null  object\n",
            " 22  assignment_group         141712 non-null  object\n",
            " 23  assigned_to              141712 non-null  object\n",
            " 24  knowledge                141712 non-null  bool  \n",
            " 25  u_priority_confirmation  141712 non-null  bool  \n",
            " 26  notify                   141712 non-null  object\n",
            " 27  closed_code              141712 non-null  object\n",
            " 28  resolved_by              141712 non-null  object\n",
            " 29  resolved_at              141712 non-null  object\n",
            " 30  closed_at                141712 non-null  object\n",
            "dtypes: bool(4), int64(3), object(24)\n",
            "memory usage: 29.7+ MB\n"
          ]
        }
      ]
    },
    {
      "cell_type": "code",
      "source": [
        "# Identify unique incident numbers\n",
        "incidents = len(data.number.unique())\n",
        "print(incidents)"
      ],
      "metadata": {
        "colab": {
          "base_uri": "https://localhost:8080/"
        },
        "id": "tFM6t6AGMVO9",
        "outputId": "d3715b1c-1172-44c5-8a3f-e68fa7ef0bd3"
      },
      "execution_count": null,
      "outputs": [
        {
          "output_type": "stream",
          "name": "stdout",
          "text": [
            "24918\n"
          ]
        }
      ]
    },
    {
      "cell_type": "code",
      "source": [
        "# Validate the incident_state attribute\n",
        "incident_state_counts = data['incident_state'].value_counts()\n",
        "print(incident_state_counts)"
      ],
      "metadata": {
        "colab": {
          "base_uri": "https://localhost:8080/"
        },
        "id": "035ViEMxLLpN",
        "outputId": "f46767b8-0f5b-4369-ef38-e6654f078dd5"
      },
      "execution_count": null,
      "outputs": [
        {
          "output_type": "stream",
          "name": "stdout",
          "text": [
            "incident_state\n",
            "Active                38716\n",
            "New                   36407\n",
            "Resolved              25751\n",
            "Closed                24985\n",
            "Awaiting User Info    14642\n",
            "Awaiting Vendor         707\n",
            "Awaiting Problem        461\n",
            "Awaiting Evidence        38\n",
            "-100                      5\n",
            "Name: count, dtype: int64\n"
          ]
        }
      ]
    },
    {
      "cell_type": "code",
      "source": [
        "# Exclude invalid incident state value '-100'\n",
        "data=data[data.incident_state!='-100']"
      ],
      "metadata": {
        "id": "4htWnguhOAQh"
      },
      "execution_count": null,
      "outputs": []
    },
    {
      "cell_type": "code",
      "source": [
        "# Visualize Incident State\n",
        "fig_dims = (15, 6)\n",
        "fig, ax = plt.subplots(figsize=fig_dims)\n",
        "sns.countplot(x='incident_state', data=data, ax=ax)\n",
        "plt.title(\"Incident State Count Details\", size = 14)\n",
        "plt.xlabel(\"Rating\", size=12)\n",
        "plt.ylabel(\"Count\", size=12)\n",
        "plt.xticks(rotation=10)\n",
        "plt.grid()\n",
        "plt.show()"
      ],
      "metadata": {
        "colab": {
          "base_uri": "https://localhost:8080/",
          "height": 591
        },
        "id": "J2wFIH8yNPB2",
        "outputId": "43b22d4a-b63a-4e81-ea17-aba4db71b5bf"
      },
      "execution_count": null,
      "outputs": [
        {
          "output_type": "display_data",
          "data": {
            "text/plain": [
              "<Figure size 1500x600 with 1 Axes>"
            ],
            "image/png": "[encoded data removed]"
          },
          "metadata": {}
        }
      ]
    },
    {
      "cell_type": "code",
      "source": [
        "# validate attribute 'active', which is status of the incident\n",
        "active_counts = data['active'].value_counts()\n",
        "print(active_counts)"
      ],
      "metadata": {
        "colab": {
          "base_uri": "https://localhost:8080/"
        },
        "id": "DK0zHfDFP0LC",
        "outputId": "de8b2e17-88c4-4893-baa1-7671ca257fc7"
      },
      "execution_count": null,
      "outputs": [
        {
          "output_type": "stream",
          "name": "stdout",
          "text": [
            "active\n",
            "True     116721\n",
            "False     24986\n",
            "Name: count, dtype: int64\n"
          ]
        }
      ]
    },
    {
      "cell_type": "markdown",
      "source": [
        "Majority of the incidents shows as open"
      ],
      "metadata": {
        "id": "xTx9njOZTAeJ"
      }
    },
    {
      "cell_type": "code",
      "source": [
        "# visualize instance status\n",
        "\n",
        "labels = ['True', 'False']\n",
        "\n",
        "# Create pie chart\n",
        "plt.pie(active_counts, labels=labels, autopct='%1.1f%%', startangle=90)\n",
        "\n",
        "# Add title\n",
        "plt.title('Distribution of Active Incidents')\n",
        "\n",
        "# Ensure circle shape\n",
        "plt.axis('equal')\n",
        "\n",
        "# Display the chart\n",
        "plt.show()"
      ],
      "metadata": {
        "colab": {
          "base_uri": "https://localhost:8080/",
          "height": 428
        },
        "id": "1PcWeqPUR8Os",
        "outputId": "19490258-7900-4346-db5e-a1bedf9cf937"
      },
      "execution_count": null,
      "outputs": [
        {
          "output_type": "display_data",
          "data": {
            "text/plain": [
              "<Figure size 640x480 with 1 Axes>"
            ],
            "image/png": "[encoded data removed]"
          },
          "metadata": {}
        }
      ]
    },
    {
      "cell_type": "code",
      "source": [
        "# Validate the reassignment_count attribute\n",
        "incident_reassignment_counts = data['reassignment_count'].value_counts()\n",
        "print(incident_reassignment_counts)"
      ],
      "metadata": {
        "colab": {
          "base_uri": "https://localhost:8080/"
        },
        "id": "88eLs_mOTy-P",
        "outputId": "de0fa23b-393d-4090-9ab9-a572719c0207"
      },
      "execution_count": null,
      "outputs": [
        {
          "output_type": "stream",
          "name": "stdout",
          "text": [
            "reassignment_count\n",
            "0     69874\n",
            "1     37101\n",
            "2     15097\n",
            "3      8274\n",
            "4      4614\n",
            "5      2595\n",
            "6      1447\n",
            "7       985\n",
            "8       574\n",
            "9       365\n",
            "10      285\n",
            "11      174\n",
            "12      108\n",
            "13       61\n",
            "14       45\n",
            "15       21\n",
            "17       16\n",
            "20       16\n",
            "16       13\n",
            "18       13\n",
            "22        9\n",
            "19        8\n",
            "21        3\n",
            "27        3\n",
            "23        2\n",
            "26        2\n",
            "24        1\n",
            "25        1\n",
            "Name: count, dtype: int64\n"
          ]
        }
      ]
    },
    {
      "cell_type": "markdown",
      "source": [
        "Majority of the incidents has been resolved by the group/support analysts that were assigned initially."
      ],
      "metadata": {
        "id": "JJgSZxwjVdP2"
      }
    },
    {
      "cell_type": "code",
      "source": [
        "# Plotting \"reassignment counts\"\n",
        "\n",
        "# Create the bar plot\n",
        "plt.figure(figsize=(10, 6))  # Set figure size\n",
        "incident_reassignment_counts.plot(kind='bar', color='skyblue')\n",
        "\n",
        "# Add title and labels\n",
        "plt.title('Incident Reassignment Counts', fontsize=14)\n",
        "plt.xlabel('Reassignment Count', fontsize=12)\n",
        "plt.ylabel('Frequency', fontsize=12)\n",
        "\n",
        "# Show the plot\n",
        "plt.show()"
      ],
      "metadata": {
        "colab": {
          "base_uri": "https://localhost:8080/",
          "height": 573
        },
        "id": "KVOc8GlcUVM9",
        "outputId": "79c388b0-0813-4173-fa92-622d758dd2a3"
      },
      "execution_count": null,
      "outputs": [
        {
          "output_type": "display_data",
          "data": {
            "text/plain": [
              "<Figure size 1000x600 with 1 Axes>"
            ],
            "image/png": "[encoded data removed]"
          },
          "metadata": {}
        }
      ]
    },
    {
      "cell_type": "code",
      "source": [
        "# Validate \"reopen_count\" : number of times the incident resolution was rejected by the caller\n",
        "incident_reopen_counts = data['reopen_count'].value_counts()\n",
        "print(incident_reopen_counts)"
      ],
      "metadata": {
        "colab": {
          "base_uri": "https://localhost:8080/"
        },
        "id": "m-Iz_UtwXCqC",
        "outputId": "dd545076-b1a5-4a1d-c7ce-3a63bbe31379"
      },
      "execution_count": null,
      "outputs": [
        {
          "output_type": "stream",
          "name": "stdout",
          "text": [
            "reopen_count\n",
            "0    139393\n",
            "1      1918\n",
            "2       190\n",
            "3       107\n",
            "4        48\n",
            "5        24\n",
            "6        18\n",
            "7         5\n",
            "8         4\n",
            "Name: count, dtype: int64\n"
          ]
        }
      ]
    },
    {
      "cell_type": "markdown",
      "source": [
        "Most of the Incidents were resolved successfully, without any rejection of re-opening by the caller"
      ],
      "metadata": {
        "id": "Ks003BADYFo_"
      }
    },
    {
      "cell_type": "code",
      "source": [
        " # visuallize reopen_count attribute\n",
        " # Create the bar plot\n",
        "plt.figure(figsize=(10, 6))  # Set figure size\n",
        "incident_reassignment_counts.plot(kind='bar', color='skyblue')\n",
        "\n",
        "# Add title and labels\n",
        "plt.title('Incident Reopen Counts', fontsize=14)\n",
        "plt.xlabel('Reopen Count', fontsize=12)\n",
        "plt.ylabel('Frequency', fontsize=12)\n",
        "\n",
        "# Show the plot\n",
        "plt.show()"
      ],
      "metadata": {
        "colab": {
          "base_uri": "https://localhost:8080/",
          "height": 573
        },
        "id": "t976FI5kYabw",
        "outputId": "8bded8e4-0f56-41f0-9803-1b37e156b5f7"
      },
      "execution_count": null,
      "outputs": [
        {
          "output_type": "display_data",
          "data": {
            "text/plain": [
              "<Figure size 1000x600 with 1 Axes>"
            ],
            "image/png": "[encoded data removed]"
          },
          "metadata": {}
        }
      ]
    },
    {
      "cell_type": "code",
      "source": [
        "# verify the attribute\tsys_mod_count: number of incident updates until that moment\n",
        "sys_mod_count_counts = data['sys_mod_count'].value_counts()\n",
        "print(sys_mod_count_counts)"
      ],
      "metadata": {
        "colab": {
          "base_uri": "https://localhost:8080/"
        },
        "id": "61dRyWElaRaA",
        "outputId": "69d3d30a-342a-434a-edd1-4b3ac2527d2b"
      },
      "execution_count": null,
      "outputs": [
        {
          "output_type": "stream",
          "name": "stdout",
          "text": [
            "sys_mod_count\n",
            "0      24913\n",
            "1      22061\n",
            "2      19748\n",
            "3      14168\n",
            "4      10735\n",
            "       ...  \n",
            "84         1\n",
            "119        1\n",
            "105        1\n",
            "106        1\n",
            "103        1\n",
            "Name: count, Length: 115, dtype: int64\n"
          ]
        }
      ]
    },
    {
      "cell_type": "code",
      "source": [
        "# validate the attribute made_sla: that shows whether the incident exceeded the target SLA\n",
        "made_sla_counts = data['made_sla'].value_counts()\n",
        "print(made_sla_counts)\n",
        "\n",
        "print(f\"Percentage of Incidents with SLA missed{len(data[data.made_sla==False]['number'].unique())/len(data.number.unique())*100} %\")"
      ],
      "metadata": {
        "colab": {
          "base_uri": "https://localhost:8080/"
        },
        "id": "ErO1SaS3bKWz",
        "outputId": "038d1df3-eba7-41bb-f26a-8b25414e9a82"
      },
      "execution_count": null,
      "outputs": [
        {
          "output_type": "stream",
          "name": "stdout",
          "text": [
            "made_sla\n",
            "True     132492\n",
            "False      9215\n",
            "Name: count, dtype: int64\n",
            "Percentage of Incidents with SLA missed36.579982342082026 %\n"
          ]
        }
      ]
    },
    {
      "cell_type": "markdown",
      "source": [
        "Most of the Incidents met SLAs, only ~ 36% of the Incidents missed the SLAs"
      ],
      "metadata": {
        "id": "JVEkD6iCbivD"
      }
    },
    {
      "cell_type": "code",
      "source": [
        "# visualization of made_sla attribute\n",
        "\n",
        "labels = ['SLA-Met', 'SLA-Breached']\n",
        "\n",
        "# Create pie chart\n",
        "plt.pie(made_sla_counts, labels=labels, autopct='%1.1f%%', startangle=90)\n",
        "\n",
        "# Add title\n",
        "plt.title('Distribution of SLAs')\n",
        "\n",
        "# Ensure circle shape\n",
        "plt.axis('equal')\n",
        "\n",
        "# Display the chart\n",
        "plt.show()\n"
      ],
      "metadata": {
        "colab": {
          "base_uri": "https://localhost:8080/",
          "height": 432
        },
        "id": "QcIYMRSsbXCG",
        "outputId": "e21751ec-2d40-43ce-d1a8-cec75f9ea68d"
      },
      "execution_count": null,
      "outputs": [
        {
          "output_type": "display_data",
          "data": {
            "text/plain": [
              "<Figure size 640x480 with 1 Axes>"
            ],
            "image/png": "[encoded data removed]"
          },
          "metadata": {}
        }
      ]
    },
    {
      "cell_type": "code",
      "source": [
        "# validate the 'caller_id' - identifier of the user affected\n",
        "caller_id_counts = data['caller_id'].value_counts()\n",
        "print(caller_id_counts)"
      ],
      "metadata": {
        "colab": {
          "base_uri": "https://localhost:8080/"
        },
        "id": "oqAUrJEwdabe",
        "outputId": "d3abf1c9-aa48-4ecb-fa21-e7f34bc35b0b"
      },
      "execution_count": null,
      "outputs": [
        {
          "output_type": "stream",
          "name": "stdout",
          "text": [
            "caller_id\n",
            "Caller 1904    1425\n",
            "Caller 290      789\n",
            "Caller 4514     716\n",
            "Caller 1441     322\n",
            "Caller 298      293\n",
            "               ... \n",
            "Caller 3545       2\n",
            "Caller 2913       2\n",
            "Caller 1502       2\n",
            "Caller 4696       2\n",
            "Caller 1899       2\n",
            "Name: count, Length: 5245, dtype: int64\n"
          ]
        }
      ]
    },
    {
      "cell_type": "code",
      "source": [
        "len(data.caller_id.unique())"
      ],
      "metadata": {
        "colab": {
          "base_uri": "https://localhost:8080/"
        },
        "id": "qSQXheqa_RXf",
        "outputId": "fd2985ce-2108-4be7-e0aa-b8a39c9a8d5d"
      },
      "execution_count": null,
      "outputs": [
        {
          "output_type": "execute_result",
          "data": {
            "text/plain": [
              "5245"
            ]
          },
          "metadata": {},
          "execution_count": 146
        }
      ]
    },
    {
      "cell_type": "code",
      "source": [
        "# drop the caller_id feature from the dataset because it has no impact on predicting the Incident resolution time\n",
        "data.drop(['caller_id'],axis=1,inplace=True)"
      ],
      "metadata": {
        "id": "i-S4AEAs_2KR"
      },
      "execution_count": null,
      "outputs": []
    },
    {
      "cell_type": "code",
      "source": [
        "# validate the attribute 'opened_by' - identifier of the user who reported the incident\n",
        "\n",
        "opened_by_counts = data['opened_by'].value_counts()\n",
        "print(opened_by_counts)\n",
        "print (len(data.opened_by.unique()))"
      ],
      "metadata": {
        "colab": {
          "base_uri": "https://localhost:8080/"
        },
        "id": "Fj1QUWGSd4F8",
        "outputId": "a752d4fd-3db5-4af4-8584-e5e06a258fa9"
      },
      "execution_count": null,
      "outputs": [
        {
          "output_type": "stream",
          "name": "stdout",
          "text": [
            "opened_by\n",
            "Opened by  17     41463\n",
            "Opened by  24      8063\n",
            "Opened by  131     7269\n",
            "Opened by  108     6121\n",
            "Opened by  55      5655\n",
            "                  ...  \n",
            "Opened by  211        3\n",
            "Opened by  7          3\n",
            "Opened by  160        3\n",
            "Opened by  486        3\n",
            "Opened by  440        3\n",
            "Name: count, Length: 208, dtype: int64\n",
            "208\n"
          ]
        }
      ]
    },
    {
      "cell_type": "code",
      "source": [
        "# drop the opened_by feature from the dataset because it has no impact on predicting the Incident resolution time\n",
        "data.drop(['opened_by'],axis=1,inplace=True)"
      ],
      "metadata": {
        "id": "LdkpSR2QCjRs"
      },
      "execution_count": null,
      "outputs": []
    },
    {
      "cell_type": "code",
      "source": [
        "# validate opened_at: incident user opening date and time\n",
        "\n",
        "# Convert time-related columns to datetime\n",
        "data['opened_at'] = pd.to_datetime(data['opened_at'])\n",
        "\n",
        "# Group by year and count the occurrences\n",
        "opened_at_year_counts = data['opened_at'].dt.year.value_counts().sort_index()\n",
        "\n",
        "# Display the grouped data by year\n",
        "print(\"Incident counts grouped by year from 'opened_at':\")\n",
        "print(opened_at_year_counts)"
      ],
      "metadata": {
        "colab": {
          "base_uri": "https://localhost:8080/"
        },
        "id": "xjOeUMFLCshs",
        "outputId": "eb01cdc8-fd10-4d73-97ca-dcb78ba43d46"
      },
      "execution_count": null,
      "outputs": [
        {
          "output_type": "stream",
          "name": "stdout",
          "text": [
            "Incident counts grouped by year from 'opened_at':\n",
            "opened_at\n",
            "2016    140878\n",
            "2017       829\n",
            "Name: count, dtype: int64\n"
          ]
        }
      ]
    },
    {
      "cell_type": "code",
      "source": [
        " # Plot Incidents Open by year\n",
        "# Create the bar plot\n",
        "plt.figure(figsize=(10, 6))  # Set figure size\n",
        "opened_at_year_counts.plot(kind='bar', color='skyblue')\n",
        "\n",
        "# Add title and labels\n",
        "plt.title('Incidents Opened By Year', fontsize=14)\n",
        "plt.xlabel('Incidents Open Count', fontsize=12)\n",
        "plt.ylabel('Frequency', fontsize=12)\n",
        "\n",
        "# Show the plot\n",
        "plt.show()"
      ],
      "metadata": {
        "colab": {
          "base_uri": "https://localhost:8080/",
          "height": 590
        },
        "id": "dSVX0voKFfzm",
        "outputId": "cf7c6803-7257-42c3-9752-8c5a6c45de10"
      },
      "execution_count": null,
      "outputs": [
        {
          "output_type": "display_data",
          "data": {
            "text/plain": [
              "<Figure size 1000x600 with 1 Axes>"
            ],
            "image/png": "[encoded data removed]"
          },
          "metadata": {}
        }
      ]
    },
    {
      "cell_type": "code",
      "source": [
        "# validate the attribute - sys_created_by: identifier of the user who registered the incident\n",
        "sys_created_by_counts = data['sys_created_by'].value_counts()\n",
        "print(sys_created_by_counts)\n",
        "print (len(data.sys_created_by.unique()))\n"
      ],
      "metadata": {
        "colab": {
          "base_uri": "https://localhost:8080/"
        },
        "id": "DE1BsNdIF7c4",
        "outputId": "bbab00d8-d32e-4459-b08c-a730401bdc44"
      },
      "execution_count": null,
      "outputs": [
        {
          "output_type": "stream",
          "name": "stdout",
          "text": [
            "sys_created_by\n",
            "?                 53076\n",
            "Created by 10     24220\n",
            "Created by 13      4511\n",
            "Created by 62      3943\n",
            "Created by 52      3551\n",
            "                  ...  \n",
            "Created by 60         3\n",
            "Created by 191        3\n",
            "Created by 194        3\n",
            "Created by 73         3\n",
            "Created by 209        3\n",
            "Name: count, Length: 186, dtype: int64\n",
            "186\n"
          ]
        }
      ]
    },
    {
      "cell_type": "code",
      "source": [
        "# drop the sys_created_by feature from the dataset because it has no impact on predicting the Incident resolution time\n",
        "data.drop(['sys_created_by'],axis=1,inplace=True)"
      ],
      "metadata": {
        "id": "GSQZ5qwdGjNP"
      },
      "execution_count": null,
      "outputs": []
    },
    {
      "cell_type": "code",
      "source": [
        "# validate the attribute - sys_created_at: incident system creation date and time\n",
        "sys_created_at_counts = data['sys_created_at'].value_counts()\n",
        "print(sys_created_at_counts)\n",
        "print (len(data.sys_created_at.unique()))\n"
      ],
      "metadata": {
        "colab": {
          "base_uri": "https://localhost:8080/"
        },
        "id": "9KDHH3M6Gn3J",
        "outputId": "de4fb76a-5709-4c6b-f57e-23dddb32a362"
      },
      "execution_count": null,
      "outputs": [
        {
          "output_type": "stream",
          "name": "stdout",
          "text": [
            "sys_created_at\n",
            "?                  53076\n",
            "4/7/2016 14:50        56\n",
            "15/3/2016 15:19       52\n",
            "19/4/2016 11:32       47\n",
            "24/5/2016 09:14       47\n",
            "                   ...  \n",
            "9/3/2016 18:56         2\n",
            "8/4/2016 11:28         2\n",
            "21/3/2016 08:59        2\n",
            "30/3/2016 20:15        2\n",
            "26/3/2016 19:33        2\n",
            "Name: count, Length: 11553, dtype: int64\n",
            "11553\n"
          ]
        }
      ]
    },
    {
      "cell_type": "code",
      "source": [
        "# Drop the attribute sys_created_at, at it captures the same time stamp as opened_at attribute\n",
        "# opened_at attribute will be used to predict the closure time\n",
        "\n",
        "data.drop(['sys_created_at'],axis=1,inplace=True)\n"
      ],
      "metadata": {
        "id": "Y4trHnmKHWSW"
      },
      "execution_count": null,
      "outputs": []
    },
    {
      "cell_type": "code",
      "source": [
        "# validate the attribute sys_updated_by: identifier of the user who updated the incident and generated the current log record\n",
        "sys_updated_by_counts = data['sys_updated_by'].value_counts()\n",
        "print(sys_updated_by_counts)\n",
        "print (len(data.sys_updated_by.unique()))\n"
      ],
      "metadata": {
        "colab": {
          "base_uri": "https://localhost:8080/"
        },
        "id": "XvBoVGEqIhVF",
        "outputId": "0f25b28b-f3d0-4a09-cf14-cb9dbea17c67"
      },
      "execution_count": null,
      "outputs": [
        {
          "output_type": "stream",
          "name": "stdout",
          "text": [
            "sys_updated_by\n",
            "Updated by 908    36162\n",
            "Updated by 44     12644\n",
            "Updated by 60      7009\n",
            "Updated by 429     4169\n",
            "Updated by 859     2560\n",
            "                  ...  \n",
            "Updated by 169        1\n",
            "Updated by 760        1\n",
            "Updated by 227        1\n",
            "Updated by 768        1\n",
            "Updated by 907        1\n",
            "Name: count, Length: 845, dtype: int64\n",
            "845\n"
          ]
        }
      ]
    },
    {
      "cell_type": "code",
      "source": [
        "# drop the sys_updated_by feature from the dataset because it has no impact on predicting the Incident resolution time\n",
        "data.drop(['sys_updated_by'],axis=1,inplace=True)"
      ],
      "metadata": {
        "id": "LlC-ZXtSJS1M"
      },
      "execution_count": null,
      "outputs": []
    },
    {
      "cell_type": "code",
      "source": [
        "# validate the attribute -\tsys_updated_at: incident system update date and time\n",
        "\n",
        "sys_updated_at_counts = data['sys_updated_at'].value_counts()\n",
        "print(sys_updated_at_counts)\n",
        "print (len(data.sys_updated_at.unique()))\n"
      ],
      "metadata": {
        "colab": {
          "base_uri": "https://localhost:8080/"
        },
        "id": "dxliMxMzJYdb",
        "outputId": "bd5b4c9d-aa6f-48cd-f628-ba0c1214c58e"
      },
      "execution_count": null,
      "outputs": [
        {
          "output_type": "stream",
          "name": "stdout",
          "text": [
            "sys_updated_at\n",
            "24/3/2016 18:40    420\n",
            "24/3/2016 19:00    405\n",
            "24/3/2016 18:51    400\n",
            "24/3/2016 19:01    393\n",
            "24/3/2016 18:41    386\n",
            "                  ... \n",
            "13/4/2016 20:06      1\n",
            "11/4/2016 20:36      1\n",
            "8/4/2016 22:24       1\n",
            "22/6/2016 19:26      1\n",
            "10/4/2016 23:30      1\n",
            "Name: count, Length: 50660, dtype: int64\n",
            "50660\n"
          ]
        }
      ]
    },
    {
      "cell_type": "code",
      "source": [
        "# validate the attribute - contact_type: categorical attribute that shows by what means the incident was reported\n",
        "contact_type_counts = data['contact_type'].value_counts()\n",
        "print(contact_type_counts)"
      ],
      "metadata": {
        "colab": {
          "base_uri": "https://localhost:8080/"
        },
        "id": "bEz5KkL3KSaY",
        "outputId": "456e9988-0e8e-4b32-f2be-39267fe17022"
      },
      "execution_count": null,
      "outputs": [
        {
          "output_type": "stream",
          "name": "stdout",
          "text": [
            "contact_type\n",
            "Phone             140457\n",
            "Self service         995\n",
            "Email                220\n",
            "IVR                   18\n",
            "Direct opening        17\n",
            "Name: count, dtype: int64\n"
          ]
        }
      ]
    },
    {
      "cell_type": "markdown",
      "source": [
        "Most of the customers contacted through the phone"
      ],
      "metadata": {
        "id": "PwPmBzyaLsw9"
      }
    },
    {
      "cell_type": "code",
      "source": [
        "# Plot Contact Type attribute values\n",
        "\n",
        "# Convert to a DataFrame\n",
        "contact_type_df = pd.DataFrame(contact_type_counts)\n",
        "\n",
        "# Create a bar plot using Seaborn\n",
        "plt.figure(figsize=(10, 6))\n",
        "sns.barplot(x='contact_type', y='count', data=contact_type_df, palette='Blues_d')\n",
        "\n",
        "# Add title and labels\n",
        "plt.title('Contact Type Frequency', fontsize=14)\n",
        "plt.xlabel('Contact Type', fontsize=12)\n",
        "plt.ylabel('Frequency', fontsize=12)\n",
        "\n",
        "# Show plot\n",
        "plt.show()\n"
      ],
      "metadata": {
        "colab": {
          "base_uri": "https://localhost:8080/",
          "height": 569
        },
        "id": "LgP0CIqYKY5J",
        "outputId": "c51d928a-89ec-47f4-9edf-b02d9eec1cdc"
      },
      "execution_count": null,
      "outputs": [
        {
          "output_type": "display_data",
          "data": {
            "text/plain": [
              "<Figure size 1000x600 with 1 Axes>"
            ],
            "image/png": "[encoded data removed]"
          },
          "metadata": {}
        }
      ]
    },
    {
      "cell_type": "code",
      "source": [
        "# validate the attribute - location: identifier of the location of the place affected\n",
        "location_counts = data['location'].value_counts()\n",
        "print(location_counts)"
      ],
      "metadata": {
        "colab": {
          "base_uri": "https://localhost:8080/"
        },
        "id": "1VvrJtlFL364",
        "outputId": "83d4a74f-c57d-4f57-ce4d-32a0e479e0de"
      },
      "execution_count": null,
      "outputs": [
        {
          "output_type": "stream",
          "name": "stdout",
          "text": [
            "location\n",
            "Location 204    31690\n",
            "Location 161    22605\n",
            "Location 143    19245\n",
            "Location 108    12623\n",
            "Location 93     11554\n",
            "                ...  \n",
            "Location 227        3\n",
            "Location 211        3\n",
            "Location 132        2\n",
            "Location 31         2\n",
            "Location 166        2\n",
            "Name: count, Length: 225, dtype: int64\n"
          ]
        }
      ]
    },
    {
      "cell_type": "code",
      "source": [
        "# plot location attribute\n",
        "# Create the bar plot\n",
        "plt.figure(figsize=(10, 6))  # Set figure size\n",
        "location_counts.plot(kind='bar', color='skyblue')\n",
        "\n",
        "# Add title and labels\n",
        "plt.title('Location of the place affected', fontsize=14)\n",
        "plt.xlabel('Location', fontsize=12)\n",
        "plt.ylabel('Frequency', fontsize=12)\n",
        "\n",
        "# Show the plot\n",
        "plt.show()"
      ],
      "metadata": {
        "colab": {
          "base_uri": "https://localhost:8080/",
          "height": 645
        },
        "id": "FzYdBeijMAP5",
        "outputId": "ecd0d071-def6-46a7-b85e-6b07196f9847"
      },
      "execution_count": null,
      "outputs": [
        {
          "output_type": "display_data",
          "data": {
            "text/plain": [
              "<Figure size 1000x600 with 1 Axes>"
            ],
            "image/png": "[encoded data removed]"
          },
          "metadata": {}
        }
      ]
    },
    {
      "cell_type": "code",
      "source": [
        "# validate the attribute - category: first-level description of the affected service\n",
        "category_counts = data['category'].value_counts()\n",
        "print(category_counts)"
      ],
      "metadata": {
        "colab": {
          "base_uri": "https://localhost:8080/"
        },
        "id": "s3ZhsxSYMnBx",
        "outputId": "813c089e-25a1-4c33-85e6-a61e6b899bf3"
      },
      "execution_count": null,
      "outputs": [
        {
          "output_type": "stream",
          "name": "stdout",
          "text": [
            "category\n",
            "Category 26    18453\n",
            "Category 42    15977\n",
            "Category 53    15968\n",
            "Category 46    13321\n",
            "Category 23     7779\n",
            "Category 9      7365\n",
            "Category 32     7273\n",
            "Category 37     6584\n",
            "Category 57     6532\n",
            "Category 20     5506\n",
            "Category 61     5168\n",
            "Category 24     4561\n",
            "Category 34     3946\n",
            "Category 40     3760\n",
            "Category 45     3619\n",
            "Category 51     2390\n",
            "Category 28     2254\n",
            "Category 35     2037\n",
            "Category 44     1798\n",
            "Category 19     1592\n",
            "Category 13      994\n",
            "Category 43      858\n",
            "Category 55      801\n",
            "Category 17      512\n",
            "Category 22      420\n",
            "Category 56      322\n",
            "Category 38      290\n",
            "Category 8       264\n",
            "Category 7       207\n",
            "Category 33      160\n",
            "Category 54      139\n",
            "Category 50       93\n",
            "Category 31       92\n",
            "Category 63       78\n",
            "?                 78\n",
            "Category 2        77\n",
            "Category 21       69\n",
            "Category 47       50\n",
            "Category 59       42\n",
            "Category 41       36\n",
            "Category 29       32\n",
            "Category 5        31\n",
            "Category 25       30\n",
            "Category 62       25\n",
            "Category 10       24\n",
            "Category 4        22\n",
            "Category 52       16\n",
            "Category 30       15\n",
            "Category 48       10\n",
            "Category 6         7\n",
            "Category 16        7\n",
            "Category 14        5\n",
            "Category 58        5\n",
            "Category 12        3\n",
            "Category 15        3\n",
            "Category 27        2\n",
            "Category 36        2\n",
            "Category 49        2\n",
            "Category 3         1\n",
            "Name: count, dtype: int64\n"
          ]
        }
      ]
    },
    {
      "cell_type": "code",
      "source": [
        "# visualize\n",
        "# Create the bar plot\n",
        "plt.figure(figsize=(10, 6))  # Set figure size\n",
        "category_counts.plot(kind='bar', color='skyblue')\n",
        "\n",
        "# Add title and labels\n",
        "plt.title('Category of the affected service ', fontsize=14)\n",
        "plt.xlabel('Category', fontsize=12)\n",
        "plt.ylabel('Frequency', fontsize=12)\n",
        "\n",
        "# Show the plot\n",
        "plt.show()\n"
      ],
      "metadata": {
        "colab": {
          "base_uri": "https://localhost:8080/",
          "height": 641
        },
        "id": "P5hLzBC1OwFc",
        "outputId": "5e58bd3b-4f7d-4aec-8c80-d9e67b60402d"
      },
      "execution_count": null,
      "outputs": [
        {
          "output_type": "display_data",
          "data": {
            "text/plain": [
              "<Figure size 1000x600 with 1 Axes>"
            ],
            "image/png": "[encoded data removed]"
          },
          "metadata": {}
        }
      ]
    },
    {
      "cell_type": "code",
      "source": [
        "# validate the attribute - subcategory: second-level description of the affected service (related to the first level description, i.e., to category)\n",
        "subcategory_counts = data['subcategory'].value_counts()\n",
        "print(subcategory_counts)\n"
      ],
      "metadata": {
        "colab": {
          "base_uri": "https://localhost:8080/"
        },
        "id": "PbonsYAfU-XP",
        "outputId": "cea36212-d592-4ed7-d991-da4796054e4c"
      },
      "execution_count": null,
      "outputs": [
        {
          "output_type": "stream",
          "name": "stdout",
          "text": [
            "subcategory\n",
            "Subcategory 174    35783\n",
            "Subcategory 223    15598\n",
            "Subcategory 175    10496\n",
            "Subcategory 164     7880\n",
            "Subcategory 9       4124\n",
            "                   ...  \n",
            "Subcategory 116        2\n",
            "Subcategory 241        1\n",
            "Subcategory 179        1\n",
            "Subcategory 264        1\n",
            "Subcategory 284        1\n",
            "Name: count, Length: 255, dtype: int64\n"
          ]
        }
      ]
    },
    {
      "cell_type": "code",
      "source": [
        "#  validate the attribute -\tu_symptom: description of the user perception about service availability\n",
        "u_symptom_counts = data['u_symptom'].value_counts()\n",
        "print(u_symptom_counts)"
      ],
      "metadata": {
        "colab": {
          "base_uri": "https://localhost:8080/"
        },
        "id": "VSpK5FZ1VSpG",
        "outputId": "d0b7a32c-108b-43a9-f371-deda1aff58eb"
      },
      "execution_count": null,
      "outputs": [
        {
          "output_type": "stream",
          "name": "stdout",
          "text": [
            "u_symptom\n",
            "Symptom 491    51985\n",
            "?              32959\n",
            "Symptom 534     5559\n",
            "Symptom 387     2583\n",
            "Symptom 4       2532\n",
            "               ...  \n",
            "Symptom 599        1\n",
            "Symptom 590        1\n",
            "Symptom 137        1\n",
            "Symptom 188        1\n",
            "Symptom 488        1\n",
            "Name: count, Length: 526, dtype: int64\n"
          ]
        }
      ]
    },
    {
      "cell_type": "code",
      "source": [
        "# drop the u_symptom feature from the dataset because it has no impact on predicting the Incident resolution time\n",
        "data.drop(['u_symptom'],axis=1,inplace=True)"
      ],
      "metadata": {
        "id": "Q5JSXqwJVjZ7"
      },
      "execution_count": null,
      "outputs": []
    },
    {
      "cell_type": "code",
      "source": [
        "# validate the attribute - \timpact: description of the impact caused by the incident\n",
        "impact_counts = data['impact'].value_counts()\n",
        "print(impact_counts)"
      ],
      "metadata": {
        "colab": {
          "base_uri": "https://localhost:8080/"
        },
        "id": "DAaRtw0FVoSK",
        "outputId": "a8769c27-3c1c-4c5d-d1b0-13b91e86230d"
      },
      "execution_count": null,
      "outputs": [
        {
          "output_type": "stream",
          "name": "stdout",
          "text": [
            "impact\n",
            "2 - Medium    134330\n",
            "3 - Low         3886\n",
            "1 - High        3491\n",
            "Name: count, dtype: int64\n"
          ]
        }
      ]
    },
    {
      "cell_type": "code",
      "source": [
        "# Plotting the attribute 'impact'\n",
        "\n",
        "# Create the bar plot\n",
        "plt.figure(figsize=(10, 6))  # Set figure size\n",
        "impact_counts.plot(kind='bar', color='skyblue')\n",
        "\n",
        "# Add title and labels\n",
        "plt.title('Impact Details', fontsize=14)\n",
        "plt.xlabel('Impact', fontsize=12)\n",
        "plt.ylabel('Count', fontsize=12)\n",
        "\n",
        "# Show the plot\n",
        "plt.show()\n"
      ],
      "metadata": {
        "colab": {
          "base_uri": "https://localhost:8080/",
          "height": 633
        },
        "id": "Hfd_s0DWWhO6",
        "outputId": "93f83212-8569-4bc9-8bc3-17394d50dccd"
      },
      "execution_count": null,
      "outputs": [
        {
          "output_type": "display_data",
          "data": {
            "text/plain": [
              "<Figure size 1000x600 with 1 Axes>"
            ],
            "image/png": "[encoded data removed]"
          },
          "metadata": {}
        }
      ]
    },
    {
      "cell_type": "code",
      "source": [
        "# validate the attribute - urgency: description of the urgency informed by the user for the incident resolution\n",
        "urgency_counts = data['urgency'].value_counts()\n",
        "print(urgency_counts)\n",
        "\n",
        "# Visualization\n",
        "# Create the bar plot\n",
        "plt.figure(figsize=(10, 6))  # Set figure size\n",
        "urgency_counts.plot(kind='bar', color='skyblue')\n",
        "\n",
        "# Add title and labels\n",
        "plt.title('Urgency Details', fontsize=14)\n",
        "plt.xlabel('Urgency', fontsize=12)\n",
        "plt.ylabel('Count', fontsize=12)\n",
        "\n",
        "# Show the plot\n",
        "plt.show()\n",
        "\n",
        "\n",
        "\n"
      ],
      "metadata": {
        "colab": {
          "base_uri": "https://localhost:8080/",
          "height": 720
        },
        "id": "JBU3nNjYXfRc",
        "outputId": "100d4487-fcb1-490b-ef7b-238071497e45"
      },
      "execution_count": null,
      "outputs": [
        {
          "output_type": "stream",
          "name": "stdout",
          "text": [
            "urgency\n",
            "2 - Medium    134089\n",
            "1 - High        4020\n",
            "3 - Low         3598\n",
            "Name: count, dtype: int64\n"
          ]
        },
        {
          "output_type": "display_data",
          "data": {
            "text/plain": [
              "<Figure size 1000x600 with 1 Axes>"
            ],
            "image/png": "[encoded data removed]"
          },
          "metadata": {}
        }
      ]
    },
    {
      "cell_type": "markdown",
      "source": [
        "Most of the incidents has been created as medium urgency"
      ],
      "metadata": {
        "id": "QQVpnxKqZJzL"
      }
    },
    {
      "cell_type": "code",
      "source": [
        "# validate \tpriority: calculated by the system based on 'impact' and 'urgency'\n",
        "priority_counts = data['priority'].value_counts()\n",
        "print(priority_counts)\n"
      ],
      "metadata": {
        "colab": {
          "base_uri": "https://localhost:8080/"
        },
        "id": "67r6iqCwZLE9",
        "outputId": "eba8f02c-b2ca-4158-8cb4-edad0fe7f91e"
      },
      "execution_count": null,
      "outputs": [
        {
          "output_type": "stream",
          "name": "stdout",
          "text": [
            "priority\n",
            "3 - Moderate    132447\n",
            "4 - Low           4030\n",
            "2 - High          2972\n",
            "1 - Critical      2258\n",
            "Name: count, dtype: int64\n"
          ]
        }
      ]
    },
    {
      "cell_type": "code",
      "source": [
        "# validate \tpriority: calculated by the system based on 'impact' and 'urgency'\n",
        "\n",
        "fig_dims = (7, 4)\n",
        "fig, ax = plt.subplots(figsize=fig_dims)\n",
        "sns.countplot(x =  'priority' , data = data,ax=ax)\n",
        "plt.title(\"priority Details\", size = 14)\n",
        "plt.xlabel(\"priority Type\", size=12)\n",
        "plt.ylabel(\"Count\", size=12)\n",
        "#plt.xticks(rotation=90)\n",
        "plt.grid()\n",
        "plt.show()\n",
        "\n",
        "# priority counts\n",
        "data['priority'].value_counts()"
      ],
      "metadata": {
        "colab": {
          "base_uri": "https://localhost:8080/",
          "height": 639
        },
        "id": "evKziwxqZt44",
        "outputId": "b7b019ae-186b-4047-f7a4-9f90a857d070"
      },
      "execution_count": null,
      "outputs": [
        {
          "output_type": "display_data",
          "data": {
            "text/plain": [
              "<Figure size 700x400 with 1 Axes>"
            ],
            "image/png": "[encoded data removed]"
          },
          "metadata": {}
        },
        {
          "output_type": "execute_result",
          "data": {
            "text/plain": [
              "priority\n",
              "3 - Moderate    132447\n",
              "4 - Low           4030\n",
              "2 - High          2972\n",
              "1 - Critical      2258\n",
              "Name: count, dtype: int64"
            ],
            "text/html": [
              "<div>\n",
              "<style scoped>\n",
              "    .dataframe tbody tr th:only-of-type {\n",
              "        vertical-align: middle;\n",
              "    }\n",
              "\n",
              "    .dataframe tbody tr th {\n",
              "        vertical-align: top;\n",
              "    }\n",
              "\n",
              "    .dataframe thead th {\n",
              "        text-align: right;\n",
              "    }\n",
              "</style>\n",
              "<table border=\"1\" class=\"dataframe\">\n",
              "  <thead>\n",
              "    <tr style=\"text-align: right;\">\n",
              "      <th></th>\n",
              "      <th>count</th>\n",
              "    </tr>\n",
              "    <tr>\n",
              "      <th>priority</th>\n",
              "      <th></th>\n",
              "    </tr>\n",
              "  </thead>\n",
              "  <tbody>\n",
              "    <tr>\n",
              "      <th>3 - Moderate</th>\n",
              "      <td>132447</td>\n",
              "    </tr>\n",
              "    <tr>\n",
              "      <th>4 - Low</th>\n",
              "      <td>4030</td>\n",
              "    </tr>\n",
              "    <tr>\n",
              "      <th>2 - High</th>\n",
              "      <td>2972</td>\n",
              "    </tr>\n",
              "    <tr>\n",
              "      <th>1 - Critical</th>\n",
              "      <td>2258</td>\n",
              "    </tr>\n",
              "  </tbody>\n",
              "</table>\n",
              "</div><br><label><b>dtype:</b> int64</label>"
            ]
          },
          "metadata": {},
          "execution_count": 172
        }
      ]
    },
    {
      "cell_type": "markdown",
      "source": [
        "Most of the incidents has been created as Moderate Priority"
      ],
      "metadata": {
        "id": "-0D1t5uwaDko"
      }
    },
    {
      "cell_type": "code",
      "source": [
        "# validate the attribute - assignment_group: identifier of the support group in charge of the incident\n",
        "assignment_group_counts = data['assignment_group'].value_counts()\n",
        "print(assignment_group_counts)"
      ],
      "metadata": {
        "colab": {
          "base_uri": "https://localhost:8080/"
        },
        "id": "mlxPvSjUaacY",
        "outputId": "d65b3f93-9b58-4c82-9b8e-13dd0dd9b56e"
      },
      "execution_count": null,
      "outputs": [
        {
          "output_type": "stream",
          "name": "stdout",
          "text": [
            "assignment_group\n",
            "Group 70    43474\n",
            "?           14213\n",
            "Group 25     7679\n",
            "Group 24     6752\n",
            "Group 20     6170\n",
            "            ...  \n",
            "Group 41        3\n",
            "Group 38        2\n",
            "Group 11        1\n",
            "Group 4         1\n",
            "Group 16        1\n",
            "Name: count, Length: 79, dtype: int64\n"
          ]
        }
      ]
    },
    {
      "cell_type": "code",
      "source": [
        "# drop the assignment_group feature from the dataset because it has no impact on predicting the Incident resolution time\n",
        "data.drop(['assignment_group'],axis=1,inplace=True)"
      ],
      "metadata": {
        "id": "noSdmwNjbCJb"
      },
      "execution_count": null,
      "outputs": []
    },
    {
      "cell_type": "code",
      "source": [
        "# validate the attribute - assigned_to: identifier of the user in charge of the incident\n",
        "assigned_to_counts = data['assigned_to'].value_counts()\n",
        "print(assigned_to_counts)"
      ],
      "metadata": {
        "colab": {
          "base_uri": "https://localhost:8080/"
        },
        "id": "7DqmGQSBbNbg",
        "outputId": "04851ec5-d16e-4dbd-8085-7046ab26b542"
      },
      "execution_count": null,
      "outputs": [
        {
          "output_type": "stream",
          "name": "stdout",
          "text": [
            "assigned_to\n",
            "?               27496\n",
            "Resolver 17     10590\n",
            "Resolver 13      8802\n",
            "Resolver 194     3515\n",
            "Resolver 57      3144\n",
            "                ...  \n",
            "Resolver 131        1\n",
            "Resolver 146        1\n",
            "Resolver 67         1\n",
            "Resolver 129        1\n",
            "Resolver 199        1\n",
            "Name: count, Length: 235, dtype: int64\n"
          ]
        }
      ]
    },
    {
      "cell_type": "code",
      "source": [
        "# drop the assigned_to feature from the dataset because it has no impact on predicting the Incident resolution time\n",
        "data.drop(['assigned_to'],axis=1,inplace=True)"
      ],
      "metadata": {
        "id": "3pHBiWqgbZsL"
      },
      "execution_count": null,
      "outputs": []
    },
    {
      "cell_type": "code",
      "source": [
        "# validate the attribute - knowledge: boolean attribute that shows whether a knowledge base document was used to resolve the incident\n",
        "knowledge_counts = data['knowledge'].value_counts()\n",
        "print(knowledge_counts)"
      ],
      "metadata": {
        "colab": {
          "base_uri": "https://localhost:8080/"
        },
        "id": "wH0zVSi7bhpN",
        "outputId": "ab78cdf2-2dcd-4fd4-f6af-3dd654aba162"
      },
      "execution_count": null,
      "outputs": [
        {
          "output_type": "stream",
          "name": "stdout",
          "text": [
            "knowledge\n",
            "False    116344\n",
            "True      25363\n",
            "Name: count, dtype: int64\n"
          ]
        }
      ]
    },
    {
      "cell_type": "markdown",
      "source": [
        "Knowledge base document has been used for most of the cases to resolve them"
      ],
      "metadata": {
        "id": "0eIFc_1cb7my"
      }
    },
    {
      "cell_type": "code",
      "source": [
        "# Plotting the Knowldge attribue\n",
        "\n",
        "\n",
        "labels = ['True', 'False']\n",
        "\n",
        "# Create pie chart\n",
        "plt.pie(knowledge_counts, labels=labels, autopct='%1.1f%%', startangle=90)\n",
        "\n",
        "# Add title\n",
        "plt.title('Distribution of Active Incidents')\n",
        "\n",
        "# Ensure circle shape\n",
        "plt.axis('equal')\n",
        "\n",
        "# Display the chart\n",
        "plt.show()\n"
      ],
      "metadata": {
        "colab": {
          "base_uri": "https://localhost:8080/",
          "height": 428
        },
        "id": "NJdvMZBtb5Dl",
        "outputId": "a9838f37-bb09-42ec-8cd4-827620baa756"
      },
      "execution_count": null,
      "outputs": [
        {
          "output_type": "display_data",
          "data": {
            "text/plain": [
              "<Figure size 640x480 with 1 Axes>"
            ],
            "image/png": "[encoded data removed]"
          },
          "metadata": {}
        }
      ]
    },
    {
      "cell_type": "code",
      "source": [
        "# validate the attribute - u_priority_confirmation: boolean attribute that shows whether the priority field has been double-checked\n",
        "u_priority_confirmation_counts = data['u_priority_confirmation'].value_counts()\n",
        "print(u_priority_confirmation_counts)\n",
        "\n",
        "# Create the bar plot\n",
        "plt.figure(figsize=(6, 4))\n",
        "u_priority_confirmation_counts.plot(kind='bar', color=['lightgreen', 'salmon'])\n",
        "\n",
        "# Add title and labels\n",
        "plt.title('Priority Confirmation Distribution', fontsize=14)\n",
        "plt.xlabel('Priority Field Double-Checked', fontsize=12)\n",
        "plt.ylabel('Count', fontsize=12)\n",
        "\n",
        "# Show the plot\n",
        "plt.show()"
      ],
      "metadata": {
        "colab": {
          "base_uri": "https://localhost:8080/",
          "height": 505
        },
        "id": "zXf-SnAmc6qB",
        "outputId": "18db572b-ef63-424c-eeb4-6f3caf810267"
      },
      "execution_count": null,
      "outputs": [
        {
          "output_type": "stream",
          "name": "stdout",
          "text": [
            "u_priority_confirmation\n",
            "False    100735\n",
            "True      40972\n",
            "Name: count, dtype: int64\n"
          ]
        },
        {
          "output_type": "display_data",
          "data": {
            "text/plain": [
              "<Figure size 600x400 with 1 Axes>"
            ],
            "image/png": "[encoded data removed]"
          },
          "metadata": {}
        }
      ]
    },
    {
      "cell_type": "code",
      "source": [
        "# validate the attribute - notify: categorical attribute that shows whether notifications were generated for the incident\n",
        "notify_counts = data['notify'].value_counts()\n",
        "print(notify_counts)"
      ],
      "metadata": {
        "colab": {
          "base_uri": "https://localhost:8080/"
        },
        "id": "xY8D1ArJd0wP",
        "outputId": "9180dca4-fd29-45b8-d41c-73682445bcb9"
      },
      "execution_count": null,
      "outputs": [
        {
          "output_type": "stream",
          "name": "stdout",
          "text": [
            "notify\n",
            "Do Not Notify    141588\n",
            "Send Email          119\n",
            "Name: count, dtype: int64\n"
          ]
        }
      ]
    },
    {
      "cell_type": "code",
      "source": [
        "# Notifications were not generated for most of the Incidents\n",
        "# drop this feature, because it has no impact on predicting the Incident resolution time\n",
        "data.drop(['notify'],axis=1,inplace=True)"
      ],
      "metadata": {
        "id": "EbgiYMi_etre"
      },
      "execution_count": null,
      "outputs": []
    },
    {
      "cell_type": "code",
      "source": [
        "# validate closed_code: identifier of the resolution of the incident\n",
        "close_code_counts = data['closed_code'].value_counts()\n",
        "print(close_code_counts)"
      ],
      "metadata": {
        "colab": {
          "base_uri": "https://localhost:8080/"
        },
        "id": "s_RNe797fE8i",
        "outputId": "7827cb9c-1595-40ae-e88a-248b055b325a"
      },
      "execution_count": null,
      "outputs": [
        {
          "output_type": "stream",
          "name": "stdout",
          "text": [
            "closed_code\n",
            "code 6     86583\n",
            "code 7     20728\n",
            "code 9     13562\n",
            "code 8      5646\n",
            "code 5      4469\n",
            "code 1      3265\n",
            "code 10     1678\n",
            "code 11     1493\n",
            "code 4      1139\n",
            "code 16     1091\n",
            "?            714\n",
            "code 3       608\n",
            "code 2       349\n",
            "code 15      183\n",
            "code 17      115\n",
            "code 13       59\n",
            "code 12       13\n",
            "code 14       12\n",
            "Name: count, dtype: int64\n"
          ]
        }
      ]
    },
    {
      "cell_type": "code",
      "source": [
        "# drop the feature closed_code, because it has no impact on predicting the Incident resolution time\n",
        "# and will not be available unless the Incident is closed\n",
        "data.drop(['closed_code'],axis=1,inplace=True)"
      ],
      "metadata": {
        "id": "mijL_0Jqf19f"
      },
      "execution_count": null,
      "outputs": []
    },
    {
      "cell_type": "code",
      "source": [
        "#validate the attribute - resolved_by: identifier of the user who resolved the incident\n",
        "resolved_by_counts = data['resolved_by'].value_counts()\n",
        "print(resolved_by_counts)"
      ],
      "metadata": {
        "colab": {
          "base_uri": "https://localhost:8080/"
        },
        "id": "S9nTNrk7gI5i",
        "outputId": "9dee0503-735f-4c01-c84f-8de3c5bd4995"
      },
      "execution_count": null,
      "outputs": [
        {
          "output_type": "stream",
          "name": "stdout",
          "text": [
            "resolved_by\n",
            "Resolved by 15     15421\n",
            "Resolved by 11     12050\n",
            "Resolved by 103     5360\n",
            "Resolved by 177     3811\n",
            "Resolved by 53      3637\n",
            "                   ...  \n",
            "Resolved by 222        4\n",
            "Resolved by 17         4\n",
            "Resolved by 39         3\n",
            "Resolved by 185        3\n",
            "Resolved by 48         3\n",
            "Name: count, Length: 217, dtype: int64\n"
          ]
        }
      ]
    },
    {
      "cell_type": "code",
      "source": [
        "# drop the feature 'resolved_by' from the dataset because it has no impact on predicting the Incident resolution time\n",
        "data.drop(['resolved_by'],axis=1,inplace=True)"
      ],
      "metadata": {
        "id": "4nB2xklmgo09"
      },
      "execution_count": null,
      "outputs": []
    },
    {
      "cell_type": "code",
      "source": [
        "# validate the attribute - resolved_at: incident user resolution date and time (dependent variable)\n",
        "resolved_at_counts = data['resolved_at'].value_counts()\n",
        "print(resolved_at_counts)"
      ],
      "metadata": {
        "colab": {
          "base_uri": "https://localhost:8080/"
        },
        "id": "ML-B9NrMgv8J",
        "outputId": "b4e32a29-3089-4ac1-e686-4bfd62a0ec7b"
      },
      "execution_count": null,
      "outputs": [
        {
          "output_type": "stream",
          "name": "stdout",
          "text": [
            "resolved_at\n",
            "?                  3141\n",
            "3/6/2016 16:29       93\n",
            "3/6/2016 16:28       85\n",
            "3/6/2016 16:27       83\n",
            "3/6/2016 16:31       59\n",
            "                   ... \n",
            "4/4/2016 08:34        2\n",
            "18/3/2016 15:21       2\n",
            "18/3/2016 15:38       2\n",
            "30/3/2016 02:01       2\n",
            "17/3/2016 10:21       2\n",
            "Name: count, Length: 18506, dtype: int64\n"
          ]
        }
      ]
    },
    {
      "cell_type": "code",
      "source": [
        "# validate the attribute - closed_at: incident user close date and time (dependent variable)\n",
        "closed_at_counts = data['closed_at'].value_counts()\n",
        "print(closed_at_counts)"
      ],
      "metadata": {
        "colab": {
          "base_uri": "https://localhost:8080/"
        },
        "id": "14qG4kyfiyqR",
        "outputId": "74d80755-be4f-457e-f623-a33e6d7afbe8"
      },
      "execution_count": null,
      "outputs": [
        {
          "output_type": "stream",
          "name": "stdout",
          "text": [
            "closed_at\n",
            "24/3/2016 18:59    3324\n",
            "24/3/2016 18:50    2846\n",
            "24/3/2016 18:40    2808\n",
            "24/3/2016 19:00    2780\n",
            "24/3/2016 19:01    2044\n",
            "                   ... \n",
            "29/4/2016 08:07       2\n",
            "1/4/2016 20:59        2\n",
            "5/3/2016 11:00        2\n",
            "19/5/2016 23:07       2\n",
            "3/4/2016 04:59        2\n",
            "Name: count, Length: 2707, dtype: int64\n"
          ]
        }
      ]
    },
    {
      "cell_type": "code",
      "source": [
        "data.info()"
      ],
      "metadata": {
        "colab": {
          "base_uri": "https://localhost:8080/"
        },
        "id": "4QjPdPtTjGIf",
        "outputId": "b3c6458d-d983-4b6c-d49d-083db194918b"
      },
      "execution_count": null,
      "outputs": [
        {
          "output_type": "stream",
          "name": "stdout",
          "text": [
            "<class 'pandas.core.frame.DataFrame'>\n",
            "Index: 141707 entries, 0 to 141711\n",
            "Data columns (total 20 columns):\n",
            " #   Column                   Non-Null Count   Dtype         \n",
            "---  ------                   --------------   -----         \n",
            " 0   number                   141707 non-null  object        \n",
            " 1   incident_state           141707 non-null  object        \n",
            " 2   active                   141707 non-null  bool          \n",
            " 3   reassignment_count       141707 non-null  int64         \n",
            " 4   reopen_count             141707 non-null  int64         \n",
            " 5   sys_mod_count            141707 non-null  int64         \n",
            " 6   made_sla                 141707 non-null  bool          \n",
            " 7   opened_at                141707 non-null  datetime64[ns]\n",
            " 8   sys_updated_at           141707 non-null  object        \n",
            " 9   contact_type             141707 non-null  object        \n",
            " 10  location                 141707 non-null  object        \n",
            " 11  category                 141707 non-null  object        \n",
            " 12  subcategory              141707 non-null  object        \n",
            " 13  impact                   141707 non-null  object        \n",
            " 14  urgency                  141707 non-null  object        \n",
            " 15  priority                 141707 non-null  object        \n",
            " 16  knowledge                141707 non-null  bool          \n",
            " 17  u_priority_confirmation  141707 non-null  bool          \n",
            " 18  resolved_at              141707 non-null  object        \n",
            " 19  closed_at                141707 non-null  object        \n",
            "dtypes: bool(4), datetime64[ns](1), int64(3), object(12)\n",
            "memory usage: 18.9+ MB\n"
          ]
        }
      ]
    },
    {
      "cell_type": "code",
      "source": [
        "data.columns"
      ],
      "metadata": {
        "colab": {
          "base_uri": "https://localhost:8080/"
        },
        "id": "M83AfR-rjR8g",
        "outputId": "f0bc308f-9e64-4be9-be8a-74581b56aa08"
      },
      "execution_count": null,
      "outputs": [
        {
          "output_type": "execute_result",
          "data": {
            "text/plain": [
              "Index(['number', 'incident_state', 'active', 'reassignment_count',\n",
              "       'reopen_count', 'sys_mod_count', 'made_sla', 'opened_at',\n",
              "       'sys_updated_at', 'contact_type', 'location', 'category', 'subcategory',\n",
              "       'impact', 'urgency', 'priority', 'knowledge', 'u_priority_confirmation',\n",
              "       'resolved_at', 'closed_at'],\n",
              "      dtype='object')"
            ]
          },
          "metadata": {},
          "execution_count": 189
        }
      ]
    },
    {
      "cell_type": "markdown",
      "source": [
        "**Feature Engineering**"
      ],
      "metadata": {
        "id": "gOeamhnEjWCm"
      }
    },
    {
      "cell_type": "code",
      "source": [
        "# # Convert time-related columns to datetime, handling invalid entries like \"?\"\n",
        "\n",
        "data['opened_at'] = pd.to_datetime(data['opened_at'], errors='coerce')\n",
        "data['resolved_at'] = pd.to_datetime(data['resolved_at'], errors='coerce')\n",
        "data['closed_at'] = pd.to_datetime(data['closed_at'], errors='coerce')\n",
        "data['sys_updated_at'] =   pd.to_datetime(data['sys_updated_at'], errors='coerce')\n",
        "\n",
        "# Check the result to make sure conversion worked and \"?\" are replaced with NaT\n",
        "print(data[['opened_at','resolved_at', 'closed_at','sys_updated_at']].head())"
      ],
      "metadata": {
        "colab": {
          "base_uri": "https://localhost:8080/"
        },
        "id": "t0--BLNQjhH8",
        "outputId": "62003970-aa16-4f16-8545-7038cfd6bc44"
      },
      "execution_count": null,
      "outputs": [
        {
          "output_type": "stream",
          "name": "stdout",
          "text": [
            "            opened_at         resolved_at           closed_at  \\\n",
            "0 2016-02-29 01:16:00 2016-02-29 11:29:00 2016-05-03 12:00:00   \n",
            "1 2016-02-29 01:16:00 2016-02-29 11:29:00 2016-05-03 12:00:00   \n",
            "2 2016-02-29 01:16:00 2016-02-29 11:29:00 2016-05-03 12:00:00   \n",
            "3 2016-02-29 01:16:00 2016-02-29 11:29:00 2016-05-03 12:00:00   \n",
            "4 2016-02-29 04:40:00 2016-03-01 09:52:00 2016-06-03 10:00:00   \n",
            "\n",
            "       sys_updated_at  \n",
            "0 2016-02-29 01:23:00  \n",
            "1 2016-02-29 08:53:00  \n",
            "2 2016-02-29 11:29:00  \n",
            "3 2016-03-05 12:00:00  \n",
            "4 2016-02-29 04:57:00  \n"
          ]
        }
      ]
    },
    {
      "cell_type": "code",
      "source": [
        "# Identifying the missing values after the initial data clean up\n",
        "# calculate % of the missing data values with '?' and calculate %\n",
        "\n",
        "# Initialize an empty dictionary to store counts of rows with '?' for each column\n",
        "question_mark_pct = {}\n",
        "\n",
        "# Loop through each column in the DataFrame\n",
        "for col in data.columns:\n",
        "    # Count rows where the column contains '?'\n",
        "    count_pct = (data[col] == '?').sum()/data.shape[0]*100\n",
        "    # Store the count in the dictionary with the column name as the key\n",
        "    question_mark_pct[col] = count_pct\n",
        "\n",
        "# Convert the dictionary to a DataFrame\n",
        "question_mark_df = pd.DataFrame(list(question_mark_pct.items()), columns=['Column', 'Percentage'])\n",
        "\n",
        "# Sort the DataFrame by the 'Percentage' column in descending order\n",
        "sorted_question_mark_df = question_mark_df.sort_values(by='Percentage', ascending=False)\n",
        "\n",
        "# Display the sorted DataFrame\n",
        "print(\"Percentage of rows where each column contains '?' (sorted by descending order):\")\n",
        "print(sorted_question_mark_df)\n",
        "\n"
      ],
      "metadata": {
        "colab": {
          "base_uri": "https://localhost:8080/"
        },
        "id": "Pmf6M4uqlJte",
        "outputId": "1a990101-7afc-4f6a-fef0-519a889c1fd7"
      },
      "execution_count": null,
      "outputs": [
        {
          "output_type": "stream",
          "name": "stdout",
          "text": [
            "Percentage of rows where each column contains '?' (sorted by descending order):\n",
            "                     Column  Percentage\n",
            "12              subcategory    0.078331\n",
            "11                 category    0.055043\n",
            "10                 location    0.053632\n",
            "1            incident_state    0.000000\n",
            "18              resolved_at    0.000000\n",
            "17  u_priority_confirmation    0.000000\n",
            "16                knowledge    0.000000\n",
            "15                 priority    0.000000\n",
            "14                  urgency    0.000000\n",
            "13                   impact    0.000000\n",
            "0                    number    0.000000\n",
            "9              contact_type    0.000000\n",
            "8            sys_updated_at    0.000000\n",
            "7                 opened_at    0.000000\n",
            "6                  made_sla    0.000000\n",
            "5             sys_mod_count    0.000000\n",
            "4              reopen_count    0.000000\n",
            "3        reassignment_count    0.000000\n",
            "2                    active    0.000000\n",
            "19                closed_at    0.000000\n"
          ]
        }
      ]
    },
    {
      "cell_type": "code",
      "source": [
        "# Replace '?' with NaN for easier manipulation\n",
        "data.replace('?', np.nan, inplace=True)\n",
        "\n",
        "# Find columns that contain '?' (now NaN) and calculate the number of '?' in each column\n",
        "columns_with_question_marks = data.columns[data.isna().any()].tolist()\n",
        "\n",
        "# Count the number of missing ('?') values in each column\n",
        "missing_values_count = data.isna().sum()\n",
        "\n",
        "# Filter to only columns that had '?'\n",
        "question_mark_columns = missing_values_count[missing_values_count > 0]\n",
        "\n",
        "print(\"\\nColumns with '?' and their counts:\")\n",
        "print(question_mark_columns)\n",
        "\n"
      ],
      "metadata": {
        "colab": {
          "base_uri": "https://localhost:8080/"
        },
        "id": "bs1H5bAjnYcN",
        "outputId": "9994456c-12e9-47d8-afad-c7387a7c063d"
      },
      "execution_count": null,
      "outputs": [
        {
          "output_type": "stream",
          "name": "stdout",
          "text": [
            "\n",
            "Columns with '?' and their counts:\n",
            "location          76\n",
            "category          78\n",
            "subcategory      111\n",
            "resolved_at     3141\n",
            "closed_at      85391\n",
            "dtype: int64\n"
          ]
        }
      ]
    },
    {
      "cell_type": "code",
      "source": [
        "# Check if any column still contains '?'\n",
        "contains_question_mark = (data == '?').any().any()\n",
        "\n",
        "# If True, print a message\n",
        "if contains_question_mark:\n",
        "    print(\"There are still some '?' values in the dataset.\")\n",
        "else:\n",
        "    print(\"No '?' values found in the dataset.\")"
      ],
      "metadata": {
        "colab": {
          "base_uri": "https://localhost:8080/"
        },
        "id": "YP6AXEGWopRQ",
        "outputId": "78b1eca9-cb26-478d-d398-18088a50949b"
      },
      "execution_count": null,
      "outputs": [
        {
          "output_type": "stream",
          "name": "stdout",
          "text": [
            "No '?' values found in the dataset.\n"
          ]
        }
      ]
    },
    {
      "cell_type": "code",
      "source": [
        "# Check the columns with missing data\n",
        "print(data.isnull().sum())"
      ],
      "metadata": {
        "colab": {
          "base_uri": "https://localhost:8080/"
        },
        "id": "hExuQqYit_yc",
        "outputId": "ad847595-f196-4a8f-8b88-266eb52c2d48"
      },
      "execution_count": null,
      "outputs": [
        {
          "output_type": "stream",
          "name": "stdout",
          "text": [
            "number                         0\n",
            "incident_state                 0\n",
            "active                         0\n",
            "reassignment_count             0\n",
            "reopen_count                   0\n",
            "sys_mod_count                  0\n",
            "made_sla                       0\n",
            "opened_at                      0\n",
            "sys_updated_at                 0\n",
            "contact_type                   0\n",
            "location                      76\n",
            "category                      78\n",
            "subcategory                  111\n",
            "impact                         0\n",
            "urgency                        0\n",
            "priority                       0\n",
            "knowledge                      0\n",
            "u_priority_confirmation        0\n",
            "resolved_at                 3141\n",
            "closed_at                  85391\n",
            "dtype: int64\n"
          ]
        }
      ]
    },
    {
      "cell_type": "code",
      "source": [
        "# Check the columns with missing data\n",
        "print(data.isnull().sum()/data.shape[0]*100)"
      ],
      "metadata": {
        "colab": {
          "base_uri": "https://localhost:8080/"
        },
        "id": "PRnMpPRkuv44",
        "outputId": "d94d5e69-9283-4030-df67-6a6d0c493616"
      },
      "execution_count": null,
      "outputs": [
        {
          "output_type": "stream",
          "name": "stdout",
          "text": [
            "number                      0.000000\n",
            "incident_state              0.000000\n",
            "active                      0.000000\n",
            "reassignment_count          0.000000\n",
            "reopen_count                0.000000\n",
            "sys_mod_count               0.000000\n",
            "made_sla                    0.000000\n",
            "opened_at                   0.000000\n",
            "sys_updated_at              0.000000\n",
            "contact_type                0.000000\n",
            "location                    0.053632\n",
            "category                    0.055043\n",
            "subcategory                 0.078331\n",
            "impact                      0.000000\n",
            "urgency                     0.000000\n",
            "priority                    0.000000\n",
            "knowledge                   0.000000\n",
            "u_priority_confirmation     0.000000\n",
            "resolved_at                 2.216545\n",
            "closed_at                  60.258844\n",
            "dtype: float64\n"
          ]
        }
      ]
    },
    {
      "cell_type": "markdown",
      "source": [
        "**Handle missing values:**\n",
        "\n",
        "closed_at and resolved_at are important feature to predict the Incident resolution time.\n",
        "\n",
        "closed_at and resolved_at are missing 60% (high volume) and 2% of the data respectively. These features needs to be handled by imputing with the appropriate values\n",
        "\n",
        "We will drop rows with missing values in the other features 'location', 'category',and 'subcategory'"
      ],
      "metadata": {
        "id": "2WSC-78vwIO1"
      }
    },
    {
      "cell_type": "code",
      "source": [
        "# drop rows with missing values in the other features 'location', 'category',and 'subcategory'\n",
        "data = data.dropna(subset=['location', 'category', 'subcategory'])"
      ],
      "metadata": {
        "id": "LxbGiTdewG_w"
      },
      "execution_count": null,
      "outputs": []
    },
    {
      "cell_type": "code",
      "source": [
        "# Calculate Mean Date , Median Date, Most Frequent Date for resolved_at and closed_at\n",
        "\n",
        "# Calculate Mean Date\n",
        "mean_date_resolved = data['resolved_at'].dropna().mean()\n",
        "mean_date_closed = data['closed_at'].dropna().mean()\n",
        "\n",
        "# Calculate Median Date\n",
        "median_date_resolved = data['resolved_at'].dropna().median()\n",
        "median_date_closed = data['closed_at'].dropna().median()\n",
        "\n",
        "# Calculate Most Frequent Date\n",
        "most_frequent_date_resolved = data['resolved_at'].mode()[0] if not data['resolved_at'].mode().empty else None\n",
        "most_frequent_date_closed = data['closed_at'].mode()[0] if not data['closed_at'].mode().empty else None\n",
        "\n",
        "# Display results\n",
        "print(f\"Mean Date for 'resolved_at': {mean_date_resolved}\")\n",
        "print(f\"Mean Date for 'closed_at': {mean_date_closed}\")\n",
        "print(f\"Median Date for 'resolved_at': {median_date_resolved}\")\n",
        "print(f\"Median Date for 'closed_at': {median_date_closed}\")\n",
        "print(f\"Most Frequent Date for 'resolved_at': {most_frequent_date_resolved}\")\n",
        "print(f\"Most Frequent Date for 'closed_at': {most_frequent_date_closed}\")"
      ],
      "metadata": {
        "colab": {
          "base_uri": "https://localhost:8080/"
        },
        "id": "7xzbQa3i0-T_",
        "outputId": "39e71357-34b3-4089-861f-085eead3b30c"
      },
      "execution_count": null,
      "outputs": [
        {
          "output_type": "stream",
          "name": "stdout",
          "text": [
            "Mean Date for 'resolved_at': 2016-04-24 04:39:26.319172608\n",
            "Mean Date for 'closed_at': 2016-06-27 12:38:10.701682432\n",
            "Median Date for 'resolved_at': 2016-04-15 13:19:00\n",
            "Median Date for 'closed_at': 2016-07-03 17:00:00\n",
            "Most Frequent Date for 'resolved_at': 2016-06-03 16:29:00\n",
            "Most Frequent Date for 'closed_at': 2016-08-06 17:07:00\n"
          ]
        }
      ]
    },
    {
      "cell_type": "code",
      "source": [
        "# Impute missing values with the median date\n",
        "# which is also robust and typically less affected by outliers\n",
        "\n",
        "def impute_median_date(series):\n",
        "    median_date = series.dropna().median()\n",
        "    return series.fillna(median_date)\n",
        "\n",
        "data['resolved_at'] = impute_median_date(data['resolved_at'])\n",
        "data['closed_at'] = impute_median_date(data['closed_at'])\n",
        "\n",
        "# Display the updated columns\n",
        "print(data[['resolved_at', 'closed_at']].isnull().sum())"
      ],
      "metadata": {
        "colab": {
          "base_uri": "https://localhost:8080/"
        },
        "id": "hCRH6m6kz52r",
        "outputId": "28bb659b-ee40-4290-ac73-0af857315297"
      },
      "execution_count": null,
      "outputs": [
        {
          "output_type": "stream",
          "name": "stdout",
          "text": [
            "resolved_at    0\n",
            "closed_at      0\n",
            "dtype: int64\n"
          ]
        }
      ]
    },
    {
      "cell_type": "code",
      "source": [
        "# Display the updated columns\n",
        "print(data[['resolved_at', 'closed_at']].isnull())"
      ],
      "metadata": {
        "colab": {
          "base_uri": "https://localhost:8080/"
        },
        "id": "ISgDNsFcz-el",
        "outputId": "49aa679d-38d8-4dea-a926-a8c6faefed09"
      },
      "execution_count": null,
      "outputs": [
        {
          "output_type": "stream",
          "name": "stdout",
          "text": [
            "        resolved_at  closed_at\n",
            "0             False      False\n",
            "1             False      False\n",
            "2             False      False\n",
            "3             False      False\n",
            "4             False      False\n",
            "...             ...        ...\n",
            "141707        False      False\n",
            "141708        False      False\n",
            "141709        False      False\n",
            "141710        False      False\n",
            "141711        False      False\n",
            "\n",
            "[141596 rows x 2 columns]\n"
          ]
        }
      ]
    },
    {
      "cell_type": "markdown",
      "source": [
        "**Baseline Model:**\n",
        "\n",
        "We'll start with a simple baseline model that predicts the mean or median closure time for every incident. This provides a reference for evaluating more complex models."
      ],
      "metadata": {
        "id": "aCl6PvCXFuaR"
      }
    },
    {
      "cell_type": "markdown",
      "source": [
        "**Time-based Features:** create features based on the time differences between the incident's opening and closing times."
      ],
      "metadata": {
        "id": "AcJQITfv3IN7"
      }
    },
    {
      "cell_type": "code",
      "source": [
        "data.info()"
      ],
      "metadata": {
        "colab": {
          "base_uri": "https://localhost:8080/"
        },
        "id": "GKNhZ_PykXcg",
        "outputId": "b167a213-4b32-4271-c130-9124b9a1bfaa"
      },
      "execution_count": null,
      "outputs": [
        {
          "output_type": "stream",
          "name": "stdout",
          "text": [
            "<class 'pandas.core.frame.DataFrame'>\n",
            "Index: 141596 entries, 0 to 141711\n",
            "Data columns (total 20 columns):\n",
            " #   Column                   Non-Null Count   Dtype         \n",
            "---  ------                   --------------   -----         \n",
            " 0   number                   141596 non-null  object        \n",
            " 1   incident_state           141596 non-null  object        \n",
            " 2   active                   141596 non-null  bool          \n",
            " 3   reassignment_count       141596 non-null  int64         \n",
            " 4   reopen_count             141596 non-null  int64         \n",
            " 5   sys_mod_count            141596 non-null  int64         \n",
            " 6   made_sla                 141596 non-null  bool          \n",
            " 7   opened_at                141596 non-null  datetime64[ns]\n",
            " 8   sys_updated_at           141596 non-null  datetime64[ns]\n",
            " 9   contact_type             141596 non-null  object        \n",
            " 10  location                 141596 non-null  object        \n",
            " 11  category                 141596 non-null  object        \n",
            " 12  subcategory              141596 non-null  object        \n",
            " 13  impact                   141596 non-null  object        \n",
            " 14  urgency                  141596 non-null  object        \n",
            " 15  priority                 141596 non-null  object        \n",
            " 16  knowledge                141596 non-null  bool          \n",
            " 17  u_priority_confirmation  141596 non-null  bool          \n",
            " 18  resolved_at              141596 non-null  datetime64[ns]\n",
            " 19  closed_at                141596 non-null  datetime64[ns]\n",
            "dtypes: bool(4), datetime64[ns](4), int64(3), object(9)\n",
            "memory usage: 18.9+ MB\n"
          ]
        }
      ]
    },
    {
      "cell_type": "markdown",
      "source": [
        "**Aggregation Features:** Aggregate features based on incident states or attributes, like reassignment_count, reopen_count, etc."
      ],
      "metadata": {
        "id": "muKTq5Iv4GoN"
      }
    },
    {
      "cell_type": "code",
      "source": [
        "# calculate features like total time in different statuses, reassignment counts, and other relevant metrics per incident.\n",
        "\n",
        "# Sort data by incident and update time\n",
        "data = data.sort_values(by=['number', 'sys_updated_at'])\n",
        "\n",
        "# Calculate the time spent in each status\n",
        "data['time_in_active'] = np.where(data['incident_state'] == 'Active', (data['sys_updated_at'] - data['opened_at']).dt.total_seconds() / 3600, 0)\n",
        "data['time_in_resolved'] = np.where(data['incident_state'] == 'Resolved', (data['sys_updated_at'] - data['opened_at']).dt.total_seconds() / 3600, 0)\n",
        "data['time_in_awaiting_user_info'] = np.where(data['incident_state'] == 'Awaiting User Info', (data['sys_updated_at'] - data['opened_at']).dt.total_seconds() / 3600, 0)\n",
        "\n",
        "\n"
      ],
      "metadata": {
        "id": "DLWZzI-04L2x"
      },
      "execution_count": null,
      "outputs": []
    },
    {
      "cell_type": "code",
      "source": [
        "# Aggregate by incident number\n",
        "agg_data = data.groupby('number').agg({\n",
        "    'time_in_active': 'sum',\n",
        "    'time_in_resolved': 'sum',\n",
        "    'time_in_awaiting_user_info': 'sum',\n",
        "    'reassignment_count': 'max',\n",
        "    'reopen_count': 'max',\n",
        "    'sys_mod_count': 'max',\n",
        "    'made_sla': 'max',\n",
        "    'opened_at': 'min',          # First opening time\n",
        "    'closed_at': 'max'           # Final closure time (target)\n",
        "}).reset_index()\n",
        "\n"
      ],
      "metadata": {
        "id": "b9x4w5amj7ep"
      },
      "execution_count": null,
      "outputs": []
    },
    {
      "cell_type": "code",
      "source": [
        "# Calculate the total time to close the incident in days\n",
        "\n",
        "agg_data['time_to_close'] = (agg_data['closed_at'] - agg_data['opened_at']).dt.days\n",
        "\n",
        "# Calculate the total time to close the incident in hours\n",
        "#agg_data['time_to_close'] = (agg_data['closed_at'] - agg_data['opened_at']).dt.total_seconds() / 3600\n",
        "\n",
        "# Merge the aggregated data back into the original data\n",
        "data = pd.merge(data, agg_data, on='number', how='left')\n"
      ],
      "metadata": {
        "id": "vUXnKrHsl5N3"
      },
      "execution_count": null,
      "outputs": []
    },
    {
      "cell_type": "code",
      "source": [
        "data.info()"
      ],
      "metadata": {
        "colab": {
          "base_uri": "https://localhost:8080/"
        },
        "id": "9KTJErq94kv-",
        "outputId": "71a66b3b-f4e1-4974-e5e2-d3599a6c798d"
      },
      "execution_count": null,
      "outputs": [
        {
          "output_type": "stream",
          "name": "stdout",
          "text": [
            "<class 'pandas.core.frame.DataFrame'>\n",
            "RangeIndex: 141596 entries, 0 to 141595\n",
            "Data columns (total 33 columns):\n",
            " #   Column                        Non-Null Count   Dtype         \n",
            "---  ------                        --------------   -----         \n",
            " 0   number                        141596 non-null  object        \n",
            " 1   incident_state                141596 non-null  object        \n",
            " 2   active                        141596 non-null  bool          \n",
            " 3   reassignment_count_x          141596 non-null  int64         \n",
            " 4   reopen_count_x                141596 non-null  int64         \n",
            " 5   sys_mod_count_x               141596 non-null  int64         \n",
            " 6   made_sla_x                    141596 non-null  bool          \n",
            " 7   opened_at_x                   141596 non-null  datetime64[ns]\n",
            " 8   sys_updated_at                141596 non-null  datetime64[ns]\n",
            " 9   contact_type                  141596 non-null  object        \n",
            " 10  location                      141596 non-null  object        \n",
            " 11  category                      141596 non-null  object        \n",
            " 12  subcategory                   141596 non-null  object        \n",
            " 13  impact                        141596 non-null  object        \n",
            " 14  urgency                       141596 non-null  object        \n",
            " 15  priority                      141596 non-null  object        \n",
            " 16  knowledge                     141596 non-null  bool          \n",
            " 17  u_priority_confirmation       141596 non-null  bool          \n",
            " 18  resolved_at                   141596 non-null  datetime64[ns]\n",
            " 19  closed_at_x                   141596 non-null  datetime64[ns]\n",
            " 20  time_in_active_x              141596 non-null  float64       \n",
            " 21  time_in_resolved_x            141596 non-null  float64       \n",
            " 22  time_in_awaiting_user_info_x  141596 non-null  float64       \n",
            " 23  time_in_active_y              141596 non-null  float64       \n",
            " 24  time_in_resolved_y            141596 non-null  float64       \n",
            " 25  time_in_awaiting_user_info_y  141596 non-null  float64       \n",
            " 26  reassignment_count_y          141596 non-null  int64         \n",
            " 27  reopen_count_y                141596 non-null  int64         \n",
            " 28  sys_mod_count_y               141596 non-null  int64         \n",
            " 29  made_sla_y                    141596 non-null  bool          \n",
            " 30  opened_at_y                   141596 non-null  datetime64[ns]\n",
            " 31  closed_at_y                   141596 non-null  datetime64[ns]\n",
            " 32  time_to_close                 141596 non-null  int64         \n",
            "dtypes: bool(5), datetime64[ns](6), float64(6), int64(7), object(9)\n",
            "memory usage: 30.9+ MB\n"
          ]
        }
      ]
    },
    {
      "cell_type": "code",
      "source": [
        "data.head()"
      ],
      "metadata": {
        "colab": {
          "base_uri": "https://localhost:8080/",
          "height": 342
        },
        "id": "6AGkv6g2hLJG",
        "outputId": "4665dbe8-d8b4-4b87-c122-be97dd67dd39"
      },
      "execution_count": null,
      "outputs": [
        {
          "output_type": "execute_result",
          "data": {
            "text/plain": [
              "       number incident_state  active  reassignment_count_x  reopen_count_x  \\\n",
              "0  INC0000045            New    True                     0               0   \n",
              "1  INC0000045       Resolved    True                     0               0   \n",
              "2  INC0000045       Resolved    True                     0               0   \n",
              "3  INC0000045         Closed   False                     0               0   \n",
              "4  INC0000047            New    True                     0               0   \n",
              "\n",
              "   sys_mod_count_x  made_sla_x         opened_at_x      sys_updated_at  \\\n",
              "0                0        True 2016-02-29 01:16:00 2016-02-29 01:23:00   \n",
              "1                2        True 2016-02-29 01:16:00 2016-02-29 08:53:00   \n",
              "2                3        True 2016-02-29 01:16:00 2016-02-29 11:29:00   \n",
              "3                4        True 2016-02-29 01:16:00 2016-03-05 12:00:00   \n",
              "4                0        True 2016-02-29 04:40:00 2016-02-29 04:57:00   \n",
              "\n",
              "  contact_type  ... time_in_active_y time_in_resolved_y  \\\n",
              "0        Phone  ...              0.0          17.833333   \n",
              "1        Phone  ...              0.0          17.833333   \n",
              "2        Phone  ...              0.0          17.833333   \n",
              "3        Phone  ...              0.0          17.833333   \n",
              "4        Phone  ...             44.0          29.200000   \n",
              "\n",
              "  time_in_awaiting_user_info_y reassignment_count_y reopen_count_y  \\\n",
              "0                     0.000000                    0              0   \n",
              "1                     0.000000                    0              0   \n",
              "2                     0.000000                    0              0   \n",
              "3                     0.000000                    0              0   \n",
              "4                    28.566667                    1              0   \n",
              "\n",
              "  sys_mod_count_y  made_sla_y         opened_at_y         closed_at_y  \\\n",
              "0               4        True 2016-02-29 01:16:00 2016-05-03 12:00:00   \n",
              "1               4        True 2016-02-29 01:16:00 2016-05-03 12:00:00   \n",
              "2               4        True 2016-02-29 01:16:00 2016-05-03 12:00:00   \n",
              "3               4        True 2016-02-29 01:16:00 2016-05-03 12:00:00   \n",
              "4               8        True 2016-02-29 04:40:00 2016-06-03 10:00:00   \n",
              "\n",
              "  time_to_close  \n",
              "0            64  \n",
              "1            64  \n",
              "2            64  \n",
              "3            64  \n",
              "4            95  \n",
              "\n",
              "[5 rows x 33 columns]"
            ],
            "text/html": [
              "\n",
              "  <div id=\"df-3911dfd5-8b33-4728-808a-4b18c53db342\" class=\"colab-df-container\">\n",
              "    <div>\n",
              "<style scoped>\n",
              "    .dataframe tbody tr th:only-of-type {\n",
              "        vertical-align: middle;\n",
              "    }\n",
              "\n",
              "    .dataframe tbody tr th {\n",
              "        vertical-align: top;\n",
              "    }\n",
              "\n",
              "    .dataframe thead th {\n",
              "        text-align: right;\n",
              "    }\n",
              "</style>\n",
              "<table border=\"1\" class=\"dataframe\">\n",
              "  <thead>\n",
              "    <tr style=\"text-align: right;\">\n",
              "      <th></th>\n",
              "      <th>number</th>\n",
              "      <th>incident_state</th>\n",
              "      <th>active</th>\n",
              "      <th>reassignment_count_x</th>\n",
              "      <th>reopen_count_x</th>\n",
              "      <th>sys_mod_count_x</th>\n",
              "      <th>made_sla_x</th>\n",
              "      <th>opened_at_x</th>\n",
              "      <th>sys_updated_at</th>\n",
              "      <th>contact_type</th>\n",
              "      <th>...</th>\n",
              "      <th>time_in_active_y</th>\n",
              "      <th>time_in_resolved_y</th>\n",
              "      <th>time_in_awaiting_user_info_y</th>\n",
              "      <th>reassignment_count_y</th>\n",
              "      <th>reopen_count_y</th>\n",
              "      <th>sys_mod_count_y</th>\n",
              "      <th>made_sla_y</th>\n",
              "      <th>opened_at_y</th>\n",
              "      <th>closed_at_y</th>\n",
              "      <th>time_to_close</th>\n",
              "    </tr>\n",
              "  </thead>\n",
              "  <tbody>\n",
              "    <tr>\n",
              "      <th>0</th>\n",
              "      <td>INC0000045</td>\n",
              "      <td>New</td>\n",
              "      <td>True</td>\n",
              "      <td>0</td>\n",
              "      <td>0</td>\n",
              "      <td>0</td>\n",
              "      <td>True</td>\n",
              "      <td>2016-02-29 01:16:00</td>\n",
              "      <td>2016-02-29 01:23:00</td>\n",
              "      <td>Phone</td>\n",
              "      <td>...</td>\n",
              "      <td>0.0</td>\n",
              "      <td>17.833333</td>\n",
              "      <td>0.000000</td>\n",
              "      <td>0</td>\n",
              "      <td>0</td>\n",
              "      <td>4</td>\n",
              "      <td>True</td>\n",
              "      <td>2016-02-29 01:16:00</td>\n",
              "      <td>2016-05-03 12:00:00</td>\n",
              "      <td>64</td>\n",
              "    </tr>\n",
              "    <tr>\n",
              "      <th>1</th>\n",
              "      <td>INC0000045</td>\n",
              "      <td>Resolved</td>\n",
              "      <td>True</td>\n",
              "      <td>0</td>\n",
              "      <td>0</td>\n",
              "      <td>2</td>\n",
              "      <td>True</td>\n",
              "      <td>2016-02-29 01:16:00</td>\n",
              "      <td>2016-02-29 08:53:00</td>\n",
              "      <td>Phone</td>\n",
              "      <td>...</td>\n",
              "      <td>0.0</td>\n",
              "      <td>17.833333</td>\n",
              "      <td>0.000000</td>\n",
              "      <td>0</td>\n",
              "      <td>0</td>\n",
              "      <td>4</td>\n",
              "      <td>True</td>\n",
              "      <td>2016-02-29 01:16:00</td>\n",
              "      <td>2016-05-03 12:00:00</td>\n",
              "      <td>64</td>\n",
              "    </tr>\n",
              "    <tr>\n",
              "      <th>2</th>\n",
              "      <td>INC0000045</td>\n",
              "      <td>Resolved</td>\n",
              "      <td>True</td>\n",
              "      <td>0</td>\n",
              "      <td>0</td>\n",
              "      <td>3</td>\n",
              "      <td>True</td>\n",
              "      <td>2016-02-29 01:16:00</td>\n",
              "      <td>2016-02-29 11:29:00</td>\n",
              "      <td>Phone</td>\n",
              "      <td>...</td>\n",
              "      <td>0.0</td>\n",
              "      <td>17.833333</td>\n",
              "      <td>0.000000</td>\n",
              "      <td>0</td>\n",
              "      <td>0</td>\n",
              "      <td>4</td>\n",
              "      <td>True</td>\n",
              "      <td>2016-02-29 01:16:00</td>\n",
              "      <td>2016-05-03 12:00:00</td>\n",
              "      <td>64</td>\n",
              "    </tr>\n",
              "    <tr>\n",
              "      <th>3</th>\n",
              "      <td>INC0000045</td>\n",
              "      <td>Closed</td>\n",
              "      <td>False</td>\n",
              "      <td>0</td>\n",
              "      <td>0</td>\n",
              "      <td>4</td>\n",
              "      <td>True</td>\n",
              "      <td>2016-02-29 01:16:00</td>\n",
              "      <td>2016-03-05 12:00:00</td>\n",
              "      <td>Phone</td>\n",
              "      <td>...</td>\n",
              "      <td>0.0</td>\n",
              "      <td>17.833333</td>\n",
              "      <td>0.000000</td>\n",
              "      <td>0</td>\n",
              "      <td>0</td>\n",
              "      <td>4</td>\n",
              "      <td>True</td>\n",
              "      <td>2016-02-29 01:16:00</td>\n",
              "      <td>2016-05-03 12:00:00</td>\n",
              "      <td>64</td>\n",
              "    </tr>\n",
              "    <tr>\n",
              "      <th>4</th>\n",
              "      <td>INC0000047</td>\n",
              "      <td>New</td>\n",
              "      <td>True</td>\n",
              "      <td>0</td>\n",
              "      <td>0</td>\n",
              "      <td>0</td>\n",
              "      <td>True</td>\n",
              "      <td>2016-02-29 04:40:00</td>\n",
              "      <td>2016-02-29 04:57:00</td>\n",
              "      <td>Phone</td>\n",
              "      <td>...</td>\n",
              "      <td>44.0</td>\n",
              "      <td>29.200000</td>\n",
              "      <td>28.566667</td>\n",
              "      <td>1</td>\n",
              "      <td>0</td>\n",
              "      <td>8</td>\n",
              "      <td>True</td>\n",
              "      <td>2016-02-29 04:40:00</td>\n",
              "      <td>2016-06-03 10:00:00</td>\n",
              "      <td>95</td>\n",
              "    </tr>\n",
              "  </tbody>\n",
              "</table>\n",
              "<p>5 rows × 33 columns</p>\n",
              "</div>\n",
              "    <div class=\"colab-df-buttons\">\n",
              "\n",
              "  <div class=\"colab-df-container\">\n",
              "    <button class=\"colab-df-convert\" onclick=\"convertToInteractive('df-3911dfd5-8b33-4728-808a-4b18c53db342')\"\n",
              "            title=\"Convert this dataframe to an interactive table.\"\n",
              "            style=\"display:none;\">\n",
              "\n",
              "  <svg xmlns=\"http://www.w3.org/2000/svg\" height=\"24px\" viewBox=\"0 -960 960 960\">\n",
              "    <path d=\"M120-120v-720h720v720H120Zm60-500h600v-160H180v160Zm220 220h160v-160H400v160Zm0 220h160v-160H400v160ZM180-400h160v-160H180v160Zm440 0h160v-160H620v160ZM180-180h160v-160H180v160Zm440 0h160v-160H620v160Z\"/>\n",
              "  </svg>\n",
              "    </button>\n",
              "\n",
              "  <style>\n",
              "    .colab-df-container {\n",
              "      display:flex;\n",
              "      gap: 12px;\n",
              "    }\n",
              "\n",
              "    .colab-df-convert {\n",
              "      background-color: #E8F0FE;\n",
              "      border: none;\n",
              "      border-radius: 50%;\n",
              "      cursor: pointer;\n",
              "      display: none;\n",
              "      fill: #1967D2;\n",
              "      height: 32px;\n",
              "      padding: 0 0 0 0;\n",
              "      width: 32px;\n",
              "    }\n",
              "\n",
              "    .colab-df-convert:hover {\n",
              "      background-color: #E2EBFA;\n",
              "      box-shadow: 0px 1px 2px rgba(60, 64, 67, 0.3), 0px 1px 3px 1px rgba(60, 64, 67, 0.15);\n",
              "      fill: #174EA6;\n",
              "    }\n",
              "\n",
              "    .colab-df-buttons div {\n",
              "      margin-bottom: 4px;\n",
              "    }\n",
              "\n",
              "    [theme=dark] .colab-df-convert {\n",
              "      background-color: #3B4455;\n",
              "      fill: #D2E3FC;\n",
              "    }\n",
              "\n",
              "    [theme=dark] .colab-df-convert:hover {\n",
              "      background-color: #434B5C;\n",
              "      box-shadow: 0px 1px 3px 1px rgba(0, 0, 0, 0.15);\n",
              "      filter: drop-shadow(0px 1px 2px rgba(0, 0, 0, 0.3));\n",
              "      fill: #FFFFFF;\n",
              "    }\n",
              "  </style>\n",
              "\n",
              "    <script>\n",
              "      const buttonEl =\n",
              "        document.querySelector('#df-3911dfd5-8b33-4728-808a-4b18c53db342 button.colab-df-convert');\n",
              "      buttonEl.style.display =\n",
              "        google.colab.kernel.accessAllowed ? 'block' : 'none';\n",
              "\n",
              "      async function convertToInteractive(key) {\n",
              "        const element = document.querySelector('#df-3911dfd5-8b33-4728-808a-4b18c53db342');\n",
              "        const dataTable =\n",
              "          await google.colab.kernel.invokeFunction('convertToInteractive',\n",
              "                                                    [key], {});\n",
              "        if (!dataTable) return;\n",
              "\n",
              "        const docLinkHtml = 'Like what you see? Visit the ' +\n",
              "          '<a target=\"_blank\" href=https://colab.research.google.com/notebooks/data_table.ipynb>data table notebook</a>'\n",
              "          + ' to learn more about interactive tables.';\n",
              "        element.innerHTML = '';\n",
              "        dataTable['output_type'] = 'display_data';\n",
              "        await google.colab.output.renderOutput(dataTable, element);\n",
              "        const docLink = document.createElement('div');\n",
              "        docLink.innerHTML = docLinkHtml;\n",
              "        element.appendChild(docLink);\n",
              "      }\n",
              "    </script>\n",
              "  </div>\n",
              "\n",
              "\n",
              "<div id=\"df-c7f2749b-ae56-480b-8e5d-8423cf63905a\">\n",
              "  <button class=\"colab-df-quickchart\" onclick=\"quickchart('df-c7f2749b-ae56-480b-8e5d-8423cf63905a')\"\n",
              "            title=\"Suggest charts\"\n",
              "            style=\"display:none;\">\n",
              "\n",
              "<svg xmlns=\"http://www.w3.org/2000/svg\" height=\"24px\"viewBox=\"0 0 24 24\"\n",
              "     width=\"24px\">\n",
              "    <g>\n",
              "        <path d=\"M19 3H5c-1.1 0-2 .9-2 2v14c0 1.1.9 2 2 2h14c1.1 0 2-.9 2-2V5c0-1.1-.9-2-2-2zM9 17H7v-7h2v7zm4 0h-2V7h2v10zm4 0h-2v-4h2v4z\"/>\n",
              "    </g>\n",
              "</svg>\n",
              "  </button>\n",
              "\n",
              "<style>\n",
              "  .colab-df-quickchart {\n",
              "      --bg-color: #E8F0FE;\n",
              "      --fill-color: #1967D2;\n",
              "      --hover-bg-color: #E2EBFA;\n",
              "      --hover-fill-color: #174EA6;\n",
              "      --disabled-fill-color: #AAA;\n",
              "      --disabled-bg-color: #DDD;\n",
              "  }\n",
              "\n",
              "  [theme=dark] .colab-df-quickchart {\n",
              "      --bg-color: #3B4455;\n",
              "      --fill-color: #D2E3FC;\n",
              "      --hover-bg-color: #434B5C;\n",
              "      --hover-fill-color: #FFFFFF;\n",
              "      --disabled-bg-color: #3B4455;\n",
              "      --disabled-fill-color: #666;\n",
              "  }\n",
              "\n",
              "  .colab-df-quickchart {\n",
              "    background-color: var(--bg-color);\n",
              "    border: none;\n",
              "    border-radius: 50%;\n",
              "    cursor: pointer;\n",
              "    display: none;\n",
              "    fill: var(--fill-color);\n",
              "    height: 32px;\n",
              "    padding: 0;\n",
              "    width: 32px;\n",
              "  }\n",
              "\n",
              "  .colab-df-quickchart:hover {\n",
              "    background-color: var(--hover-bg-color);\n",
              "    box-shadow: 0 1px 2px rgba(60, 64, 67, 0.3), 0 1px 3px 1px rgba(60, 64, 67, 0.15);\n",
              "    fill: var(--button-hover-fill-color);\n",
              "  }\n",
              "\n",
              "  .colab-df-quickchart-complete:disabled,\n",
              "  .colab-df-quickchart-complete:disabled:hover {\n",
              "    background-color: var(--disabled-bg-color);\n",
              "    fill: var(--disabled-fill-color);\n",
              "    box-shadow: none;\n",
              "  }\n",
              "\n",
              "  .colab-df-spinner {\n",
              "    border: 2px solid var(--fill-color);\n",
              "    border-color: transparent;\n",
              "    border-bottom-color: var(--fill-color);\n",
              "    animation:\n",
              "      spin 1s steps(1) infinite;\n",
              "  }\n",
              "\n",
              "  @keyframes spin {\n",
              "    0% {\n",
              "      border-color: transparent;\n",
              "      border-bottom-color: var(--fill-color);\n",
              "      border-left-color: var(--fill-color);\n",
              "    }\n",
              "    20% {\n",
              "      border-color: transparent;\n",
              "      border-left-color: var(--fill-color);\n",
              "      border-top-color: var(--fill-color);\n",
              "    }\n",
              "    30% {\n",
              "      border-color: transparent;\n",
              "      border-left-color: var(--fill-color);\n",
              "      border-top-color: var(--fill-color);\n",
              "      border-right-color: var(--fill-color);\n",
              "    }\n",
              "    40% {\n",
              "      border-color: transparent;\n",
              "      border-right-color: var(--fill-color);\n",
              "      border-top-color: var(--fill-color);\n",
              "    }\n",
              "    60% {\n",
              "      border-color: transparent;\n",
              "      border-right-color: var(--fill-color);\n",
              "    }\n",
              "    80% {\n",
              "      border-color: transparent;\n",
              "      border-right-color: var(--fill-color);\n",
              "      border-bottom-color: var(--fill-color);\n",
              "    }\n",
              "    90% {\n",
              "      border-color: transparent;\n",
              "      border-bottom-color: var(--fill-color);\n",
              "    }\n",
              "  }\n",
              "</style>\n",
              "\n",
              "  <script>\n",
              "    async function quickchart(key) {\n",
              "      const quickchartButtonEl =\n",
              "        document.querySelector('#' + key + ' button');\n",
              "      quickchartButtonEl.disabled = true;  // To prevent multiple clicks.\n",
              "      quickchartButtonEl.classList.add('colab-df-spinner');\n",
              "      try {\n",
              "        const charts = await google.colab.kernel.invokeFunction(\n",
              "            'suggestCharts', [key], {});\n",
              "      } catch (error) {\n",
              "        console.error('Error during call to suggestCharts:', error);\n",
              "      }\n",
              "      quickchartButtonEl.classList.remove('colab-df-spinner');\n",
              "      quickchartButtonEl.classList.add('colab-df-quickchart-complete');\n",
              "    }\n",
              "    (() => {\n",
              "      let quickchartButtonEl =\n",
              "        document.querySelector('#df-c7f2749b-ae56-480b-8e5d-8423cf63905a button');\n",
              "      quickchartButtonEl.style.display =\n",
              "        google.colab.kernel.accessAllowed ? 'block' : 'none';\n",
              "    })();\n",
              "  </script>\n",
              "</div>\n",
              "\n",
              "    </div>\n",
              "  </div>\n"
            ],
            "application/vnd.google.colaboratory.intrinsic+json": {
              "type": "dataframe",
              "variable_name": "data"
            }
          },
          "metadata": {},
          "execution_count": 207
        }
      ]
    },
    {
      "cell_type": "code",
      "source": [
        "data.columns"
      ],
      "metadata": {
        "colab": {
          "base_uri": "https://localhost:8080/"
        },
        "id": "j_YtfGtE4YYU",
        "outputId": "df4919ec-094f-48ea-fca6-59ecd4bfbead"
      },
      "execution_count": null,
      "outputs": [
        {
          "output_type": "execute_result",
          "data": {
            "text/plain": [
              "Index(['number', 'incident_state', 'active', 'reassignment_count_x',\n",
              "       'reopen_count_x', 'sys_mod_count_x', 'made_sla_x', 'opened_at_x',\n",
              "       'sys_updated_at', 'contact_type', 'location', 'category', 'subcategory',\n",
              "       'impact', 'urgency', 'priority', 'knowledge', 'u_priority_confirmation',\n",
              "       'resolved_at', 'closed_at_x', 'time_in_active_x', 'time_in_resolved_x',\n",
              "       'time_in_awaiting_user_info_x', 'time_in_active_y',\n",
              "       'time_in_resolved_y', 'time_in_awaiting_user_info_y',\n",
              "       'reassignment_count_y', 'reopen_count_y', 'sys_mod_count_y',\n",
              "       'made_sla_y', 'opened_at_y', 'closed_at_y', 'time_to_close'],\n",
              "      dtype='object')"
            ]
          },
          "metadata": {},
          "execution_count": 208
        }
      ]
    },
    {
      "cell_type": "markdown",
      "source": [
        "**Handlig duplicate values after aggregation:**\n",
        "\n",
        "After aggregation, columns with the suffixes _x and _y represent duplicated features that resulted from merging or joining data.\n",
        "\n",
        "These suffixes typically arise when performing operations like joins or merges on dataframes, and there are duplicate column names"
      ],
      "metadata": {
        "id": "wahFDg2RrVNf"
      }
    },
    {
      "cell_type": "code",
      "source": [
        "columns_to_validate = ['reassignment_count_x', 'reassignment_count_y','reopen_count_x','reopen_count_y','sys_mod_count_x','sys_mod_count_y',\n",
        "                       'made_sla_x', 'made_sla_y','opened_at_x','opened_at_y','closed_at_x','closed_at_y']\n",
        "print(data[columns_to_validate].head())"
      ],
      "metadata": {
        "colab": {
          "base_uri": "https://localhost:8080/"
        },
        "id": "F1gp-8qXq-pD",
        "outputId": "7776293c-7f72-478c-d5e4-7ef5c6cd9713"
      },
      "execution_count": null,
      "outputs": [
        {
          "output_type": "stream",
          "name": "stdout",
          "text": [
            "   reassignment_count_x  reassignment_count_y  reopen_count_x  reopen_count_y  \\\n",
            "0                     0                     0               0               0   \n",
            "1                     0                     0               0               0   \n",
            "2                     0                     0               0               0   \n",
            "3                     0                     0               0               0   \n",
            "4                     0                     1               0               0   \n",
            "\n",
            "   sys_mod_count_x  sys_mod_count_y  made_sla_x  made_sla_y  \\\n",
            "0                0                4        True        True   \n",
            "1                2                4        True        True   \n",
            "2                3                4        True        True   \n",
            "3                4                4        True        True   \n",
            "4                0                8        True        True   \n",
            "\n",
            "          opened_at_x         opened_at_y         closed_at_x  \\\n",
            "0 2016-02-29 01:16:00 2016-02-29 01:16:00 2016-05-03 12:00:00   \n",
            "1 2016-02-29 01:16:00 2016-02-29 01:16:00 2016-05-03 12:00:00   \n",
            "2 2016-02-29 01:16:00 2016-02-29 01:16:00 2016-05-03 12:00:00   \n",
            "3 2016-02-29 01:16:00 2016-02-29 01:16:00 2016-05-03 12:00:00   \n",
            "4 2016-02-29 04:40:00 2016-02-29 04:40:00 2016-06-03 10:00:00   \n",
            "\n",
            "          closed_at_y  \n",
            "0 2016-05-03 12:00:00  \n",
            "1 2016-05-03 12:00:00  \n",
            "2 2016-05-03 12:00:00  \n",
            "3 2016-05-03 12:00:00  \n",
            "4 2016-06-03 10:00:00  \n"
          ]
        }
      ]
    },
    {
      "cell_type": "code",
      "source": [
        "print(data[columns_to_validate].isnull().sum())"
      ],
      "metadata": {
        "colab": {
          "base_uri": "https://localhost:8080/"
        },
        "id": "jaEQXm6xt2sb",
        "outputId": "e64d616e-a111-4054-a9a0-3a0537889444"
      },
      "execution_count": null,
      "outputs": [
        {
          "output_type": "stream",
          "name": "stdout",
          "text": [
            "reassignment_count_x    0\n",
            "reassignment_count_y    0\n",
            "reopen_count_x          0\n",
            "reopen_count_y          0\n",
            "sys_mod_count_x         0\n",
            "sys_mod_count_y         0\n",
            "made_sla_x              0\n",
            "made_sla_y              0\n",
            "opened_at_x             0\n",
            "opened_at_y             0\n",
            "closed_at_x             0\n",
            "closed_at_y             0\n",
            "dtype: int64\n"
          ]
        }
      ]
    },
    {
      "cell_type": "code",
      "source": [
        "print ((data['reassignment_count_x' ].shape))\n",
        "print ((data['reassignment_count_y' ].shape))\n",
        "print(data[columns_to_validate].isnull().sum()/data.shape[0]*100)"
      ],
      "metadata": {
        "colab": {
          "base_uri": "https://localhost:8080/"
        },
        "id": "pgUGCnFWuP5A",
        "outputId": "03103388-04b3-44ac-d43a-4f198c569f2f"
      },
      "execution_count": null,
      "outputs": [
        {
          "output_type": "stream",
          "name": "stdout",
          "text": [
            "(141596,)\n",
            "(141596,)\n",
            "reassignment_count_x    0.0\n",
            "reassignment_count_y    0.0\n",
            "reopen_count_x          0.0\n",
            "reopen_count_y          0.0\n",
            "sys_mod_count_x         0.0\n",
            "sys_mod_count_y         0.0\n",
            "made_sla_x              0.0\n",
            "made_sla_y              0.0\n",
            "opened_at_x             0.0\n",
            "opened_at_y             0.0\n",
            "closed_at_x             0.0\n",
            "closed_at_y             0.0\n",
            "dtype: float64\n"
          ]
        }
      ]
    },
    {
      "cell_type": "markdown",
      "source": [
        "Columns with the suffix _x and _y typically refer to columns from the original and aggregated datasets.\n",
        "\n",
        "You need to decide which version of these columns you want to keep based on the context of the data.\n",
        "\n",
        "Here the columns with suffix _y has missing values, hence we keep the columns with suffix _x and drop the columns with suffix _y"
      ],
      "metadata": {
        "id": "zt0LCGSbufwg"
      }
    },
    {
      "cell_type": "code",
      "source": [
        "# drop columns with suffix _y\n",
        "columns_to_drop = ['reassignment_count_y','reopen_count_y','sys_mod_count_y','made_sla_y','opened_at_y','closed_at_y']\n",
        "data.drop(columns=columns_to_drop, inplace=True)"
      ],
      "metadata": {
        "id": "1igtyVcFwhWJ"
      },
      "execution_count": null,
      "outputs": []
    },
    {
      "cell_type": "code",
      "source": [
        "data.columns"
      ],
      "metadata": {
        "colab": {
          "base_uri": "https://localhost:8080/"
        },
        "id": "dTsz1l3m2TBc",
        "outputId": "7528162c-b480-488c-c95b-e27bd48b1a52"
      },
      "execution_count": null,
      "outputs": [
        {
          "output_type": "execute_result",
          "data": {
            "text/plain": [
              "Index(['number', 'incident_state', 'active', 'reassignment_count_x',\n",
              "       'reopen_count_x', 'sys_mod_count_x', 'made_sla_x', 'opened_at_x',\n",
              "       'sys_updated_at', 'contact_type', 'location', 'category', 'subcategory',\n",
              "       'impact', 'urgency', 'priority', 'knowledge', 'u_priority_confirmation',\n",
              "       'resolved_at', 'closed_at_x', 'time_in_active_x', 'time_in_resolved_x',\n",
              "       'time_in_awaiting_user_info_x', 'time_in_active_y',\n",
              "       'time_in_resolved_y', 'time_in_awaiting_user_info_y', 'time_to_close'],\n",
              "      dtype='object')"
            ]
          },
          "metadata": {},
          "execution_count": 213
        }
      ]
    },
    {
      "cell_type": "code",
      "source": [
        "# drop columns with suffix _y\n",
        "columns_to_drop1 = ['time_in_active_y','time_in_resolved_y','time_in_awaiting_user_info_y']\n",
        "data.drop(columns=columns_to_drop1, inplace=True)"
      ],
      "metadata": {
        "id": "HFrToCe63W3B"
      },
      "execution_count": null,
      "outputs": []
    },
    {
      "cell_type": "code",
      "source": [
        "data.columns"
      ],
      "metadata": {
        "colab": {
          "base_uri": "https://localhost:8080/"
        },
        "id": "IJIpSR0435dh",
        "outputId": "61278a83-0508-438c-b767-fe1d4c720b30"
      },
      "execution_count": null,
      "outputs": [
        {
          "output_type": "execute_result",
          "data": {
            "text/plain": [
              "Index(['number', 'incident_state', 'active', 'reassignment_count_x',\n",
              "       'reopen_count_x', 'sys_mod_count_x', 'made_sla_x', 'opened_at_x',\n",
              "       'sys_updated_at', 'contact_type', 'location', 'category', 'subcategory',\n",
              "       'impact', 'urgency', 'priority', 'knowledge', 'u_priority_confirmation',\n",
              "       'resolved_at', 'closed_at_x', 'time_in_active_x', 'time_in_resolved_x',\n",
              "       'time_in_awaiting_user_info_x', 'time_to_close'],\n",
              "      dtype='object')"
            ]
          },
          "metadata": {},
          "execution_count": 215
        }
      ]
    },
    {
      "cell_type": "code",
      "source": [
        "# check for missing data again after data clean up\n",
        "print(data.isnull().sum())"
      ],
      "metadata": {
        "colab": {
          "base_uri": "https://localhost:8080/"
        },
        "id": "RiHWf7mf3-Zw",
        "outputId": "5f80e475-9636-4ec3-a427-0affc8995a23"
      },
      "execution_count": null,
      "outputs": [
        {
          "output_type": "stream",
          "name": "stdout",
          "text": [
            "number                          0\n",
            "incident_state                  0\n",
            "active                          0\n",
            "reassignment_count_x            0\n",
            "reopen_count_x                  0\n",
            "sys_mod_count_x                 0\n",
            "made_sla_x                      0\n",
            "opened_at_x                     0\n",
            "sys_updated_at                  0\n",
            "contact_type                    0\n",
            "location                        0\n",
            "category                        0\n",
            "subcategory                     0\n",
            "impact                          0\n",
            "urgency                         0\n",
            "priority                        0\n",
            "knowledge                       0\n",
            "u_priority_confirmation         0\n",
            "resolved_at                     0\n",
            "closed_at_x                     0\n",
            "time_in_active_x                0\n",
            "time_in_resolved_x              0\n",
            "time_in_awaiting_user_info_x    0\n",
            "time_to_close                   0\n",
            "dtype: int64\n"
          ]
        }
      ]
    },
    {
      "cell_type": "code",
      "source": [
        "# Remove the '_x' suffix from column names\n",
        "data.columns = data.columns.str.replace('_x$', '', regex=True)\n",
        "\n",
        "# Print the updated column names\n",
        "print(data.columns)"
      ],
      "metadata": {
        "colab": {
          "base_uri": "https://localhost:8080/"
        },
        "id": "m6SRXj1b47um",
        "outputId": "65c7f342-0b16-4eca-9a63-3a87487e3b01"
      },
      "execution_count": null,
      "outputs": [
        {
          "output_type": "stream",
          "name": "stdout",
          "text": [
            "Index(['number', 'incident_state', 'active', 'reassignment_count',\n",
            "       'reopen_count', 'sys_mod_count', 'made_sla', 'opened_at',\n",
            "       'sys_updated_at', 'contact_type', 'location', 'category', 'subcategory',\n",
            "       'impact', 'urgency', 'priority', 'knowledge', 'u_priority_confirmation',\n",
            "       'resolved_at', 'closed_at', 'time_in_active', 'time_in_resolved',\n",
            "       'time_in_awaiting_user_info', 'time_to_close'],\n",
            "      dtype='object')\n"
          ]
        }
      ]
    },
    {
      "cell_type": "code",
      "source": [],
      "metadata": {
        "id": "IZjzoSDGAzu8"
      },
      "execution_count": null,
      "outputs": []
    },
    {
      "cell_type": "markdown",
      "source": [
        "**Baseline Model:**\n",
        "\n",
        "Build a simple baseline model using DummyRegressor, that predicts the mean or median closure time for every incident.\n",
        "\n",
        "This provides a reference for evaluating more complex models."
      ],
      "metadata": {
        "id": "vhZ9G2-BHoy0"
      }
    },
    {
      "cell_type": "code",
      "source": [
        "from sklearn.dummy import DummyRegressor\n",
        "from sklearn.compose import ColumnTransformer\n",
        "from sklearn.compose import make_column_selector, make_column_transformer, make_column_selector\n",
        "from sklearn.preprocessing import OneHotEncoder, StandardScaler, PolynomialFeatures, LabelEncoder\n",
        "from sklearn.pipeline import make_pipeline\n",
        "\n"
      ],
      "metadata": {
        "id": "WS3VWhnSfa-8"
      },
      "execution_count": null,
      "outputs": []
    },
    {
      "cell_type": "code",
      "source": [
        "#  Extract useful features from datetime columns\n",
        "data['opened_at_year'] = data['opened_at'].dt.year\n",
        "data['opened_at_month'] = data['opened_at'].dt.month\n",
        "data['opened_at_day'] = data['opened_at'].dt.day\n",
        "data['closed_at_year'] = data['closed_at'].dt.year\n",
        "data['closed_at_month'] = data['closed_at'].dt.month\n",
        "data['closed_at_day'] = data['closed_at'].dt.day"
      ],
      "metadata": {
        "id": "WwPV3j8QBTgX"
      },
      "execution_count": null,
      "outputs": []
    },
    {
      "cell_type": "code",
      "source": [
        "# Drop unnecessary columns like 'number', 'opened_at', 'closed_at', etc.\n",
        "data.drop(columns=['number', 'opened_at', 'closed_at', 'resolved_at'], inplace=True)\n"
      ],
      "metadata": {
        "id": "n8kNoXN-6uq6"
      },
      "execution_count": null,
      "outputs": []
    },
    {
      "cell_type": "code",
      "source": [
        "data.drop(['sys_updated_at'],axis=1,inplace=True)"
      ],
      "metadata": {
        "id": "mu6MZk_WCOQ9"
      },
      "execution_count": null,
      "outputs": []
    },
    {
      "cell_type": "code",
      "source": [
        "data.info()"
      ],
      "metadata": {
        "colab": {
          "base_uri": "https://localhost:8080/"
        },
        "id": "50yiSuATBn1E",
        "outputId": "113a476f-77f7-4a94-8c6a-58a03cf0a0ad"
      },
      "execution_count": null,
      "outputs": [
        {
          "output_type": "stream",
          "name": "stdout",
          "text": [
            "<class 'pandas.core.frame.DataFrame'>\n",
            "RangeIndex: 141596 entries, 0 to 141595\n",
            "Data columns (total 25 columns):\n",
            " #   Column                      Non-Null Count   Dtype  \n",
            "---  ------                      --------------   -----  \n",
            " 0   incident_state              141596 non-null  object \n",
            " 1   active                      141596 non-null  bool   \n",
            " 2   reassignment_count          141596 non-null  int64  \n",
            " 3   reopen_count                141596 non-null  int64  \n",
            " 4   sys_mod_count               141596 non-null  int64  \n",
            " 5   made_sla                    141596 non-null  bool   \n",
            " 6   contact_type                141596 non-null  object \n",
            " 7   location                    141596 non-null  object \n",
            " 8   category                    141596 non-null  object \n",
            " 9   subcategory                 141596 non-null  object \n",
            " 10  impact                      141596 non-null  object \n",
            " 11  urgency                     141596 non-null  object \n",
            " 12  priority                    141596 non-null  object \n",
            " 13  knowledge                   141596 non-null  bool   \n",
            " 14  u_priority_confirmation     141596 non-null  bool   \n",
            " 15  time_in_active              141596 non-null  float64\n",
            " 16  time_in_resolved            141596 non-null  float64\n",
            " 17  time_in_awaiting_user_info  141596 non-null  float64\n",
            " 18  time_to_close               141596 non-null  int64  \n",
            " 19  opened_at_year              141596 non-null  int32  \n",
            " 20  opened_at_month             141596 non-null  int32  \n",
            " 21  opened_at_day               141596 non-null  int32  \n",
            " 22  closed_at_year              141596 non-null  int32  \n",
            " 23  closed_at_month             141596 non-null  int32  \n",
            " 24  closed_at_day               141596 non-null  int32  \n",
            "dtypes: bool(4), float64(3), int32(6), int64(4), object(8)\n",
            "memory usage: 20.0+ MB\n"
          ]
        }
      ]
    },
    {
      "cell_type": "code",
      "source": [
        "# encoding and transformations of the features\n",
        "selector =''\n",
        "selector = make_column_selector(dtype_include=object)\n",
        "\n",
        "transformer = make_column_transformer(\n",
        "    (OneHotEncoder(drop='first'), selector),\n",
        "    remainder=StandardScaler()\n",
        ")\n"
      ],
      "metadata": {
        "id": "0qrprovJB96d"
      },
      "execution_count": null,
      "outputs": []
    },
    {
      "cell_type": "code",
      "source": [
        "# Split the data into train and test sets\n",
        "X = data.drop(columns=['time_to_close'])  # Predictor features\n",
        "y = data['time_to_close']  # Target variable (time to close)"
      ],
      "metadata": {
        "id": "U77PY5e3Eykf"
      },
      "execution_count": null,
      "outputs": []
    },
    {
      "cell_type": "code",
      "source": [
        "print (X.shape)\n",
        "print (y.shape)"
      ],
      "metadata": {
        "colab": {
          "base_uri": "https://localhost:8080/"
        },
        "id": "lLZFM6xnE29N",
        "outputId": "db995daf-0172-4c49-d991-492b6b79a19e"
      },
      "execution_count": null,
      "outputs": [
        {
          "output_type": "stream",
          "name": "stdout",
          "text": [
            "(141596, 24)\n",
            "(141596,)\n"
          ]
        }
      ]
    },
    {
      "cell_type": "code",
      "source": [],
      "metadata": {
        "id": "GzWSJkM4G0M1"
      },
      "execution_count": null,
      "outputs": []
    },
    {
      "cell_type": "code",
      "source": [
        "# Since we are using a DummyRegressor, no actual features are needed, so just use empty features\n",
        "X_train, X_test, y_train, y_test = train_test_split(X.index, y, test_size=0.2, random_state=42)"
      ],
      "metadata": {
        "id": "THKguRnpE_R6"
      },
      "execution_count": null,
      "outputs": []
    },
    {
      "cell_type": "code",
      "source": [
        "# Ensure 'X_train' and 'X_test' are pandas DataFrames\n",
        "X_train = pd.DataFrame(X_train)\n",
        "X_test = pd.DataFrame(X_test)"
      ],
      "metadata": {
        "id": "xqQLQn96G6HF"
      },
      "execution_count": null,
      "outputs": []
    },
    {
      "cell_type": "code",
      "source": [
        "# Fit and Transform the data\n",
        "X_train = transformer.fit_transform(X_train)\n",
        "X_test = transformer.transform(X_test)\n",
        "\n",
        "print(X_train.shape)"
      ],
      "metadata": {
        "colab": {
          "base_uri": "https://localhost:8080/"
        },
        "id": "mhEZNm4fFmJ3",
        "outputId": "fdaff335-4959-41e2-efcd-adced93efd93"
      },
      "execution_count": null,
      "outputs": [
        {
          "output_type": "stream",
          "name": "stdout",
          "text": [
            "(113276, 1)\n"
          ]
        }
      ]
    },
    {
      "cell_type": "code",
      "source": [
        "# Initialize and fit the DummyRegressor (with mean strategy)\n",
        "dummy_model = DummyRegressor(strategy='median')\n",
        "\n",
        "# Fit the model (X_train is not used but passed for compatibility)\n",
        "dummy_model.fit(X_train, y_train)\n",
        "\n",
        "# Predict on the test set\n",
        "y_pred = dummy_model.predict(X_test)\n",
        "\n",
        "# Evaluate the DummyRegressor\n",
        "baseline_mae = mean_absolute_error(y_test, y_pred)\n",
        "baseline_mse = mean_squared_error(y_test, y_pred)\n",
        "\n",
        "print(f\"Baseline Model - MAE: {baseline_mae}\")\n",
        "print(f\"Baseline Model - MSE: {baseline_mse}\")"
      ],
      "metadata": {
        "colab": {
          "base_uri": "https://localhost:8080/"
        },
        "id": "_xTVN7aJfcmT",
        "outputId": "d4ceb41e-8844-4bad-c352-02701b95d6a4"
      },
      "execution_count": null,
      "outputs": [
        {
          "output_type": "stream",
          "name": "stdout",
          "text": [
            "Baseline Model - MAE: 52.12757768361582\n",
            "Baseline Model - MSE: 5187.274187853107\n"
          ]
        }
      ]
    },
    {
      "cell_type": "markdown",
      "source": [
        "**Baseline Model results Interpretation:**\n",
        "\n",
        "***1. Mean Absolute Error (MAE): 52.12***\n",
        "\n",
        "  MAE is the average of the absolute differences between the predicted values and the actual values. In other words, it tells you, on average, how many days the baseline prediction (median closure time) deviates from the actual closure time.\n",
        "\n",
        "***Interpretation:***\n",
        "      On average, the baseline model is off by about 38.92 days when predicting\n",
        "      the incident closure time.\n",
        "      The lower the MAE, the better the model, since smaller errors indicate better accuracy. For the baseline model, this value sets a benchmark for more advanced models to improve upon.\n",
        "\n",
        "***2. Mean Squared Error (MSE): 5187.27***\n",
        "\n",
        "MSE is the average of the squared differences between the predicted and actual values. The squaring penalizes larger errors more than smaller ones, making MSE sensitive to outliers.\n",
        "\n",
        "***Interpretation:***\n",
        "\n",
        "The MSE of 2709.18 indicates the average of the squared differences between the predicted and actual closure times.\n",
        "Larger errors (e.g., an incident predicted to close in 20 days but actually closes in 100 days) have a bigger impact on MSE due to squaring.\n",
        "Difference from MAE:\n",
        "\n",
        "MSE is always larger than MAE because it squares the error values, which magnifies larger differences.\n",
        "MSE helps to highlight cases where the baseline model makes very large errors, which might not be as obvious from the MAE alone.\n"
      ],
      "metadata": {
        "id": "v32O-akZJEgT"
      }
    },
    {
      "cell_type": "code",
      "source": [
        "data.shape"
      ],
      "metadata": {
        "colab": {
          "base_uri": "https://localhost:8080/"
        },
        "id": "F1BF18ooXxzf",
        "outputId": "fc010818-59cc-435e-c388-2e44c674631b"
      },
      "execution_count": null,
      "outputs": [
        {
          "output_type": "execute_result",
          "data": {
            "text/plain": [
              "(141596, 20)"
            ]
          },
          "metadata": {},
          "execution_count": 112
        }
      ]
    },
    {
      "cell_type": "markdown",
      "source": [
        "**Simple Model:**\n",
        "\n",
        "Build a simple model using Linear Regressor to predict the closure time of incidents.\n",
        "\n",
        "This is a simple model that provides a point of comparison for more complex models, also compare with the Baseline Model"
      ],
      "metadata": {
        "id": "GMytjW5gNgiq"
      }
    },
    {
      "cell_type": "code",
      "source": [
        "# Split data into train and test sets\n",
        "# X_train, X_test, y_train, y_test = train_test_split(X, y, test_size=0.2, random_state=42)\n",
        "\n",
        "# Simple Model (Linear Regression)\n",
        "simple_model = LinearRegression()\n",
        "simple_model.fit(X_train, y_train)\n",
        "\n"
      ],
      "metadata": {
        "colab": {
          "base_uri": "https://localhost:8080/",
          "height": 75
        },
        "id": "Dimc5T2FNf_i",
        "outputId": "1e38f9cf-69f9-4d19-c5fa-2a3af36ded1f"
      },
      "execution_count": null,
      "outputs": [
        {
          "output_type": "execute_result",
          "data": {
            "text/plain": [
              "LinearRegression()"
            ],
            "text/html": [
              "<style>#sk-container-id-1 {color: black;}#sk-container-id-1 pre{padding: 0;}#sk-container-id-1 div.sk-toggleable {background-color: white;}#sk-container-id-1 label.sk-toggleable__label {cursor: pointer;display: block;width: 100%;margin-bottom: 0;padding: 0.3em;box-sizing: border-box;text-align: center;}#sk-container-id-1 label.sk-toggleable__label-arrow:before {content: \"▸\";float: left;margin-right: 0.25em;color: #696969;}#sk-container-id-1 label.sk-toggleable__label-arrow:hover:before {color: black;}#sk-container-id-1 div.sk-estimator:hover label.sk-toggleable__label-arrow:before {color: black;}#sk-container-id-1 div.sk-toggleable__content {max-height: 0;max-width: 0;overflow: hidden;text-align: left;background-color: #f0f8ff;}#sk-container-id-1 div.sk-toggleable__content pre {margin: 0.2em;color: black;border-radius: 0.25em;background-color: #f0f8ff;}#sk-container-id-1 input.sk-toggleable__control:checked~div.sk-toggleable__content {max-height: 200px;max-width: 100%;overflow: auto;}#sk-container-id-1 input.sk-toggleable__control:checked~label.sk-toggleable__label-arrow:before {content: \"▾\";}#sk-container-id-1 div.sk-estimator input.sk-toggleable__control:checked~label.sk-toggleable__label {background-color: #d4ebff;}#sk-container-id-1 div.sk-label input.sk-toggleable__control:checked~label.sk-toggleable__label {background-color: #d4ebff;}#sk-container-id-1 input.sk-hidden--visually {border: 0;clip: rect(1px 1px 1px 1px);clip: rect(1px, 1px, 1px, 1px);height: 1px;margin: -1px;overflow: hidden;padding: 0;position: absolute;width: 1px;}#sk-container-id-1 div.sk-estimator {font-family: monospace;background-color: #f0f8ff;border: 1px dotted black;border-radius: 0.25em;box-sizing: border-box;margin-bottom: 0.5em;}#sk-container-id-1 div.sk-estimator:hover {background-color: #d4ebff;}#sk-container-id-1 div.sk-parallel-item::after {content: \"\";width: 100%;border-bottom: 1px solid gray;flex-grow: 1;}#sk-container-id-1 div.sk-label:hover label.sk-toggleable__label {background-color: #d4ebff;}#sk-container-id-1 div.sk-serial::before {content: \"\";position: absolute;border-left: 1px solid gray;box-sizing: border-box;top: 0;bottom: 0;left: 50%;z-index: 0;}#sk-container-id-1 div.sk-serial {display: flex;flex-direction: column;align-items: center;background-color: white;padding-right: 0.2em;padding-left: 0.2em;position: relative;}#sk-container-id-1 div.sk-item {position: relative;z-index: 1;}#sk-container-id-1 div.sk-parallel {display: flex;align-items: stretch;justify-content: center;background-color: white;position: relative;}#sk-container-id-1 div.sk-item::before, #sk-container-id-1 div.sk-parallel-item::before {content: \"\";position: absolute;border-left: 1px solid gray;box-sizing: border-box;top: 0;bottom: 0;left: 50%;z-index: -1;}#sk-container-id-1 div.sk-parallel-item {display: flex;flex-direction: column;z-index: 1;position: relative;background-color: white;}#sk-container-id-1 div.sk-parallel-item:first-child::after {align-self: flex-end;width: 50%;}#sk-container-id-1 div.sk-parallel-item:last-child::after {align-self: flex-start;width: 50%;}#sk-container-id-1 div.sk-parallel-item:only-child::after {width: 0;}#sk-container-id-1 div.sk-dashed-wrapped {border: 1px dashed gray;margin: 0 0.4em 0.5em 0.4em;box-sizing: border-box;padding-bottom: 0.4em;background-color: white;}#sk-container-id-1 div.sk-label label {font-family: monospace;font-weight: bold;display: inline-block;line-height: 1.2em;}#sk-container-id-1 div.sk-label-container {text-align: center;}#sk-container-id-1 div.sk-container {/* jupyter's `normalize.less` sets `[hidden] { display: none; }` but bootstrap.min.css set `[hidden] { display: none !important; }` so we also need the `!important` here to be able to override the default hidden behavior on the sphinx rendered scikit-learn.org. See: https://github.com/scikit-learn/scikit-learn/issues/21755 */display: inline-block !important;position: relative;}#sk-container-id-1 div.sk-text-repr-fallback {display: none;}</style><div id=\"sk-container-id-1\" class=\"sk-top-container\"><div class=\"sk-text-repr-fallback\"><pre>LinearRegression()</pre><b>In a Jupyter environment, please rerun this cell to show the HTML representation or trust the notebook. <br />On GitHub, the HTML representation is unable to render, please try loading this page with nbviewer.org.</b></div><div class=\"sk-container\" hidden><div class=\"sk-item\"><div class=\"sk-estimator sk-toggleable\"><input class=\"sk-toggleable__control sk-hidden--visually\" id=\"sk-estimator-id-1\" type=\"checkbox\" checked><label for=\"sk-estimator-id-1\" class=\"sk-toggleable__label sk-toggleable__label-arrow\">LinearRegression</label><div class=\"sk-toggleable__content\"><pre>LinearRegression()</pre></div></div></div></div></div>"
            ]
          },
          "metadata": {},
          "execution_count": 236
        }
      ]
    },
    {
      "cell_type": "code",
      "source": [
        "# Predict and evaluate the Linear Regression model\n",
        "y_pred_simple = simple_model.predict(X_test)\n",
        "simple_mae = mean_absolute_error(y_test, y_pred_simple)\n",
        "simple_mse = mean_squared_error(y_test, y_pred_simple)\n",
        "\n",
        "print(f\"Simple Model (Linear Regression) - MAE: {simple_mae}\")\n",
        "print(f\"Simple Model (Linear Regression) - MSE: {simple_mse}\")"
      ],
      "metadata": {
        "colab": {
          "base_uri": "https://localhost:8080/"
        },
        "id": "gBcsstYsKVuq",
        "outputId": "975c123e-0ea0-4b96-fc45-437a250e12e6"
      },
      "execution_count": null,
      "outputs": [
        {
          "output_type": "stream",
          "name": "stdout",
          "text": [
            "Simple Model (Linear Regression) - MAE: 39.34254300949845\n",
            "Simple Model (Linear Regression) - MSE: 4400.5739056999655\n"
          ]
        }
      ]
    },
    {
      "cell_type": "code",
      "source": [
        "# Comparison of the Baseline model and Simple model\n",
        "improvement_mae = baseline_mae - simple_mae\n",
        "improvement_mse = baseline_mse - simple_mse\n",
        "\n",
        "print(f\"Improvement in MAE: {improvement_mae}\")\n",
        "print(f\"Improvement in MSE: {improvement_mse}\")"
      ],
      "metadata": {
        "colab": {
          "base_uri": "https://localhost:8080/"
        },
        "id": "Uz1_I02kKboA",
        "outputId": "3be59200-eeaa-4397-caa9-dac2edaedd80"
      },
      "execution_count": null,
      "outputs": [
        {
          "output_type": "stream",
          "name": "stdout",
          "text": [
            "Improvement in MAE: 12.78503467411737\n",
            "Improvement in MSE: 786.7002821531414\n"
          ]
        }
      ]
    },
    {
      "cell_type": "markdown",
      "source": [
        "**Summary on Baseline and Simple model comparision:**\n",
        "\n",
        "The values Improvement in MAE: 12.78503467411737 and Improvement in MSE: 786.7002821531414 indicate how much better the simple model (Linear Regression) performs compared to the baseline model (Dummy Regressor) in terms of prediction accuracy.\n",
        "\n",
        "*MAE Improvement:* The reduction of the average prediction error by 12.785 units is a substantial gain in prediction accuracy. This suggests that the simple model is significantly more reliable for day-to-day predictions compared to the baseline.\n",
        "\n",
        "*MSE Improvement:*  A large reduction in MSE (by 786.7 units) indicates that the simple model is much better at reducing large prediction errors compared to the baseline model. This is important in cases where large errors are especially costly or undesirable.\n",
        "\n",
        "**Conclusion:**\n",
        "The improvements in both MAE and MSE show that the simple model (Linear Regression) performs much better than the baseline model (Dummy Regressor). It suggests that the Linear Regression model is more suitable for predicting the target variable (incident closure time, in this case), leading to more accurate and reliable predictions"
      ],
      "metadata": {
        "id": "qVcZr81KLMjU"
      }
    },
    {
      "cell_type": "code",
      "source": [],
      "metadata": {
        "id": "2ujz6RUAL7pl"
      },
      "execution_count": null,
      "outputs": []
    },
    {
      "cell_type": "code",
      "source": [],
      "metadata": {
        "id": "FQMjuUAHLjhV"
      },
      "execution_count": null,
      "outputs": []
    }
  ]
}